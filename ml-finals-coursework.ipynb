{
 "cells": [
  {
   "cell_type": "markdown",
   "id": "68492aae-8831-44cf-b35c-bc33d8ff7e8d",
   "metadata": {},
   "source": [
    "<div class=\"alert\">  \n",
    "    <center><h1><strong>CM-3015 Machine Learning and Neural Networks finals: Training a model using DQN</strong></h1></center>"
   ]
  },
  {
   "cell_type": "markdown",
   "id": "2719cdbd-fdb8-453e-a8df-10e18ed53202",
   "metadata": {},
   "source": [
    "## Summary"
   ]
  },
  {
   "cell_type": "code",
   "execution_count": null,
   "id": "612fe00b-f973-4fbb-8db9-9740893849a3",
   "metadata": {},
   "outputs": [],
   "source": []
  },
  {
   "cell_type": "markdown",
   "id": "cccfe55d-391a-477e-bf69-627236195857",
   "metadata": {},
   "source": [
    "<div class=\"alert alert-block alert-info\">  \n",
    "    <center><h2><strong>Problem definition and dataset loading</strong></h2></center>"
   ]
  },
  {
   "cell_type": "markdown",
   "id": "0f26eff3-14eb-484e-9b5a-ab4ac3068b19",
   "metadata": {},
   "source": [
    "<div class=\"alert alert-block alert-warning\">  \n",
    "<b>Define the problem at hand and the data on which we’ll train. Collect this data, potentially annotate with labels (supervised learning). </b> \n",
    "<hr>\n",
    "<ul>\n",
    "    <li>1. What is the problem we are tackling? Text classification using Deep Learning and the Reuters dataset.</li>\n",
    "    <li>1. How are we measuring success? Accuracy and function loss.</li>\n",
    "</ul>\n",
    "    \n",
    "<hr>\n",
    "<b>Source of Data: </b> \n",
    "<hr> \n",
    " <a href=\"https://paperswithcode.com/dataset/liar\">https://paperswithcode.com/dataset/liar</a>\n",
    "   \n",
    "</div>"
   ]
  },
  {
   "cell_type": "code",
   "execution_count": 83,
   "id": "e38970a9-d21b-4002-8ddf-b037ec5d51f9",
   "metadata": {},
   "outputs": [],
   "source": [
    "import numpy as np\n",
    "import tensorflow as tf\n",
    "from tensorflow.keras.datasets import reuters\n",
    "from tensorflow.keras import layers, models\n",
    "from tensorflow.keras.layers import TextVectorization\n",
    "\n",
    "# Load the Reuters dataset\n",
    "(train_data, train_labels), (test_data, test_labels) = reuters.load_data(num_words=10000)"
   ]
  },
  {
   "cell_type": "markdown",
   "id": "6d4836e8-c061-4b93-8f5c-32096ea74187",
   "metadata": {},
   "source": [
    "<div class=\"alert alert-block alert-info\">  \n",
    "    <center><h2><strong>Preprocessing the dataset</strong></h2></center>"
   ]
  },
  {
   "cell_type": "markdown",
   "id": "e9bf52d4-1651-4b5d-a1ce-5df317b93b81",
   "metadata": {},
   "source": [
    "<div class=\"alert alert-block alert-warning\">  \n",
    "<b>Summary of the section </b> \n",
    "<hr>\n",
    "<ul>\n",
    "    <ul> Vectorization:\n",
    "    <li>1.Decodes the numerical sequences back into text using the dataset's word index. </li>\n",
    "    <li>2.Uses TextVectorization to tokenize and vectorize the dataset into fixed-length sequences.. </li>\n",
    "    <li>3.Returns vectorized data that can be used in deep learning models. </li>\n",
    "</ul>\n",
    "    \n",
    "<hr>\n",
    "<b>Source of Data: </b> \n",
    "<hr> \n",
    " <a href=\"https://paperswithcode.com/dataset/liar\">https://paperswithcode.com/dataset/liar</a>\n",
    "   \n",
    "</div>"
   ]
  },
  {
   "cell_type": "code",
   "execution_count": 84,
   "id": "b4fd72a2-3253-4fef-9b76-d13597b15732",
   "metadata": {},
   "outputs": [],
   "source": [
    "# Helper function for vectorizing the data input\n",
    "from tensorflow.keras.utils import to_categorical\n",
    "\n",
    "# One-hot encode the sequences (vectorizing the input data)\n",
    "def vectorize_sequences(sequences, dimension=10000):\n",
    "    results = np.zeros((len(sequences), dimension))\n",
    "    for i, sequence in enumerate(sequences):\n",
    "        results[i, sequence] = 1.0  # Set specific indices to 1s\n",
    "    return results"
   ]
  },
  {
   "cell_type": "code",
   "execution_count": 85,
   "id": "bd67327a-9c2c-402e-8a81-471f244786e9",
   "metadata": {},
   "outputs": [],
   "source": [
    "# One-hot encode the labels\n",
    "\n",
    "vectorized_train_data = vectorize_sequences(train_data)\n",
    "vectorized_test_data = vectorize_sequences(test_data)\n",
    "\n",
    "# One-hot encode the output labels (categorical labels)\n",
    "vectorized_train_labels = to_categorical(train_labels)\n",
    "vectorized_test_labels = to_categorical(test_labels)"
   ]
  },
  {
   "cell_type": "markdown",
   "id": "ef5a8c1d-464f-4ab2-a046-007b5e535882",
   "metadata": {},
   "source": [
    "<div class=\"alert alert-block alert-info\">  \n",
    "    <center><h2><strong>Building the baseline model</strong></h2></center>"
   ]
  },
  {
   "cell_type": "markdown",
   "id": "e1471398-dae0-4720-8c2b-076001b722d7",
   "metadata": {},
   "source": [
    "<div class=\"alert alert-block alert-warning\">  \n",
    "<b>Summary of the section </b> \n",
    "<hr>\n",
    "Here we will be building our model ...\n",
    "<hr>\n"
   ]
  },
  {
   "cell_type": "code",
   "execution_count": 86,
   "id": "74d3cc92-bde3-4bf7-bd94-8bfb414a5724",
   "metadata": {},
   "outputs": [],
   "source": [
    "# Helper functions for building the model\n",
    "\n",
    "from tensorflow.keras import models\n",
    "from tensorflow.keras import layers\n",
    "\n",
    "# Define the model\n",
    "def build_model():\n",
    "    model = models.Sequential()\n",
    "    model.add(layers.Dense(64, activation=\"relu\", input_shape=(10000,)))\n",
    "    model.add(layers.Dense(64, activation=\"relu\"))\n",
    "    model.add(layers.Dense(46, activation=\"softmax\"))  # 46 classes in the dataset\n",
    "    model.compile(optimizer=\"adam\", loss=\"categorical_crossentropy\", metrics=[\"accuracy\"])\n",
    "    return model\n",
    "\n",
    "def print_layer_tensor_shape(layer):\n",
    "    weight_params = model.layers[layer].get_weights()[0]\n",
    "    bias_params = model.layers[layer].get_weights()[1]\n",
    "    print(layer, \"\\t\", weight_params.shape, \"\\t\", bias_params.shape)"
   ]
  },
  {
   "cell_type": "code",
   "execution_count": 87,
   "id": "c710977e-9eff-4e33-b90c-30dc4f5c08dc",
   "metadata": {},
   "outputs": [
    {
     "data": {
      "text/html": [
       "<pre style=\"white-space:pre;overflow-x:auto;line-height:normal;font-family:Menlo,'DejaVu Sans Mono',consolas,'Courier New',monospace\"><span style=\"font-weight: bold\">Model: \"sequential_4\"</span>\n",
       "</pre>\n"
      ],
      "text/plain": [
       "\u001b[1mModel: \"sequential_4\"\u001b[0m\n"
      ]
     },
     "metadata": {},
     "output_type": "display_data"
    },
    {
     "data": {
      "text/html": [
       "<pre style=\"white-space:pre;overflow-x:auto;line-height:normal;font-family:Menlo,'DejaVu Sans Mono',consolas,'Courier New',monospace\">┏━━━━━━━━━━━━━━━━━━━━━━━━━━━━━━━━━┳━━━━━━━━━━━━━━━━━━━━━━━━┳━━━━━━━━━━━━━━━┓\n",
       "┃<span style=\"font-weight: bold\"> Layer (type)                    </span>┃<span style=\"font-weight: bold\"> Output Shape           </span>┃<span style=\"font-weight: bold\">       Param # </span>┃\n",
       "┡━━━━━━━━━━━━━━━━━━━━━━━━━━━━━━━━━╇━━━━━━━━━━━━━━━━━━━━━━━━╇━━━━━━━━━━━━━━━┩\n",
       "│ dense_12 (<span style=\"color: #0087ff; text-decoration-color: #0087ff\">Dense</span>)                │ (<span style=\"color: #00d7ff; text-decoration-color: #00d7ff\">None</span>, <span style=\"color: #00af00; text-decoration-color: #00af00\">64</span>)             │       <span style=\"color: #00af00; text-decoration-color: #00af00\">640,064</span> │\n",
       "├─────────────────────────────────┼────────────────────────┼───────────────┤\n",
       "│ dense_13 (<span style=\"color: #0087ff; text-decoration-color: #0087ff\">Dense</span>)                │ (<span style=\"color: #00d7ff; text-decoration-color: #00d7ff\">None</span>, <span style=\"color: #00af00; text-decoration-color: #00af00\">64</span>)             │         <span style=\"color: #00af00; text-decoration-color: #00af00\">4,160</span> │\n",
       "├─────────────────────────────────┼────────────────────────┼───────────────┤\n",
       "│ dense_14 (<span style=\"color: #0087ff; text-decoration-color: #0087ff\">Dense</span>)                │ (<span style=\"color: #00d7ff; text-decoration-color: #00d7ff\">None</span>, <span style=\"color: #00af00; text-decoration-color: #00af00\">46</span>)             │         <span style=\"color: #00af00; text-decoration-color: #00af00\">2,990</span> │\n",
       "└─────────────────────────────────┴────────────────────────┴───────────────┘\n",
       "</pre>\n"
      ],
      "text/plain": [
       "┏━━━━━━━━━━━━━━━━━━━━━━━━━━━━━━━━━┳━━━━━━━━━━━━━━━━━━━━━━━━┳━━━━━━━━━━━━━━━┓\n",
       "┃\u001b[1m \u001b[0m\u001b[1mLayer (type)                   \u001b[0m\u001b[1m \u001b[0m┃\u001b[1m \u001b[0m\u001b[1mOutput Shape          \u001b[0m\u001b[1m \u001b[0m┃\u001b[1m \u001b[0m\u001b[1m      Param #\u001b[0m\u001b[1m \u001b[0m┃\n",
       "┡━━━━━━━━━━━━━━━━━━━━━━━━━━━━━━━━━╇━━━━━━━━━━━━━━━━━━━━━━━━╇━━━━━━━━━━━━━━━┩\n",
       "│ dense_12 (\u001b[38;5;33mDense\u001b[0m)                │ (\u001b[38;5;45mNone\u001b[0m, \u001b[38;5;34m64\u001b[0m)             │       \u001b[38;5;34m640,064\u001b[0m │\n",
       "├─────────────────────────────────┼────────────────────────┼───────────────┤\n",
       "│ dense_13 (\u001b[38;5;33mDense\u001b[0m)                │ (\u001b[38;5;45mNone\u001b[0m, \u001b[38;5;34m64\u001b[0m)             │         \u001b[38;5;34m4,160\u001b[0m │\n",
       "├─────────────────────────────────┼────────────────────────┼───────────────┤\n",
       "│ dense_14 (\u001b[38;5;33mDense\u001b[0m)                │ (\u001b[38;5;45mNone\u001b[0m, \u001b[38;5;34m46\u001b[0m)             │         \u001b[38;5;34m2,990\u001b[0m │\n",
       "└─────────────────────────────────┴────────────────────────┴───────────────┘\n"
      ]
     },
     "metadata": {},
     "output_type": "display_data"
    },
    {
     "data": {
      "text/html": [
       "<pre style=\"white-space:pre;overflow-x:auto;line-height:normal;font-family:Menlo,'DejaVu Sans Mono',consolas,'Courier New',monospace\"><span style=\"font-weight: bold\"> Total params: </span><span style=\"color: #00af00; text-decoration-color: #00af00\">647,214</span> (2.47 MB)\n",
       "</pre>\n"
      ],
      "text/plain": [
       "\u001b[1m Total params: \u001b[0m\u001b[38;5;34m647,214\u001b[0m (2.47 MB)\n"
      ]
     },
     "metadata": {},
     "output_type": "display_data"
    },
    {
     "data": {
      "text/html": [
       "<pre style=\"white-space:pre;overflow-x:auto;line-height:normal;font-family:Menlo,'DejaVu Sans Mono',consolas,'Courier New',monospace\"><span style=\"font-weight: bold\"> Trainable params: </span><span style=\"color: #00af00; text-decoration-color: #00af00\">647,214</span> (2.47 MB)\n",
       "</pre>\n"
      ],
      "text/plain": [
       "\u001b[1m Trainable params: \u001b[0m\u001b[38;5;34m647,214\u001b[0m (2.47 MB)\n"
      ]
     },
     "metadata": {},
     "output_type": "display_data"
    },
    {
     "data": {
      "text/html": [
       "<pre style=\"white-space:pre;overflow-x:auto;line-height:normal;font-family:Menlo,'DejaVu Sans Mono',consolas,'Courier New',monospace\"><span style=\"font-weight: bold\"> Non-trainable params: </span><span style=\"color: #00af00; text-decoration-color: #00af00\">0</span> (0.00 B)\n",
       "</pre>\n"
      ],
      "text/plain": [
       "\u001b[1m Non-trainable params: \u001b[0m\u001b[38;5;34m0\u001b[0m (0.00 B)\n"
      ]
     },
     "metadata": {},
     "output_type": "display_data"
    }
   ],
   "source": [
    "# Building the model\n",
    "\n",
    "model = build_model()\n",
    "model.summary()"
   ]
  },
  {
   "cell_type": "markdown",
   "id": "c7ccd62f-1d4a-43b1-9386-b76057ccc402",
   "metadata": {},
   "source": [
    "<div class=\"alert alert-block alert-info\">  \n",
    "    <center><h2><strong>Training and testing</strong></h2></center>"
   ]
  },
  {
   "cell_type": "markdown",
   "id": "ef33b354-b8be-4abb-8c11-62b00b72d2c0",
   "metadata": {},
   "source": [
    "<div class=\"alert alert-block alert-warning\">  \n",
    "<b>Summary of the section </b> \n",
    "<hr>\n",
    "✅ Fixed the Output Layer: The original code had Dense(64, activation=\"softmax\"), but the Reuters dataset has 46 categories, so I updated it to Dense(46, activation=\"softmax\").\n",
    "✅ Used to_categorical(): This applies one-hot encoding to labels.\n",
    "✅ Added Model Compilation & Training: Used \"adam\" optimizer and \"categorical_crossentropy\" since it's a multi-class classification task.\n",
    "✅ Added Model Evaluation: Prints test accuracy after training.\n",
    "<hr>\n"
   ]
  },
  {
   "cell_type": "code",
   "execution_count": 88,
   "id": "1420cc89-d5d9-464f-a1b2-c25a33af1159",
   "metadata": {},
   "outputs": [
    {
     "name": "stdout",
     "output_type": "stream",
     "text": [
      "Epoch 1/20\n",
      "\u001b[1m18/18\u001b[0m \u001b[32m━━━━━━━━━━━━━━━━━━━━\u001b[0m\u001b[37m\u001b[0m \u001b[1m0s\u001b[0m 13ms/step - accuracy: 0.3268 - loss: 3.5083 - val_accuracy: 0.5873 - val_loss: 2.3057\n",
      "Epoch 2/20\n",
      "\u001b[1m18/18\u001b[0m \u001b[32m━━━━━━━━━━━━━━━━━━━━\u001b[0m\u001b[37m\u001b[0m \u001b[1m0s\u001b[0m 8ms/step - accuracy: 0.6323 - loss: 1.9345 - val_accuracy: 0.6776 - val_loss: 1.5286\n",
      "Epoch 3/20\n",
      "\u001b[1m18/18\u001b[0m \u001b[32m━━━━━━━━━━━━━━━━━━━━\u001b[0m\u001b[37m\u001b[0m \u001b[1m0s\u001b[0m 8ms/step - accuracy: 0.7300 - loss: 1.2869 - val_accuracy: 0.7213 - val_loss: 1.2662\n",
      "Epoch 4/20\n",
      "\u001b[1m18/18\u001b[0m \u001b[32m━━━━━━━━━━━━━━━━━━━━\u001b[0m\u001b[37m\u001b[0m \u001b[1m0s\u001b[0m 8ms/step - accuracy: 0.7961 - loss: 0.9528 - val_accuracy: 0.7529 - val_loss: 1.1255\n",
      "Epoch 5/20\n",
      "\u001b[1m18/18\u001b[0m \u001b[32m━━━━━━━━━━━━━━━━━━━━\u001b[0m\u001b[37m\u001b[0m \u001b[1m0s\u001b[0m 8ms/step - accuracy: 0.8392 - loss: 0.7558 - val_accuracy: 0.7752 - val_loss: 1.0248\n",
      "Epoch 6/20\n",
      "\u001b[1m18/18\u001b[0m \u001b[32m━━━━━━━━━━━━━━━━━━━━\u001b[0m\u001b[37m\u001b[0m \u001b[1m0s\u001b[0m 8ms/step - accuracy: 0.8812 - loss: 0.5742 - val_accuracy: 0.7850 - val_loss: 0.9700\n",
      "Epoch 7/20\n",
      "\u001b[1m18/18\u001b[0m \u001b[32m━━━━━━━━━━━━━━━━━━━━\u001b[0m\u001b[37m\u001b[0m \u001b[1m0s\u001b[0m 8ms/step - accuracy: 0.9112 - loss: 0.4459 - val_accuracy: 0.7903 - val_loss: 0.9398\n",
      "Epoch 8/20\n",
      "\u001b[1m18/18\u001b[0m \u001b[32m━━━━━━━━━━━━━━━━━━━━\u001b[0m\u001b[37m\u001b[0m \u001b[1m0s\u001b[0m 8ms/step - accuracy: 0.9304 - loss: 0.3445 - val_accuracy: 0.7956 - val_loss: 0.9378\n",
      "Epoch 9/20\n",
      "\u001b[1m18/18\u001b[0m \u001b[32m━━━━━━━━━━━━━━━━━━━━\u001b[0m\u001b[37m\u001b[0m \u001b[1m0s\u001b[0m 8ms/step - accuracy: 0.9449 - loss: 0.2753 - val_accuracy: 0.7939 - val_loss: 0.9330\n",
      "Epoch 10/20\n",
      "\u001b[1m18/18\u001b[0m \u001b[32m━━━━━━━━━━━━━━━━━━━━\u001b[0m\u001b[37m\u001b[0m \u001b[1m0s\u001b[0m 8ms/step - accuracy: 0.9478 - loss: 0.2310 - val_accuracy: 0.7943 - val_loss: 0.9492\n",
      "Epoch 11/20\n",
      "\u001b[1m18/18\u001b[0m \u001b[32m━━━━━━━━━━━━━━━━━━━━\u001b[0m\u001b[37m\u001b[0m \u001b[1m0s\u001b[0m 8ms/step - accuracy: 0.9558 - loss: 0.1820 - val_accuracy: 0.7974 - val_loss: 0.9578\n",
      "Epoch 12/20\n",
      "\u001b[1m18/18\u001b[0m \u001b[32m━━━━━━━━━━━━━━━━━━━━\u001b[0m\u001b[37m\u001b[0m \u001b[1m0s\u001b[0m 8ms/step - accuracy: 0.9552 - loss: 0.1579 - val_accuracy: 0.7983 - val_loss: 0.9739\n",
      "Epoch 13/20\n",
      "\u001b[1m18/18\u001b[0m \u001b[32m━━━━━━━━━━━━━━━━━━━━\u001b[0m\u001b[37m\u001b[0m \u001b[1m0s\u001b[0m 8ms/step - accuracy: 0.9605 - loss: 0.1414 - val_accuracy: 0.7970 - val_loss: 0.9861\n",
      "Epoch 14/20\n",
      "\u001b[1m18/18\u001b[0m \u001b[32m━━━━━━━━━━━━━━━━━━━━\u001b[0m\u001b[37m\u001b[0m \u001b[1m0s\u001b[0m 8ms/step - accuracy: 0.9600 - loss: 0.1318 - val_accuracy: 0.7979 - val_loss: 1.0137\n",
      "Epoch 15/20\n",
      "\u001b[1m18/18\u001b[0m \u001b[32m━━━━━━━━━━━━━━━━━━━━\u001b[0m\u001b[37m\u001b[0m \u001b[1m0s\u001b[0m 8ms/step - accuracy: 0.9624 - loss: 0.1189 - val_accuracy: 0.8014 - val_loss: 1.0144\n",
      "Epoch 16/20\n",
      "\u001b[1m18/18\u001b[0m \u001b[32m━━━━━━━━━━━━━━━━━━━━\u001b[0m\u001b[37m\u001b[0m \u001b[1m0s\u001b[0m 8ms/step - accuracy: 0.9631 - loss: 0.1098 - val_accuracy: 0.7947 - val_loss: 1.0577\n",
      "Epoch 17/20\n",
      "\u001b[1m18/18\u001b[0m \u001b[32m━━━━━━━━━━━━━━━━━━━━\u001b[0m\u001b[37m\u001b[0m \u001b[1m0s\u001b[0m 8ms/step - accuracy: 0.9633 - loss: 0.1082 - val_accuracy: 0.7921 - val_loss: 1.0479\n",
      "Epoch 18/20\n",
      "\u001b[1m18/18\u001b[0m \u001b[32m━━━━━━━━━━━━━━━━━━━━\u001b[0m\u001b[37m\u001b[0m \u001b[1m0s\u001b[0m 8ms/step - accuracy: 0.9606 - loss: 0.1081 - val_accuracy: 0.7970 - val_loss: 1.0894\n",
      "Epoch 19/20\n",
      "\u001b[1m18/18\u001b[0m \u001b[32m━━━━━━━━━━━━━━━━━━━━\u001b[0m\u001b[37m\u001b[0m \u001b[1m0s\u001b[0m 8ms/step - accuracy: 0.9618 - loss: 0.0993 - val_accuracy: 0.8001 - val_loss: 1.0704\n",
      "Epoch 20/20\n",
      "\u001b[1m18/18\u001b[0m \u001b[32m━━━━━━━━━━━━━━━━━━━━\u001b[0m\u001b[37m\u001b[0m \u001b[1m0s\u001b[0m 8ms/step - accuracy: 0.9625 - loss: 0.0971 - val_accuracy: 0.7930 - val_loss: 1.1017\n",
      "\u001b[1m71/71\u001b[0m \u001b[32m━━━━━━━━━━━━━━━━━━━━\u001b[0m\u001b[37m\u001b[0m \u001b[1m0s\u001b[0m 521us/step - accuracy: 0.7993 - loss: 1.0871\n",
      "Test accuracy: 0.7930\n"
     ]
    }
   ],
   "source": [
    "import numpy as np\n",
    "import tensorflow as tf\n",
    "from tensorflow.keras import models, layers\n",
    "from tensorflow.keras.datasets import reuters\n",
    "from tensorflow.keras.utils import to_categorical\n",
    "\n",
    "history = model.fit(vectorized_train_data, vectorized_train_labels, epochs=20, \n",
    "                    batch_size=512, \n",
    "                    validation_data=(vectorized_test_data, vectorized_test_labels))\n",
    "\n",
    "# Evaluate the model\n",
    "test_loss, test_acc = model.evaluate(vectorized_test_data, vectorized_test_labels)\n",
    "print(f\"Test accuracy: {test_acc:.4f}\")"
   ]
  },
  {
   "cell_type": "markdown",
   "id": "95c8086c-459e-4968-9e01-7c6fa03027c7",
   "metadata": {},
   "source": [
    "<div class=\"alert alert-block alert-info\">  \n",
    "    <center><h2><strong>Evaluation</strong></h2></center>"
   ]
  },
  {
   "cell_type": "markdown",
   "id": "22b678d5-c533-4b94-a5d0-371b4df1a53d",
   "metadata": {},
   "source": [
    "<div class=\"alert alert-block alert-warning\">  \n",
    "<b>How It Works: </b> \n",
    "<hr>\n",
    "Plots training values (e.g., loss or accuracy) using train_marker and train_label.\n",
    "Plots validation values with val_marker and val_label.\n",
    "Sets the title, x-axis, and y-axis labels.\n",
    "Displays the legend to differentiate training and validation.\n",
    "Calls plt.show() to render the plot.\n",
    "This function will correctly generate the training vs validation loss or accuracy graphs when used in your code! 🚀\n",
    "<hr>\n",
    "<div>"
   ]
  },
  {
   "cell_type": "code",
   "execution_count": 89,
   "id": "73bb8fa0-7b72-4e7c-a506-5aa244059ce7",
   "metadata": {},
   "outputs": [],
   "source": [
    "# Helper function for the results evaluation\n",
    "\n",
    "import matplotlib.pyplot as plt\n",
    "\n",
    "def plot_epochs(epochs, \n",
    "                train_values, train_marker, train_label, \n",
    "                val_values, val_marker, val_label, \n",
    "                title, xlabel, ylabel):\n",
    "    \"\"\"\n",
    "    Plots training and validation metrics over epochs.\n",
    "\n",
    "    Parameters:\n",
    "    epochs (list): List of epoch numbers.\n",
    "    train_values (list): Training metric values.\n",
    "    train_marker (str): Marker style for training plot.\n",
    "    train_label (str): Label for training plot.\n",
    "    val_values (list): Validation metric values.\n",
    "    val_marker (str): Marker style for validation plot.\n",
    "    val_label (str): Label for validation plot.\n",
    "    title (str): Title of the plot.\n",
    "    xlabel (str): Label for x-axis.\n",
    "    ylabel (str): Label for y-axis.\n",
    "    \"\"\"\n",
    "    plt.plot(epochs, train_values, train_marker, label=train_label)\n",
    "    plt.plot(epochs, val_values, val_marker, label=val_label)\n",
    "    plt.title(title)\n",
    "    plt.xlabel(xlabel)\n",
    "    plt.ylabel(ylabel)\n",
    "    plt.legend()\n",
    "    plt.show()"
   ]
  },
  {
   "cell_type": "code",
   "execution_count": 90,
   "id": "35cdf45b-4ce7-40d1-aa02-fefad657fc78",
   "metadata": {},
   "outputs": [
    {
     "data": {
      "image/png": "[encoded data removed]",
      "text/plain": [
       "<Figure size 640x480 with 1 Axes>"
      ]
     },
     "metadata": {},
     "output_type": "display_data"
    }
   ],
   "source": [
    "# Plotting the loss for training and validation\n",
    "\n",
    "loss = history.history['loss']\n",
    "val_loss = history.history['val_loss']\n",
    "\n",
    "plot_epochs(range(1, len(loss) + 1), \n",
    "            loss, \n",
    "            \"bo\", \"Training\", \n",
    "            val_loss, \"b\", \"Validation\", \n",
    "            \"Training and validation loss\", \n",
    "            \"Epochs\", \"Loss\")"
   ]
  },
  {
   "cell_type": "code",
   "execution_count": 91,
   "id": "c24b0fd3-a39a-4648-be08-824482c6d71c",
   "metadata": {},
   "outputs": [
    {
     "data": {
      "image/png": "[encoded data removed]",
      "text/plain": [
       "<Figure size 640x480 with 1 Axes>"
      ]
     },
     "metadata": {},
     "output_type": "display_data"
    }
   ],
   "source": [
    "# Plotting the accuracy for training and validation\n",
    "\n",
    "accuracy = history.history['accuracy']\n",
    "val_accuracy = history.history['val_accuracy']\n",
    "\n",
    "plot_epochs(range(1, len(loss) + 1), \n",
    "            accuracy, \n",
    "            \"bo\", \"Training\", \n",
    "            val_accuracy, \"b\", \"Validation\", \n",
    "            \"Training and validation accuracy\", \n",
    "            \"Epochs\", \"Loss\")"
   ]
  },
  {
   "cell_type": "code",
   "execution_count": 92,
   "id": "e892c854-acdc-40fd-bb5d-e11007ad4501",
   "metadata": {},
   "outputs": [
    {
     "data": {
      "image/png": "[encoded data removed]",
      "text/plain": [
       "<Figure size 640x480 with 1 Axes>"
      ]
     },
     "metadata": {},
     "output_type": "display_data"
    }
   ],
   "source": [
    "# Plotting the accuracy for training and validation\n",
    "\n",
    "plot_epochs(range(1, len(loss) + 1), \n",
    "            accuracy, \n",
    "            \"bo\", \"Training\", \n",
    "            val_accuracy, \"b\", \"Validation\", \n",
    "            \"Training and validation accuracy\", \n",
    "            \"Epochs\", \"Loss\")"
   ]
  },
  {
   "cell_type": "markdown",
   "id": "026bf32e-e816-45b6-8dd3-976a392f723b",
   "metadata": {},
   "source": [
    "<div class=\"alert alert-block alert-info\">  \n",
    "    <center><h2><strong>Improving on the baseline model</strong></h2></center>"
   ]
  },
  {
   "cell_type": "markdown",
   "id": "68d74b6d-90a1-4984-9f51-9f2133674bb2",
   "metadata": {},
   "source": [
    "<div class=\"alert alert-block alert-warning\">  \n",
    "<b>How It Works: </b> \n",
    "<hr>\n",
    "Choose an appropriate architecture (number of layers, neurons, activation functions).\n",
    "Select an optimizer and loss function suited to the task.\n",
    "<hr>\n",
    "<div>"
   ]
  },
  {
   "cell_type": "code",
   "execution_count": null,
   "id": "518ec47e-ae38-46dc-a99c-098d5d2b1f04",
   "metadata": {},
   "outputs": [],
   "source": []
  },
  {
   "cell_type": "markdown",
   "id": "febb328d-3a95-438a-a8e9-30c1322088c5",
   "metadata": {},
   "source": [
    "<div class=\"alert alert-block alert-info\">  \n",
    "    <center><h2><strong>Model tuning</strong></h2></center>"
   ]
  },
  {
   "cell_type": "markdown",
   "id": "e878d6f5-32bb-4554-945b-fefd7431f069",
   "metadata": {},
   "source": [
    "<div class=\"alert alert-block alert-warning\">  \n",
    "<b>How It Works: </b> \n",
    "<hr>\n",
    "Regularization techniques (Dropout, L1/L2).\n",
    "Experiment with hyperparameters (learning rate, batch size, etc.).\n",
    "<hr>\n",
    "<div>"
   ]
  },
  {
   "cell_type": "markdown",
   "id": "fc589a56-305c-4b78-808c-80b500aab8ce",
   "metadata": {},
   "source": [
    "<div class=\"alert alert-block alert-info\">  \n",
    "    <center><h2><strong>Predicting on new data</strong></h2></center>"
   ]
  },
  {
   "cell_type": "markdown",
   "id": "7083e233-587a-4156-821c-c57c25b038a3",
   "metadata": {},
   "source": [
    "<div class=\"alert alert-block alert-warning\">  \n",
    "<b>How It Works: </b> \n",
    "<hr>\n",
    "Load new unseen data: We take test samples from the Reuters dataset.\n",
    "Vectorize the sequences: Convert them into the same format as training data.\n",
    "Predict using the trained model: Outputs class probabilities (softmax values).\n",
    "Get the predicted class: Use np.argmax() to find the most likely class.\n",
    "Compare predictions to actual values: Check how well the model performs.\n",
    "This will allow you to predict the category of new news articles using the trained model.\n",
    "<hr>\n",
    "<div>"
   ]
  },
  {
   "cell_type": "code",
   "execution_count": 93,
   "id": "11ef13a4-8625-4a62-95d6-f4c1bfa77e36",
   "metadata": {},
   "outputs": [],
   "source": [
    "# Helper functions for prediction\n",
    "\n",
    "# Function to print all the mispredictions up until n\n",
    "def get_misprediction(n, x_test_texts, x_test_vectorized, y_test, predictions, predicted_classes):\n",
    "    if n  > len(y_test):\n",
    "        return None\n",
    "    \n",
    "    for i in range(n):\n",
    "        if predicted_classes[i] != y_test[i]:  # If prediction is incorrect\n",
    "            print(f\"Mispredicted Sample Found!\\nText: {x_test_texts[i]}\\nPredicted: {predicted_classes[i]}, Expected: {y_test[i]}\")\n"
   ]
  },
  {
   "cell_type": "code",
   "execution_count": 94,
   "id": "2a15d821-1439-4d19-abaa-b4df2835b3e7",
   "metadata": {},
   "outputs": [
    {
     "name": "stdout",
     "output_type": "stream",
     "text": [
      "\u001b[1m71/71\u001b[0m \u001b[32m━━━━━━━━━━━━━━━━━━━━\u001b[0m\u001b[37m\u001b[0m \u001b[1m0s\u001b[0m 521us/step\n",
      "Mispredicted Sample Found!\n",
      "Text: [1, 2768, 283, 122, 7, 4, 89, 544, 463, 29, 798, 748, 40, 85, 306, 28, 19, 59, 11, 82, 84, 22, 10, 1315, 19, 12, 11, 82, 52, 29, 283, 1135, 558, 2, 265, 2, 6607, 8, 6607, 118, 371, 10, 1503, 281, 4, 143, 4811, 760, 50, 2088, 225, 139, 683, 4, 48, 193, 862, 41, 967, 1999, 30, 1086, 36, 8, 28, 602, 19, 32, 11, 82, 5, 4, 89, 544, 463, 41, 30, 6273, 13, 260, 951, 6607, 8, 69, 1749, 18, 82, 41, 30, 306, 3342, 13, 4, 37, 38, 283, 555, 649, 18, 82, 13, 1721, 282, 9, 132, 18, 82, 41, 30, 385, 21, 4, 169, 76, 36, 8, 107, 4, 106, 524, 10, 295, 3825, 2, 2476, 6, 3684, 6940, 4, 1126, 41, 263, 84, 395, 649, 18, 82, 838, 1317, 4, 572, 4, 106, 13, 25, 595, 2445, 40, 85, 7369, 518, 5, 4, 1126, 51, 115, 680, 16, 6, 719, 250, 27, 429, 6607, 8, 6940, 114, 343, 84, 142, 20, 5, 1145, 1538, 4, 65, 494, 474, 27, 69, 445, 11, 1816, 6607, 8, 109, 181, 2768, 2, 62, 1810, 6, 624, 901, 6940, 107, 4, 1126, 34, 524, 4, 6940, 1126, 41, 447, 7, 1427, 13, 69, 251, 18, 872, 876, 1539, 468, 9063, 242, 5, 646, 27, 1888, 169, 283, 87, 9, 10, 2, 260, 182, 122, 678, 306, 13, 4, 99, 216, 7, 89, 544, 64, 85, 2333, 6, 195, 7254, 6337, 268, 609, 4, 195, 41, 1017, 2765, 2, 4, 73, 706, 2, 92, 4, 91, 3917, 36, 8, 51, 144, 23, 1858, 129, 564, 13, 269, 678, 115, 55, 866, 189, 814, 604, 838, 117, 380, 595, 951, 320, 4, 398, 57, 2233, 7411, 269, 274, 87, 6607, 8, 787, 283, 34, 596, 661, 5467, 13, 2362, 1816, 90, 2, 84, 22, 2202, 1816, 54, 748, 6607, 8, 87, 62, 6154, 84, 161, 5, 1208, 480, 4, 2, 416, 6, 538, 122, 115, 55, 129, 1104, 1445, 345, 389, 31, 4, 169, 76, 36, 8, 787, 398, 7, 4, 2, 1507, 64, 8862, 22, 125, 2, 9, 2876, 172, 399, 9, 2, 5206, 9, 2, 122, 36, 8, 6642, 172, 247, 100, 97, 6940, 34, 75, 477, 541, 4, 283, 182, 4, 2, 295, 301, 2, 125, 2, 6607, 8, 77, 57, 445, 283, 1998, 217, 31, 380, 704, 51, 77, 2, 509, 5, 476, 9, 2876, 122, 115, 853, 6, 1061, 52, 10, 2, 2, 1308, 5, 4, 283, 182, 36, 8, 5296, 114, 30, 531, 6, 6376, 9, 2470, 529, 13, 2, 2, 58, 529, 7, 2148, 2, 185, 1028, 240, 5296, 1028, 949, 657, 57, 6, 1046, 283, 36, 8, 6607, 8, 4, 2217, 34, 9177, 13, 10, 4910, 5, 4, 141, 283, 120, 50, 2877, 7, 1049, 43, 10, 181, 283, 734, 115, 55, 3356, 476, 6, 2195, 10, 73, 120, 50, 41, 6877, 169, 87, 6607, 8, 107, 144, 23, 129, 120, 169, 87, 33, 2409, 30, 1888, 1171, 161, 4, 294, 517, 23, 2, 25, 398, 9, 2060, 283, 21, 4, 236, 36, 8, 143, 169, 87, 641, 1569, 28, 69, 61, 376, 514, 90, 1249, 62, 2, 13, 4, 2217, 696, 122, 404, 2936, 22, 134, 6, 187, 514, 10, 1249, 107, 4, 96, 1043, 1569, 13, 10, 184, 28, 61, 376, 514, 268, 680, 4, 320, 6, 154, 6, 69, 160, 514, 10, 1249, 27, 4, 153, 5, 52, 29, 36, 8, 6607, 8, 612, 408, 10, 3133, 283, 76, 27, 1504, 31, 169, 951, 2, 122, 36, 8, 283, 236, 62, 641, 84, 618, 2, 22, 8417, 8409, 9, 274, 7322, 399, 7587, 51, 115, 55, 45, 4044, 31, 4, 490, 558, 36, 8, 224, 2, 115, 57, 85, 1655, 2671, 5, 283, 6, 4, 37, 38, 7, 1797, 185, 77, 4446, 4, 555, 298, 77, 240, 2, 7, 327, 652, 194, 8773, 6233, 34, 2, 5463, 4884, 1297, 6, 240, 260, 458, 87, 6, 134, 514, 10, 1249, 22, 196, 514, 4, 37, 38, 309, 213, 54, 207, 8577, 25, 134, 139, 89, 283, 494, 555, 22, 4, 2217, 6, 2172, 4278, 434, 835, 22, 3598, 3746, 434, 835, 7, 48, 6607, 8, 618, 225, 586, 333, 122, 572, 126, 2768, 1998, 62, 133, 6, 2458, 233, 28, 602, 188, 5, 4, 704, 1998, 62, 45, 885, 281, 4, 48, 193, 760, 36, 8, 115, 680, 78, 58, 109, 95, 6, 1732, 1516, 281, 4, 225, 760, 17, 12]\n",
      "Predicted: 4, Expected: 10\n",
      "Mispredicted Sample Found!\n",
      "Text: [1, 2, 2, 65, 9, 249, 1096, 8, 16, 515, 4, 211, 5, 881, 7, 78, 181, 65, 9, 249, 1441, 6, 56, 387, 280, 141, 81, 13, 360, 11, 15, 4, 49, 8, 16, 385, 69, 68, 327, 5, 25, 132, 20, 128, 7, 4, 6452, 3254, 9, 681, 2, 1441, 25, 78, 473, 814, 1110, 16, 8, 16, 529, 69, 119, 11, 15, 5, 4, 1154, 6, 2, 1679, 21, 25, 645, 4005, 975, 2170, 303, 1679, 464, 21, 4, 1004, 279, 11, 15, 5, 975, 57, 85, 2589, 457, 207, 448, 43, 10, 447, 16, 8, 4, 49, 8, 4, 123, 755, 62, 4198, 6, 960, 42, 2559, 5, 126, 231, 8326, 9, 42, 148, 5, 128, 6, 165, 44, 20, 22, 165, 70, 20, 457, 207, 1504, 16, 8, 4, 2, 2049, 96, 13, 19, 1340, 18, 1379, 34, 75, 717, 6, 132, 26, 22, 19, 132, 15, 4, 49, 8, 387, 280, 200, 6, 67, 4, 404, 5, 879, 122, 28, 4, 6452, 3254, 979, 17, 12]\n",
      "Predicted: 16, Expected: 4\n",
      "Mispredicted Sample Found!\n",
      "Text: [1, 470, 354, 2, 4231, 62, 2373, 509, 1687, 5138, 7, 4, 4893, 410, 4, 8178, 9, 2185, 9371, 7, 68, 5, 4, 2414, 9676, 1025, 7, 4, 4051, 13, 509, 206, 4, 8178, 166, 5, 4821, 8, 7, 5271, 9, 2774, 84, 6, 132, 1687, 62, 257, 6, 30, 8908, 7, 4, 4893, 9, 657, 4, 473, 5, 4, 2, 2, 62, 1465, 2125, 7, 4897, 250, 6, 4, 2, 1094, 2, 173, 8, 290, 9676, 662, 7, 4, 1033, 4051, 28, 4, 460, 65, 1843, 5, 2, 9, 2, 64, 2243, 77, 8, 859, 173, 7, 7212, 2774, 8, 4, 9676, 662, 7, 4, 4051, 62, 4, 2414, 13, 124, 206, 31, 1094, 4898, 10, 3274, 2598, 6, 933, 1564, 7, 4, 2308, 9334, 5, 4, 403, 5, 2, 50, 2, 5271, 9, 2774, 4, 4893, 23, 84, 6, 68, 2, 9764, 31, 2, 9, 2, 8030, 16, 172, 967, 2, 9652, 109, 4165, 274, 2185, 2, 173, 8, 859, 1190, 452, 4231, 91, 1671, 281, 4, 1438, 51, 10, 226, 499, 7, 9064, 114, 1099, 871, 6, 10, 4748, 4, 173, 8, 17, 12]\n",
      "Predicted: 13, Expected: 4\n",
      "Mispredicted Sample Found!\n",
      "Text: [1, 361, 372, 8, 77, 62, 325, 4105, 336, 5, 1605, 37, 412, 453, 1187, 229, 334, 13, 4, 867, 76, 4, 76, 1726, 6, 264, 2337, 18, 82, 95, 97, 2220, 4, 1004, 649, 18, 82, 554, 136, 4, 143, 334, 290, 126, 5, 4, 2820, 777, 2, 1386, 13, 954, 7, 4, 314, 912, 224, 4, 2370, 1128, 54, 429, 2, 18, 82, 5, 496, 1187, 229, 57, 85, 385, 593, 6, 4, 867, 76, 17, 12]\n",
      "Predicted: 1, Expected: 5\n",
      "Mispredicted Sample Found!\n",
      "Text: [1, 2, 149, 8, 16, 40, 813, 21, 10, 315, 18, 150, 295, 277, 1471, 377, 7, 2057, 31, 25, 375, 406, 5, 10, 2, 3713, 611, 5621, 10, 434, 277, 1548, 4, 49, 8, 382, 122, 28, 4, 611, 33, 624, 972, 17, 12]\n",
      "Predicted: 3, Expected: 23\n",
      "Mispredicted Sample Found!\n",
      "Text: [1, 56, 392, 2811, 387, 149, 8, 16, 625, 120, 7, 1186, 6, 337, 68, 11, 617, 79, 27, 583, 5, 443, 3728, 6, 679, 472, 44, 11, 15, 13, 65, 9, 249, 691, 4, 44, 47, 20, 1364, 5339, 1051, 1040, 1149, 617, 79, 33, 30, 1245, 250, 79, 9308, 823, 6, 131, 8374, 45, 5277, 27, 4, 49, 4, 79, 33, 30, 1051, 2, 92, 394, 172, 175, 79, 28, 42, 1279, 2630, 96, 5, 472, 132, 15, 10, 67, 92, 68, 29, 77, 33, 30, 5339, 28, 194, 216, 27, 4, 49, 28, 147, 15, 10, 67, 962, 4864, 1274, 17, 12]\n",
      "Predicted: 4, Expected: 20\n",
      "Mispredicted Sample Found!\n",
      "Text: [1, 346, 273, 1215, 284, 53, 352, 26, 14, 546, 26, 39, 19, 5327, 7818, 14, 19, 5242, 5024, 86, 597, 19, 11, 14, 440, 72, 11, 155, 230, 53, 892, 26, 14, 388, 26, 39, 12, 4435, 3811, 14, 12, 5134, 4701, 86, 1018, 19, 11, 14, 942, 61, 11, 17, 12]\n",
      "Predicted: 3, Expected: 1\n",
      "Mispredicted Sample Found!\n",
      "Text: [1, 9597, 204, 2, 1209, 4, 113, 101, 13, 577, 171, 13, 93, 63, 729, 28, 19, 5379, 934, 2376, 17, 12]\n",
      "Predicted: 19, Expected: 40\n",
      "Mispredicted Sample Found!\n",
      "Text: [1, 3157, 1262, 162, 281, 1271, 1555, 48, 1002, 2425, 5510, 82, 112, 3123, 3731, 82, 2235, 7, 4, 314, 105, 245, 4, 232, 1262, 166, 8, 898, 7, 82, 31, 5766, 285, 13, 4, 105, 245, 7, 4113, 777, 935, 1050, 3229, 2136, 4522, 2, 1262, 147, 5350, 502, 4922, 9, 935, 2, 132, 251, 747, 5137, 7179, 1262, 162, 1002, 119, 3732, 82, 7, 207, 48, 112, 102, 6740, 82, 7, 4, 314, 105, 139, 898, 7, 82, 31, 5766, 285, 13, 207, 105, 7, 4113, 777, 935, 187, 3961, 83, 4459, 2, 1262, 19, 4964, 19, 6384, 9, 935, 2, 12, 4374, 12, 6628, 4, 166, 8, 673, 3081, 13, 2, 935, 2, 7, 1279, 62, 43, 1240, 7, 82, 31, 5766, 285, 13, 105, 7, 4113, 1009, 735, 684, 445, 648, 677, 4331, 158, 451, 191, 639, 569, 196, 251, 4122, 2141, 63, 251, 32, 445, 2, 47, 698, 134, 251, 4458, 12, 628, 63, 451, 2609, 12, 18, 12, 18, 8558, 4608, 32, 628, 12, 677, 1344, 19, 980, 19, 677, 2, 2, 19, 639, 19, 677, 673, 3081, 13, 7366, 1262, 9, 2, 935, 2, 7, 1279, 7, 82, 31, 285, 13, 105, 7, 4113, 62, 214, 212, 544, 445, 1745, 980, 1009, 735, 124, 677, 296, 251, 17, 12]\n",
      "Predicted: 3, Expected: 15\n",
      "Mispredicted Sample Found!\n",
      "Text: [1, 4, 37, 38, 7982, 961, 101, 202, 6, 59, 59, 20, 7, 94, 22, 59, 61, 20, 7, 104, 4, 2307, 213, 8, 4, 536, 5, 358, 465, 7413, 1595, 138, 2684, 18, 54, 139, 92, 711, 10, 553, 3758, 18, 7, 104, 24, 34, 233, 22, 4, 384, 257, 3930, 18, 154, 7, 104, 4, 94, 961, 101, 34, 4, 1825, 224, 94, 1518, 16, 64, 1290, 729, 28, 59, 61, 20, 13, 109, 4760, 177, 254, 4, 94, 433, 4, 154, 7, 358, 465, 2, 34, 4, 8321, 224, 10, 433, 54, 252, 5, 388, 18, 4, 213, 8, 54, 2395, 961, 101, 34, 233, 22, 4, 61, 32, 20, 320, 7, 94, 48, 159, 7, 1595, 670, 7, 94, 51, 34, 3025, 97, 7, 329, 177, 31, 4, 629, 3638, 7, 571, 422, 4, 536, 5, 479, 814, 1595, 202, 844, 18, 7, 94, 184, 571, 814, 1595, 138, 3378, 18, 6, 1099, 4, 135, 1595, 7, 4, 2276, 1503, 5, 971, 6, 1745, 831, 11, 7, 94, 218, 9, 1260, 469, 683, 4, 473, 629, 7, 1595, 184, 901, 1427, 202, 27, 147, 18, 4, 305, 646, 121, 202, 6, 492, 63, 1384, 7, 94, 22, 352, 70, 1384, 7, 104, 4, 213, 8, 901, 1384, 202, 6, 279, 72, 90, 121, 22, 704, 32, 1384, 7, 104, 51, 6545, 1384, 333, 6, 12, 61, 22, 12, 59, 4, 2276, 1503, 5, 8502, 683, 4, 536, 5, 4046, 1415, 28, 61, 635, 11, 242, 5, 10, 646, 857, 5, 2038, 32, 11, 4, 536, 5, 7495, 885, 359, 216, 13, 168, 2445, 202, 7, 94, 6, 44, 684, 11, 22, 44, 965, 11, 7, 104, 4, 46, 5, 3720, 1595, 1410, 4, 94, 135, 6, 258, 258, 11, 1595, 9, 34, 3638, 7, 4711, 3707, 9, 1644, 901, 1167, 1427, 75, 1733, 4, 536, 5, 1595, 7, 4, 479, 814, 520, 997, 27, 425, 18, 92, 2018, 1529, 4, 213, 8, 921, 1427, 34, 736, 1014, 7, 94, 9, 40, 45, 5048, 194, 1066, 6758, 224, 4, 2212, 2617, 508, 7, 65, 9, 249, 1054, 7, 4, 99, 78, 2706, 5, 48, 100, 571, 422, 24, 333, 1595, 54, 139, 62, 313, 703, 9, 573, 1259, 17, 12]\n",
      "Predicted: 12, Expected: 34\n",
      "Mispredicted Sample Found!\n",
      "Text: [1, 4, 2047, 4952, 654, 1579, 6, 219, 410, 13, 716, 1972, 3127, 111, 1535, 1547, 210, 43, 10, 142, 9, 2, 1836, 2513, 50, 8, 25, 48, 338, 138, 360, 20, 16, 34, 4, 493, 3242, 29, 5, 74, 848, 13, 4, 73, 418, 267, 4574, 50, 34, 5982, 117, 251, 206, 301, 2, 48, 338, 138, 6, 3343, 11, 15, 58, 12, 147, 15, 90, 67, 217, 31, 3088, 74, 5, 2702, 11, 58, 32, 388, 15, 90, 67, 504, 13, 4, 29, 138, 6, 59, 132, 35, 217, 31, 4, 255, 586, 44, 977, 35, 13, 4, 493, 98, 4, 49, 257, 454, 138, 83, 20, 6, 2097, 11, 15, 58, 19, 965, 15, 90, 67, 217, 31, 105, 493, 98, 336, 5, 2115, 11, 58, 19, 750, 15, 90, 67, 504, 138, 6, 32, 1477, 35, 22, 19, 635, 35, 15, 7665, 2, 3127, 826, 195, 118, 371, 24, 338, 3338, 27, 4, 326, 2047, 1836, 220, 1599, 13, 644, 20, 5, 4, 1151, 326, 48, 454, 36, 8, 4, 49, 189, 40, 47, 677, 2047, 912, 374, 136, 124, 1528, 7412, 3127, 363, 6, 500, 2314, 95, 2047, 912, 7, 89, 28, 52, 216, 54, 29, 16, 2312, 47, 251, 2047, 912, 2, 8, 2, 8, 4, 473, 2047, 2513, 2312, 27, 3127, 23, 2, 5437, 912, 1294, 27, 4, 2, 3528, 304, 650, 100, 671, 55, 736, 2, 8217, 10, 2513, 5, 817, 2, 3528, 912, 4, 2, 939, 10, 817, 2010, 1260, 9, 8682, 1216, 1005, 9, 1342, 2, 50, 2881, 6396, 144, 55, 596, 69, 19, 677, 3127, 293, 2500, 912, 374, 1338, 5, 50, 19, 451, 55, 7, 4, 214, 212, 7230, 2881, 265, 9, 621, 575, 5, 3127, 8, 7, 10, 241, 405, 336, 55, 1500, 2, 43, 77, 55, 42, 1071, 117, 54, 586, 146, 186, 2881, 24, 16, 34, 4, 493, 4494, 29, 186, 7, 366, 98, 1007, 117, 4, 3608, 29, 157, 245, 2, 3148, 1836, 220, 62, 1168, 870, 7, 4, 8936, 9, 378, 9613, 27, 4, 1560, 815, 817, 1836, 182, 7, 42, 1129, 6, 2570, 7, 4, 8936, 3127, 1205, 10, 817, 293, 1836, 2513, 2, 9, 1293, 2, 10, 817, 3528, 2513, 286, 62, 2, 7, 4, 214, 212, 570, 2, 325, 1817, 7, 392, 7, 105, 290, 3127, 1014, 25, 1462, 9, 292, 24, 16, 41, 1321, 2047, 912, 28, 24, 216, 4, 49, 8, 16, 41, 1911, 187, 73, 1520, 5, 269, 912, 2047, 912, 1454, 57, 266, 88, 90, 6066, 4024, 97, 293, 2500, 912, 17, 12]\n",
      "Predicted: 3, Expected: 1\n",
      "Mispredicted Sample Found!\n",
      "Text: [1, 4, 174, 308, 40, 5335, 242, 92, 42, 1158, 245, 5, 2, 313, 262, 2529, 1426, 118, 10, 882, 522, 51, 36, 8, 36, 34, 45, 762, 1878, 69, 4, 278, 5, 4, 308, 43, 4, 1427, 820, 34, 325, 2, 7, 608, 2554, 5, 4, 556, 331, 4, 313, 379, 8, 25, 1060, 1120, 1503, 683, 24, 4, 308, 34, 2471, 879, 1608, 5, 1241, 17, 12]\n",
      "Predicted: 19, Expected: 21\n",
      "Mispredicted Sample Found!\n",
      "Text: [1, 9041, 71, 8, 1348, 324, 9041, 65, 37, 38, 71, 2480, 4, 147, 147, 11, 37, 38, 150, 211, 5, 25, 6264, 1283, 6, 135, 427, 681, 925, 149, 7, 788, 135, 23, 2762, 317, 65, 9, 1833, 542, 2063, 28, 76, 347, 9041, 8, 17, 12]\n",
      "Predicted: 4, Expected: 16\n",
      "Mispredicted Sample Found!\n",
      "Text: [1, 109, 3242, 407, 5, 332, 164, 362, 9, 2332, 1161, 28, 798, 4, 109, 139, 1358, 829, 28, 3646, 37, 412, 2727, 3458, 1554, 611, 28, 8650, 273, 331, 652, 6989, 4, 820, 570, 126, 1292, 34, 170, 10, 49, 176, 8, 1744, 332, 57, 85, 772, 13, 225, 1212, 36, 8, 17, 12]\n",
      "Predicted: 24, Expected: 2\n",
      "Mispredicted Sample Found!\n",
      "Text: [1, 2, 81, 8, 16, 40, 1300, 172, 42, 3384, 324, 656, 850, 31, 2, 2364, 2, 528, 2364, 2, 111, 149, 6, 1549, 10, 2, 2, 611, 31, 42, 943, 781, 5, 44, 18, 5828, 82, 5, 251, 20, 2, 681, 5, 8182, 4, 49, 8, 4, 611, 23, 133, 6, 2, 374, 27, 4, 493, 98, 5, 448, 16, 8, 4, 850, 638, 7560, 9, 2247, 22, 4, 106, 5, 1803, 17, 12]\n",
      "Predicted: 3, Expected: 39\n",
      "Mispredicted Sample Found!\n",
      "Text: [1, 4, 409, 60, 5, 1563, 2, 292, 73, 1001, 6, 837, 973, 5, 147, 247, 6, 489, 127, 108, 84, 6, 83, 20, 5, 125, 3466, 135, 303, 198, 186, 13, 198, 4877, 1714, 4, 449, 23, 1429, 27, 4, 106, 6, 1160, 3636, 66, 253, 247, 3069, 13, 4, 73, 2, 108, 2508, 2072, 439, 4622, 1232, 8571, 357, 9942, 1458, 2676, 1727, 5223, 2915, 1650, 9, 1644, 479, 1810, 170, 2, 4772, 675, 6606, 479, 2, 2, 9, 9520, 469, 4, 2072, 7842, 143, 1001, 50, 837, 1528, 1390, 5, 127, 108, 6, 30, 529, 210, 185, 561, 7482, 10, 1143, 303, 775, 2, 13, 366, 542, 2, 8, 136, 4, 73, 1935, 158, 100, 247, 33, 6850, 21, 10, 2, 503, 13, 1073, 7270, 763, 5, 45, 95, 97, 78, 20, 5, 4, 1742, 21, 166, 347, 5, 303, 198, 186, 405, 439, 65, 2, 2076, 1512, 877, 1512, 9, 2170, 4772, 9942, 2, 2, 9, 2, 65, 2, 2, 9, 7371, 2, 9, 1458, 2461, 7640, 2, 8, 973, 5, 247, 45, 2546, 27, 1196, 5, 4, 78, 1520, 33, 30, 3069, 6, 489, 84, 6, 142, 20, 5, 125, 1742, 21, 166, 347, 5, 125, 303, 198, 186, 182, 199, 8, 4, 73, 2, 4316, 266, 97, 4, 375, 1705, 55, 75, 95, 3312, 161, 823, 5, 73, 3092, 129, 1104, 564, 6, 7474, 2144, 6, 2, 13, 1491, 5, 127, 108, 13, 198, 1619, 17, 12]\n",
      "Predicted: 30, Expected: 11\n",
      "Mispredicted Sample Found!\n",
      "Text: [1, 4, 113, 33, 433, 117, 4, 225, 78, 6, 109, 206, 51, 52, 23, 1108, 6, 447, 7, 10, 1289, 825, 5, 4, 37, 38, 143, 485, 253, 8, 7390, 7218, 265, 5, 38, 1124, 3889, 3595, 71, 9, 1112, 195, 5, 4, 248, 409, 60, 5, 73, 418, 7, 10, 5406, 6, 4, 130, 4292, 7218, 8, 652, 2, 24, 36, 369, 10, 922, 433, 7, 4, 113, 541, 4, 225, 109, 206, 4, 113, 33, 302, 95, 51, 4, 143, 485, 253, 33, 1366, 370, 717, 185, 16, 7008, 25, 3258, 2292, 36, 8, 7218, 1852, 4, 3258, 2292, 43, 69, 68, 327, 5, 4, 143, 649, 35, 150, 303, 253, 36, 1950, 507, 1037, 50, 33, 1356, 42, 3984, 5, 4, 253, 13, 68, 2498, 16, 23, 1108, 24, 144, 33, 30, 194, 73, 205, 7, 468, 901, 422, 24, 9665, 185, 4, 113, 34, 28, 8269, 411, 36, 8, 7, 788, 36, 8, 24, 4, 37, 38, 40, 42, 333, 2, 6, 494, 7, 809, 6, 2, 526, 2, 7218, 408, 442, 28, 47, 44, 20, 27, 29, 153, 51, 8, 16, 114, 30, 2344, 420, 142, 20, 7, 4, 1430, 277, 107, 65, 87, 55, 1334, 9, 740, 1540, 631, 456, 17, 12]\n",
      "Predicted: 19, Expected: 11\n",
      "Mispredicted Sample Found!\n",
      "Text: [1, 7584, 154, 43, 10, 238, 2690, 13, 37, 38, 106, 222, 40, 85, 6904, 27, 4, 879, 489, 5, 128, 101, 3576, 50, 55, 189, 3491, 13, 307, 73, 833, 7, 4, 4661, 236, 372, 9, 215, 8, 5016, 4661, 372, 862, 24, 69, 401, 20, 5, 137, 73, 222, 582, 483, 54, 29, 117, 3614, 35, 15, 687, 34, 359, 5, 1196, 42, 128, 101, 58, 227, 2635, 4, 37, 38, 5819, 76, 483, 23, 2635, 6154, 8, 1460, 3074, 826, 195, 28, 2871, 2493, 9, 111, 141, 9, 985, 5, 25, 37, 38, 106, 733, 238, 8719, 16, 23, 2, 6, 57, 3238, 5, 251, 11, 15, 58, 95, 7, 83, 206, 312, 206, 58, 142, 206, 137, 963, 6, 42, 128, 101, 2635, 58, 5084, 5, 10, 4661, 605, 3074, 8, 28, 10, 329, 522, 21, 4, 37, 38, 5819, 76, 604, 10, 29, 58, 345, 301, 36, 8, 3238, 5, 24, 2011, 819, 250, 1570, 2, 7, 547, 62, 2, 372, 8, 24, 117, 4, 585, 78, 588, 184, 238, 7, 37, 38, 5819, 40, 85, 967, 2478, 27, 2, 117, 4, 1907, 5, 128, 140, 2635, 963, 2545, 57, 1106, 4, 5747, 1157, 5, 73, 218, 368, 8, 24, 54, 121, 10, 2405, 11, 150, 66, 2297, 78, 9, 83, 29, 5819, 34, 2, 21, 2, 2, 4, 66, 77, 8, 34, 2635, 963, 144, 55, 129, 417, 285, 21, 5669, 700, 389, 37, 38, 431, 222, 23, 1204, 483, 9, 828, 7684, 2199, 51, 2, 2451, 10, 37, 38, 267, 903, 417, 50, 3670, 25, 563, 22, 37, 38, 431, 1122, 349, 24, 851, 1101, 7, 37, 38, 106, 221, 7, 547, 138, 6, 3652, 35, 15, 7, 4, 99, 151, 177, 5, 48, 2192, 112, 2797, 35, 7, 137, 5, 105, 2, 828, 24, 69, 119, 20, 5, 137, 37, 38, 431, 238, 23, 2, 1351, 4, 37, 38, 31, 771, 6113, 4, 393, 181, 2690, 9, 184, 285, 55, 45, 836, 554, 13, 4, 54, 98, 4, 2, 2153, 4233, 24, 4, 1322, 670, 372, 452, 1309, 2, 621, 575, 28, 9386, 141, 592, 305, 718, 5819, 238, 874, 7, 547, 28, 69, 102, 35, 15, 9386, 759, 1087, 42, 401, 20, 128, 7, 4484, 221, 71, 68, 5, 4, 188, 181, 1570, 7, 37, 38, 106, 1010, 50, 40, 2113, 7, 547, 73, 418, 9, 771, 51, 2, 2390, 9238, 195, 5, 2, 4370, 2349, 1570, 1630, 547, 220, 828, 305, 718, 775, 23, 129, 95, 97, 188, 6, 142, 35, 15, 51, 657, 28, 4, 456, 715, 5, 828, 5819, 238, 874, 23, 28, 602, 1363, 6, 24, 7, 4, 37, 412, 2832, 595, 106, 1010, 1547, 43, 5413, 2, 3673, 826, 195, 28, 790, 752, 141, 149, 3197, 24, 37, 38, 5819, 55, 529, 27, 2, 7, 2635, 1101, 6, 6187, 7, 4, 2331, 4, 2925, 164, 4, 128, 101, 4, 6472, 40, 6, 219, 9, 4, 101, 24, 4, 2, 23, 8227, 6, 219, 51, 657, 2196, 2635, 963, 1221, 368, 8, 4, 3637, 5, 238, 7, 547, 40, 1014, 4, 5726, 2498, 380, 285, 551, 23, 4, 5960, 7, 547, 22, 10, 667, 1267, 6, 10, 238, 1267, 8, 3855, 9112, 42, 1030, 28, 2, 297, 40, 85, 2, 4, 563, 9112, 8, 24, 384, 8401, 1377, 62, 923, 6, 1409, 6, 337, 37, 38, 221, 6, 294, 640, 189, 290, 77, 2419, 2040, 1711, 955, 43, 1679, 7, 1101, 1017, 97, 2844, 21, 2520, 5, 125, 73, 418, 2113, 2040, 372, 452, 561, 1070, 1952, 74, 9, 46, 9482, 13, 125, 547, 220, 345, 24, 238, 2204, 330, 30, 170, 9791, 22, 4, 37, 38, 3117, 509, 5, 4, 181, 37, 38, 561, 348, 1411, 1339, 9, 111, 1079, 1604, 1336, 71, 9, 873, 60, 66, 13, 125, 595, 1218, 483, 75, 372, 475, 242, 4, 536, 5, 37, 38, 561, 374, 7, 547, 40, 333, 876, 117, 4, 585, 29, 43, 40, 4, 536, 5, 294, 9, 2240, 171, 50, 66, 37, 38, 106, 221, 541, 4, 585, 804, 177, 232, 4408, 60, 3935, 1627, 60, 323, 9, 1011, 60, 81, 57, 2265, 6, 4, 248, 409, 60, 5, 73, 418, 6, 832, 1134, 368, 7, 37, 38, 106, 221, 9, 125, 547, 2113, 57, 604, 759, 638, 1459, 2472, 1570, 2, 9, 4776, 5814, 5542, 414, 10, 1134, 1323, 23, 3583, 6, 500, 10, 37, 38, 5819, 238, 8719, 7, 547, 2, 2390, 9238, 195, 5, 2349, 1570, 71, 4, 473, 5, 4, 188, 181, 106, 733, 1570, 483, 8, 36, 189, 40, 425, 561, 1488, 1459, 2472, 2, 84, 22, 352, 10, 29, 301, 17, 12]\n",
      "Predicted: 20, Expected: 4\n",
      "Mispredicted Sample Found!\n",
      "Text: [1, 1855, 81, 265, 5259, 3568, 118, 371, 36, 299, 45, 5538, 181, 756, 7, 1494, 1479, 56, 9478, 107, 9036, 684, 150, 90, 67, 116, 6, 438, 1494, 1479, 23, 1633, 115, 57, 1378, 2831, 13, 1494, 1479, 2, 3568, 8, 480, 10, 1670, 28, 4, 234, 869, 5, 873, 7591, 303, 163, 115, 949, 57, 194, 1938, 756, 7, 4373, 157, 145, 1855, 292, 24, 10, 12, 158, 35, 150, 116, 34, 2494, 6, 4, 166, 5, 863, 5, 4, 1198, 267, 49, 54, 121, 1855, 64, 1087, 549, 79, 5, 4, 49, 13, 279, 19, 63, 15, 879, 25, 310, 7, 1494, 1479, 6, 258, 72, 20, 7, 105, 1855, 170, 42, 3755, 1267, 6, 438, 356, 4545, 81, 13, 142, 35, 15, 9, 40, 224, 1592, 42, 128, 7, 1924, 10, 873, 49, 24, 41, 7841, 25, 595, 873, 218, 185, 446, 552, 1855, 41, 888, 661, 4, 358, 873, 280, 5, 1494, 1479, 107, 25, 615, 116, 23, 1175, 3568, 487, 6, 594, 36, 75, 1992, 6, 452, 552, 1855, 41, 888, 879, 25, 4, 113, 347, 5, 25, 615, 116, 107, 4, 943, 436, 23, 1064, 3568, 5990, 24, 36, 1254, 4, 1855, 116, 6, 1494, 1479, 6, 30, 10, 3136, 68, 115, 609, 115, 170, 10, 1792, 116, 24, 23, 548, 13, 1494, 1479, 362, 9, 548, 13, 25, 261, 3568, 8, 7, 271, 1670, 3568, 8, 36, 3945, 762, 509, 873, 201, 62, 5987, 6, 2, 7, 4, 314, 274, 2745, 2, 247, 36, 8, 77, 62, 2890, 125, 7023, 21, 2292, 740, 873, 971, 3568, 8, 4, 873, 182, 40, 737, 10, 135, 5, 312, 35, 15, 7, 858, 131, 6057, 281, 4, 585, 78, 206, 6, 7238, 567, 9482, 36, 1184, 24, 4, 37, 38, 873, 182, 50, 257, 10, 135, 5, 165, 35, 15, 7, 48, 454, 41, 601, 10, 119, 20, 276, 7, 186, 52, 29, 161, 5, 879, 162, 3053, 9374, 404, 9, 4, 4875, 37, 38, 150, 17, 12]\n",
      "Predicted: 4, Expected: 20\n",
      "Mispredicted Sample Found!\n",
      "Text: [1, 37, 38, 3720, 122, 5, 9476, 5728, 9, 2, 2650, 6, 4260, 44, 11, 1601, 7, 104, 14, 10, 553, 5421, 44, 11, 1601, 4, 375, 139, 9, 3719, 32, 11, 1601, 7, 4, 29, 301, 245, 4, 7775, 1402, 8, 4, 1402, 1954, 104, 3720, 122, 5, 4040, 5728, 28, 977, 72, 11, 1601, 14, 10, 553, 2005, 47, 11, 1601, 4, 375, 139, 9, 2379, 61, 11, 1601, 7, 104, 10, 29, 157, 16, 349, 3720, 9, 4498, 413, 5, 9476, 5728, 21, 104, 284, 28, 3467, 61, 11, 1601, 14, 10, 553, 4766, 59, 11, 4, 375, 139, 9, 5186, 72, 11, 7, 104, 48, 153, 1215, 413, 5, 4040, 5728, 2650, 6, 704, 72, 11, 1601, 14, 10, 553, 279, 19, 11, 1601, 9, 722, 59, 11, 1601, 7, 125, 3806, 1025, 3720, 951, 5, 9476, 5728, 9, 2, 7, 104, 34, 7993, 28, 2791, 12, 11, 1601, 14, 10, 553, 999, 47, 11, 1601, 10, 139, 157, 9, 2425, 44, 11, 1601, 7, 4, 29, 301, 245, 281, 104, 4492, 529, 566, 12, 11, 1601, 5, 4040, 5728, 14, 10, 553, 968, 63, 11, 9, 1052, 59, 11, 773, 135, 3720, 122, 9, 951, 5, 5728, 7, 4, 89, 667, 760, 50, 792, 1271, 19, 14, 4, 48, 760, 62, 43, 1240, 7, 11, 1601, 122, 89, 48, 9476, 6894, 70, 3941, 19, 4040, 3814, 12, 3403, 61, 951, 9476, 4031, 61, 5603, 61, 4040, 2136, 19, 3259, 47, 17, 12]\n",
      "Predicted: 1, Expected: 28\n"
     ]
    }
   ],
   "source": [
    "# Make predictions on unseen data\n",
    "predictions = model.predict(vectorized_test_data)\n",
    "\n",
    "# Convert softmax output to class labels\n",
    "predicted_classes = np.argmax(predictions, axis=1)\n",
    "\n",
    "# vectorized_train_data = vectorize_sequences(train_data)\n",
    "# vectorized_test_data = vectorize_sequences(test_data)\n",
    "\n",
    "# # One-hot encode the output labels (categorical labels)\n",
    "# vectorized_train_labels = to_categorical(train_labels)\n",
    "# vectorized_test_labels = to_categorical(test_labels)\n",
    "\n",
    "# Showing examples of the results an example of a misprediction\n",
    "get_misprediction(100, test_data, vectorized_test_data, test_labels, predictions, predicted_classes)"
   ]
  }
 ],
 "metadata": {
  "kernelspec": {
   "display_name": "Python 3 (ipykernel)",
   "language": "python",
   "name": "python3"
  },
  "language_info": {
   "codemirror_mode": {
    "name": "ipython",
    "version": 3
   },
   "file_extension": ".py",
   "mimetype": "text/x-python",
   "name": "python",
   "nbconvert_exporter": "python",
   "pygments_lexer": "ipython3",
   "version": "3.12.6"
  }
 },
 "nbformat": 4,
 "nbformat_minor": 5
}
