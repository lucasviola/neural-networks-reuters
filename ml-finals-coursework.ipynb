{
 "cells": [
  {
   "cell_type": "markdown",
   "id": "68492aae-8831-44cf-b35c-bc33d8ff7e8d",
   "metadata": {},
   "source": [
    "<div class=\"alert\">  \n",
    "    <center><h1><strong>CM-3015 Machine Learning and Neural Networks finals: Training a model using DQN</strong></h1></center>"
   ]
  },
  {
   "cell_type": "markdown",
   "id": "2719cdbd-fdb8-453e-a8df-10e18ed53202",
   "metadata": {},
   "source": [
    "## Summary"
   ]
  },
  {
   "cell_type": "code",
   "execution_count": null,
   "id": "612fe00b-f973-4fbb-8db9-9740893849a3",
   "metadata": {},
   "outputs": [],
   "source": []
  },
  {
   "cell_type": "markdown",
   "id": "cccfe55d-391a-477e-bf69-627236195857",
   "metadata": {},
   "source": [
    "<div class=\"alert alert-block alert-info\">  \n",
    "    <center><h2><strong>Problem definition and dataset loading</strong></h2></center>"
   ]
  },
  {
   "cell_type": "markdown",
   "id": "0f26eff3-14eb-484e-9b5a-ab4ac3068b19",
   "metadata": {},
   "source": [
    "<div class=\"alert alert-block alert-warning\">  \n",
    "<b>Define the problem at hand and the data on which we’ll train. Collect this data, potentially annotate with labels (supervised learning). </b> \n",
    "<hr>\n",
    "<ul>\n",
    "    <li>1. What is the problem we are tackling? Text classification using Deep Learning and the Reuters dataset.</li>\n",
    "    <li>1. How are we measuring success? Accuracy and function loss.</li>\n",
    "</ul>\n",
    "    \n",
    "<hr>\n",
    "<b>Source of Data: </b> \n",
    "<hr> \n",
    " <a href=\"https://paperswithcode.com/dataset/liar\">https://paperswithcode.com/dataset/liar</a>\n",
    "   \n",
    "</div>"
   ]
  },
  {
   "cell_type": "code",
   "execution_count": 83,
   "id": "e38970a9-d21b-4002-8ddf-b037ec5d51f9",
   "metadata": {},
   "outputs": [],
   "source": [
    "import numpy as np\n",
    "import tensorflow as tf\n",
    "from tensorflow.keras.datasets import reuters\n",
    "from tensorflow.keras import layers, models\n",
    "from tensorflow.keras.layers import TextVectorization\n",
    "\n",
    "# Load the Reuters dataset\n",
    "(train_data, train_labels), (test_data, test_labels) = reuters.load_data(num_words=10000)"
   ]
  },
  {
   "cell_type": "markdown",
   "id": "6d4836e8-c061-4b93-8f5c-32096ea74187",
   "metadata": {},
   "source": [
    "<div class=\"alert alert-block alert-info\">  \n",
    "    <center><h2><strong>Preprocessing the dataset</strong></h2></center>"
   ]
  },
  {
   "cell_type": "markdown",
   "id": "e9bf52d4-1651-4b5d-a1ce-5df317b93b81",
   "metadata": {},
   "source": [
    "<div class=\"alert alert-block alert-warning\">  \n",
    "<b>Summary of the section </b> \n",
    "<hr>\n",
    "<ul>\n",
    "    <ul> Vectorization:\n",
    "    <li>1.Decodes the numerical sequences back into text using the dataset's word index. </li>\n",
    "    <li>2.Uses TextVectorization to tokenize and vectorize the dataset into fixed-length sequences.. </li>\n",
    "    <li>3.Returns vectorized data that can be used in deep learning models. </li>\n",
    "</ul>\n",
    "    \n",
    "<hr>\n",
    "<b>Source of Data: </b> \n",
    "<hr> \n",
    " <a href=\"https://paperswithcode.com/dataset/liar\">https://paperswithcode.com/dataset/liar</a>\n",
    "   \n",
    "</div>"
   ]
  },
  {
   "cell_type": "code",
   "execution_count": 84,
   "id": "b4fd72a2-3253-4fef-9b76-d13597b15732",
   "metadata": {},
   "outputs": [],
   "source": [
    "# Helper function for vectorizing the data input\n",
    "from tensorflow.keras.utils import to_categorical\n",
    "\n",
    "# One-hot encode the sequences (vectorizing the input data)\n",
    "def vectorize_sequences(sequences, dimension=10000):\n",
    "    results = np.zeros((len(sequences), dimension))\n",
    "    for i, sequence in enumerate(sequences):\n",
    "        results[i, sequence] = 1.0  # Set specific indices to 1s\n",
    "    return results"
   ]
  },
  {
   "cell_type": "code",
   "execution_count": 85,
   "id": "bd67327a-9c2c-402e-8a81-471f244786e9",
   "metadata": {},
   "outputs": [],
   "source": [
    "# One-hot encode the labels\n",
    "\n",
    "vectorized_train_data = vectorize_sequences(train_data)\n",
    "vectorized_test_data = vectorize_sequences(test_data)\n",
    "\n",
    "# One-hot encode the output labels (categorical labels)\n",
    "vectorized_train_labels = to_categorical(train_labels)\n",
    "vectorized_test_labels = to_categorical(test_labels)"
   ]
  },
  {
   "cell_type": "markdown",
   "id": "ef5a8c1d-464f-4ab2-a046-007b5e535882",
   "metadata": {},
   "source": [
    "<div class=\"alert alert-block alert-info\">  \n",
    "    <center><h2><strong>Building the baseline model</strong></h2></center>"
   ]
  },
  {
   "cell_type": "markdown",
   "id": "e1471398-dae0-4720-8c2b-076001b722d7",
   "metadata": {},
   "source": [
    "<div class=\"alert alert-block alert-warning\">  \n",
    "<b>Summary of the section </b> \n",
    "<hr>\n",
    "Here we will be building our model ...\n",
    "<hr>\n"
   ]
  },
  {
   "cell_type": "code",
   "execution_count": 86,
   "id": "74d3cc92-bde3-4bf7-bd94-8bfb414a5724",
   "metadata": {},
   "outputs": [],
   "source": [
    "# Helper functions for building the model\n",
    "\n",
    "from tensorflow.keras import models\n",
    "from tensorflow.keras import layers\n",
    "\n",
    "# Define the model\n",
    "def build_model():\n",
    "    model = models.Sequential()\n",
    "    model.add(layers.Dense(64, activation=\"relu\", input_shape=(10000,)))\n",
    "    model.add(layers.Dense(64, activation=\"relu\"))\n",
    "    model.add(layers.Dense(46, activation=\"softmax\"))  # 46 classes in the dataset\n",
    "    model.compile(optimizer=\"adam\", loss=\"categorical_crossentropy\", metrics=[\"accuracy\"])\n",
    "    return model\n",
    "\n",
    "def print_layer_tensor_shape(layer):\n",
    "    weight_params = model.layers[layer].get_weights()[0]\n",
    "    bias_params = model.layers[layer].get_weights()[1]\n",
    "    print(layer, \"\\t\", weight_params.shape, \"\\t\", bias_params.shape)"
   ]
  },
  {
   "cell_type": "code",
   "execution_count": 87,
   "id": "c710977e-9eff-4e33-b90c-30dc4f5c08dc",
   "metadata": {},
   "outputs": [
    {
     "data": {
      "text/html": [
       "<pre style=\"white-space:pre;overflow-x:auto;line-height:normal;font-family:Menlo,'DejaVu Sans Mono',consolas,'Courier New',monospace\"><span style=\"font-weight: bold\">Model: \"sequential_4\"</span>\n",
       "</pre>\n"
      ],
      "text/plain": [
       "\u001b[1mModel: \"sequential_4\"\u001b[0m\n"
      ]
     },
     "metadata": {},
     "output_type": "display_data"
    },
    {
     "data": {
      "text/html": [
       "<pre style=\"white-space:pre;overflow-x:auto;line-height:normal;font-family:Menlo,'DejaVu Sans Mono',consolas,'Courier New',monospace\">┏━━━━━━━━━━━━━━━━━━━━━━━━━━━━━━━━━┳━━━━━━━━━━━━━━━━━━━━━━━━┳━━━━━━━━━━━━━━━┓\n",
       "┃<span style=\"font-weight: bold\"> Layer (type)                    </span>┃<span style=\"font-weight: bold\"> Output Shape           </span>┃<span style=\"font-weight: bold\">       Param # </span>┃\n",
       "┡━━━━━━━━━━━━━━━━━━━━━━━━━━━━━━━━━╇━━━━━━━━━━━━━━━━━━━━━━━━╇━━━━━━━━━━━━━━━┩\n",
       "│ dense_12 (<span style=\"color: #0087ff; text-decoration-color: #0087ff\">Dense</span>)                │ (<span style=\"color: #00d7ff; text-decoration-color: #00d7ff\">None</span>, <span style=\"color: #00af00; text-decoration-color: #00af00\">64</span>)             │       <span style=\"color: #00af00; text-decoration-color: #00af00\">640,064</span> │\n",
       "├─────────────────────────────────┼────────────────────────┼───────────────┤\n",
       "│ dense_13 (<span style=\"color: #0087ff; text-decoration-color: #0087ff\">Dense</span>)                │ (<span style=\"color: #00d7ff; text-decoration-color: #00d7ff\">None</span>, <span style=\"color: #00af00; text-decoration-color: #00af00\">64</span>)             │         <span style=\"color: #00af00; text-decoration-color: #00af00\">4,160</span> │\n",
       "├─────────────────────────────────┼────────────────────────┼───────────────┤\n",
       "│ dense_14 (<span style=\"color: #0087ff; text-decoration-color: #0087ff\">Dense</span>)                │ (<span style=\"color: #00d7ff; text-decoration-color: #00d7ff\">None</span>, <span style=\"color: #00af00; text-decoration-color: #00af00\">46</span>)             │         <span style=\"color: #00af00; text-decoration-color: #00af00\">2,990</span> │\n",
       "└─────────────────────────────────┴────────────────────────┴───────────────┘\n",
       "</pre>\n"
      ],
      "text/plain": [
       "┏━━━━━━━━━━━━━━━━━━━━━━━━━━━━━━━━━┳━━━━━━━━━━━━━━━━━━━━━━━━┳━━━━━━━━━━━━━━━┓\n",
       "┃\u001b[1m \u001b[0m\u001b[1mLayer (type)                   \u001b[0m\u001b[1m \u001b[0m┃\u001b[1m \u001b[0m\u001b[1mOutput Shape          \u001b[0m\u001b[1m \u001b[0m┃\u001b[1m \u001b[0m\u001b[1m      Param #\u001b[0m\u001b[1m \u001b[0m┃\n",
       "┡━━━━━━━━━━━━━━━━━━━━━━━━━━━━━━━━━╇━━━━━━━━━━━━━━━━━━━━━━━━╇━━━━━━━━━━━━━━━┩\n",
       "│ dense_12 (\u001b[38;5;33mDense\u001b[0m)                │ (\u001b[38;5;45mNone\u001b[0m, \u001b[38;5;34m64\u001b[0m)             │       \u001b[38;5;34m640,064\u001b[0m │\n",
       "├─────────────────────────────────┼────────────────────────┼───────────────┤\n",
       "│ dense_13 (\u001b[38;5;33mDense\u001b[0m)                │ (\u001b[38;5;45mNone\u001b[0m, \u001b[38;5;34m64\u001b[0m)             │         \u001b[38;5;34m4,160\u001b[0m │\n",
       "├─────────────────────────────────┼────────────────────────┼───────────────┤\n",
       "│ dense_14 (\u001b[38;5;33mDense\u001b[0m)                │ (\u001b[38;5;45mNone\u001b[0m, \u001b[38;5;34m46\u001b[0m)             │         \u001b[38;5;34m2,990\u001b[0m │\n",
       "└─────────────────────────────────┴────────────────────────┴───────────────┘\n"
      ]
     },
     "metadata": {},
     "output_type": "display_data"
    },
    {
     "data": {
      "text/html": [
       "<pre style=\"white-space:pre;overflow-x:auto;line-height:normal;font-family:Menlo,'DejaVu Sans Mono',consolas,'Courier New',monospace\"><span style=\"font-weight: bold\"> Total params: </span><span style=\"color: #00af00; text-decoration-color: #00af00\">647,214</span> (2.47 MB)\n",
       "</pre>\n"
      ],
      "text/plain": [
       "\u001b[1m Total params: \u001b[0m\u001b[38;5;34m647,214\u001b[0m (2.47 MB)\n"
      ]
     },
     "metadata": {},
     "output_type": "display_data"
    },
    {
     "data": {
      "text/html": [
       "<pre style=\"white-space:pre;overflow-x:auto;line-height:normal;font-family:Menlo,'DejaVu Sans Mono',consolas,'Courier New',monospace\"><span style=\"font-weight: bold\"> Trainable params: </span><span style=\"color: #00af00; text-decoration-color: #00af00\">647,214</span> (2.47 MB)\n",
       "</pre>\n"
      ],
      "text/plain": [
       "\u001b[1m Trainable params: \u001b[0m\u001b[38;5;34m647,214\u001b[0m (2.47 MB)\n"
      ]
     },
     "metadata": {},
     "output_type": "display_data"
    },
    {
     "data": {
      "text/html": [
       "<pre style=\"white-space:pre;overflow-x:auto;line-height:normal;font-family:Menlo,'DejaVu Sans Mono',consolas,'Courier New',monospace\"><span style=\"font-weight: bold\"> Non-trainable params: </span><span style=\"color: #00af00; text-decoration-color: #00af00\">0</span> (0.00 B)\n",
       "</pre>\n"
      ],
      "text/plain": [
       "\u001b[1m Non-trainable params: \u001b[0m\u001b[38;5;34m0\u001b[0m (0.00 B)\n"
      ]
     },
     "metadata": {},
     "output_type": "display_data"
    }
   ],
   "source": [
    "# Building the model\n",
    "\n",
    "model = build_model()\n",
    "model.summary()"
   ]
  },
  {
   "cell_type": "markdown",
   "id": "c7ccd62f-1d4a-43b1-9386-b76057ccc402",
   "metadata": {},
   "source": [
    "<div class=\"alert alert-block alert-info\">  \n",
    "    <center><h2><strong>Training and testing</strong></h2></center>"
   ]
  },
  {
   "cell_type": "markdown",
   "id": "ef33b354-b8be-4abb-8c11-62b00b72d2c0",
   "metadata": {},
   "source": [
    "<div class=\"alert alert-block alert-warning\">  \n",
    "<b>Summary of the section </b> \n",
    "<hr>\n",
    "✅ Fixed the Output Layer: The original code had Dense(64, activation=\"softmax\"), but the Reuters dataset has 46 categories, so I updated it to Dense(46, activation=\"softmax\").\n",
    "✅ Used to_categorical(): This applies one-hot encoding to labels.\n",
    "✅ Added Model Compilation & Training: Used \"adam\" optimizer and \"categorical_crossentropy\" since it's a multi-class classification task.\n",
    "✅ Added Model Evaluation: Prints test accuracy after training.\n",
    "<hr>\n"
   ]
  },
  {
   "cell_type": "code",
   "execution_count": 88,
   "id": "1420cc89-d5d9-464f-a1b2-c25a33af1159",
   "metadata": {},
   "outputs": [
    {
     "name": "stdout",
     "output_type": "stream",
     "text": [
      "Epoch 1/20\n",
      "\u001b[1m18/18\u001b[0m \u001b[32m━━━━━━━━━━━━━━━━━━━━\u001b[0m\u001b[37m\u001b[0m \u001b[1m0s\u001b[0m 13ms/step - accuracy: 0.3268 - loss: 3.5083 - val_accuracy: 0.5873 - val_loss: 2.3057\n",
      "Epoch 2/20\n",
      "\u001b[1m18/18\u001b[0m \u001b[32m━━━━━━━━━━━━━━━━━━━━\u001b[0m\u001b[37m\u001b[0m \u001b[1m0s\u001b[0m 8ms/step - accuracy: 0.6323 - loss: 1.9345 - val_accuracy: 0.6776 - val_loss: 1.5286\n",
      "Epoch 3/20\n",
      "\u001b[1m18/18\u001b[0m \u001b[32m━━━━━━━━━━━━━━━━━━━━\u001b[0m\u001b[37m\u001b[0m \u001b[1m0s\u001b[0m 8ms/step - accuracy: 0.7300 - loss: 1.2869 - val_accuracy: 0.7213 - val_loss: 1.2662\n",
      "Epoch 4/20\n",
      "\u001b[1m18/18\u001b[0m \u001b[32m━━━━━━━━━━━━━━━━━━━━\u001b[0m\u001b[37m\u001b[0m \u001b[1m0s\u001b[0m 8ms/step - accuracy: 0.7961 - loss: 0.9528 - val_accuracy: 0.7529 - val_loss: 1.1255\n",
      "Epoch 5/20\n",
      "\u001b[1m18/18\u001b[0m \u001b[32m━━━━━━━━━━━━━━━━━━━━\u001b[0m\u001b[37m\u001b[0m \u001b[1m0s\u001b[0m 8ms/step - accuracy: 0.8392 - loss: 0.7558 - val_accuracy: 0.7752 - val_loss: 1.0248\n",
      "Epoch 6/20\n",
      "\u001b[1m18/18\u001b[0m \u001b[32m━━━━━━━━━━━━━━━━━━━━\u001b[0m\u001b[37m\u001b[0m \u001b[1m0s\u001b[0m 8ms/step - accuracy: 0.8812 - loss: 0.5742 - val_accuracy: 0.7850 - val_loss: 0.9700\n",
      "Epoch 7/20\n",
      "\u001b[1m18/18\u001b[0m \u001b[32m━━━━━━━━━━━━━━━━━━━━\u001b[0m\u001b[37m\u001b[0m \u001b[1m0s\u001b[0m 8ms/step - accuracy: 0.9112 - loss: 0.4459 - val_accuracy: 0.7903 - val_loss: 0.9398\n",
      "Epoch 8/20\n",
      "\u001b[1m18/18\u001b[0m \u001b[32m━━━━━━━━━━━━━━━━━━━━\u001b[0m\u001b[37m\u001b[0m \u001b[1m0s\u001b[0m 8ms/step - accuracy: 0.9304 - loss: 0.3445 - val_accuracy: 0.7956 - val_loss: 0.9378\n",
      "Epoch 9/20\n",
      "\u001b[1m18/18\u001b[0m \u001b[32m━━━━━━━━━━━━━━━━━━━━\u001b[0m\u001b[37m\u001b[0m \u001b[1m0s\u001b[0m 8ms/step - accuracy: 0.9449 - loss: 0.2753 - val_accuracy: 0.7939 - val_loss: 0.9330\n",
      "Epoch 10/20\n",
      "\u001b[1m18/18\u001b[0m \u001b[32m━━━━━━━━━━━━━━━━━━━━\u001b[0m\u001b[37m\u001b[0m \u001b[1m0s\u001b[0m 8ms/step - accuracy: 0.9478 - loss: 0.2310 - val_accuracy: 0.7943 - val_loss: 0.9492\n",
      "Epoch 11/20\n",
      "\u001b[1m18/18\u001b[0m \u001b[32m━━━━━━━━━━━━━━━━━━━━\u001b[0m\u001b[37m\u001b[0m \u001b[1m0s\u001b[0m 8ms/step - accuracy: 0.9558 - loss: 0.1820 - val_accuracy: 0.7974 - val_loss: 0.9578\n",
      "Epoch 12/20\n",
      "\u001b[1m18/18\u001b[0m \u001b[32m━━━━━━━━━━━━━━━━━━━━\u001b[0m\u001b[37m\u001b[0m \u001b[1m0s\u001b[0m 8ms/step - accuracy: 0.9552 - loss: 0.1579 - val_accuracy: 0.7983 - val_loss: 0.9739\n",
      "Epoch 13/20\n",
      "\u001b[1m18/18\u001b[0m \u001b[32m━━━━━━━━━━━━━━━━━━━━\u001b[0m\u001b[37m\u001b[0m \u001b[1m0s\u001b[0m 8ms/step - accuracy: 0.9605 - loss: 0.1414 - val_accuracy: 0.7970 - val_loss: 0.9861\n",
      "Epoch 14/20\n",
      "\u001b[1m18/18\u001b[0m \u001b[32m━━━━━━━━━━━━━━━━━━━━\u001b[0m\u001b[37m\u001b[0m \u001b[1m0s\u001b[0m 8ms/step - accuracy: 0.9600 - loss: 0.1318 - val_accuracy: 0.7979 - val_loss: 1.0137\n",
      "Epoch 15/20\n",
      "\u001b[1m18/18\u001b[0m \u001b[32m━━━━━━━━━━━━━━━━━━━━\u001b[0m\u001b[37m\u001b[0m \u001b[1m0s\u001b[0m 8ms/step - accuracy: 0.9624 - loss: 0.1189 - val_accuracy: 0.8014 - val_loss: 1.0144\n",
      "Epoch 16/20\n",
      "\u001b[1m18/18\u001b[0m \u001b[32m━━━━━━━━━━━━━━━━━━━━\u001b[0m\u001b[37m\u001b[0m \u001b[1m0s\u001b[0m 8ms/step - accuracy: 0.9631 - loss: 0.1098 - val_accuracy: 0.7947 - val_loss: 1.0577\n",
      "Epoch 17/20\n",
      "\u001b[1m18/18\u001b[0m \u001b[32m━━━━━━━━━━━━━━━━━━━━\u001b[0m\u001b[37m\u001b[0m \u001b[1m0s\u001b[0m 8ms/step - accuracy: 0.9633 - loss: 0.1082 - val_accuracy: 0.7921 - val_loss: 1.0479\n",
      "Epoch 18/20\n",
      "\u001b[1m18/18\u001b[0m \u001b[32m━━━━━━━━━━━━━━━━━━━━\u001b[0m\u001b[37m\u001b[0m \u001b[1m0s\u001b[0m 8ms/step - accuracy: 0.9606 - loss: 0.1081 - val_accuracy: 0.7970 - val_loss: 1.0894\n",
      "Epoch 19/20\n",
      "\u001b[1m18/18\u001b[0m \u001b[32m━━━━━━━━━━━━━━━━━━━━\u001b[0m\u001b[37m\u001b[0m \u001b[1m0s\u001b[0m 8ms/step - accuracy: 0.9618 - loss: 0.0993 - val_accuracy: 0.8001 - val_loss: 1.0704\n",
      "Epoch 20/20\n",
      "\u001b[1m18/18\u001b[0m \u001b[32m━━━━━━━━━━━━━━━━━━━━\u001b[0m\u001b[37m\u001b[0m \u001b[1m0s\u001b[0m 8ms/step - accuracy: 0.9625 - loss: 0.0971 - val_accuracy: 0.7930 - val_loss: 1.1017\n",
      "\u001b[1m71/71\u001b[0m \u001b[32m━━━━━━━━━━━━━━━━━━━━\u001b[0m\u001b[37m\u001b[0m \u001b[1m0s\u001b[0m 521us/step - accuracy: 0.7993 - loss: 1.0871\n",
      "Test accuracy: 0.7930\n"
     ]
    }
   ],
   "source": [
    "import numpy as np\n",
    "import tensorflow as tf\n",
    "from tensorflow.keras import models, layers\n",
    "from tensorflow.keras.datasets import reuters\n",
    "from tensorflow.keras.utils import to_categorical\n",
    "\n",
    "history = model.fit(vectorized_train_data, vectorized_train_labels, epochs=20, \n",
    "                    batch_size=512, \n",
    "                    validation_data=(vectorized_test_data, vectorized_test_labels))\n",
    "\n",
    "# Evaluate the model\n",
    "test_loss, test_acc = model.evaluate(vectorized_test_data, vectorized_test_labels)\n",
    "print(f\"Test accuracy: {test_acc:.4f}\")"
   ]
  },
  {
   "cell_type": "markdown",
   "id": "95c8086c-459e-4968-9e01-7c6fa03027c7",
   "metadata": {},
   "source": [
    "<div class=\"alert alert-block alert-info\">  \n",
    "    <center><h2><strong>Evaluation</strong></h2></center>"
   ]
  },
  {
   "cell_type": "markdown",
   "id": "22b678d5-c533-4b94-a5d0-371b4df1a53d",
   "metadata": {},
   "source": [
    "<div class=\"alert alert-block alert-warning\">  \n",
    "<b>How It Works: </b> \n",
    "<hr>\n",
    "Plots training values (e.g., loss or accuracy) using train_marker and train_label.\n",
    "Plots validation values with val_marker and val_label.\n",
    "Sets the title, x-axis, and y-axis labels.\n",
    "Displays the legend to differentiate training and validation.\n",
    "Calls plt.show() to render the plot.\n",
    "This function will correctly generate the training vs validation loss or accuracy graphs when used in your code! 🚀\n",
    "<hr>\n",
    "<div>"
   ]
  },
  {
   "cell_type": "code",
   "execution_count": 89,
   "id": "73bb8fa0-7b72-4e7c-a506-5aa244059ce7",
   "metadata": {},
   "outputs": [],
   "source": [
    "# Helper function for the results evaluation\n",
    "\n",
    "import matplotlib.pyplot as plt\n",
    "\n",
    "def plot_epochs(epochs, \n",
    "                train_values, train_marker, train_label, \n",
    "                val_values, val_marker, val_label, \n",
    "                title, xlabel, ylabel):\n",
    "    \"\"\"\n",
    "    Plots training and validation metrics over epochs.\n",
    "\n",
    "    Parameters:\n",
    "    epochs (list): List of epoch numbers.\n",
    "    train_values (list): Training metric values.\n",
    "    train_marker (str): Marker style for training plot.\n",
    "    train_label (str): Label for training plot.\n",
    "    val_values (list): Validation metric values.\n",
    "    val_marker (str): Marker style for validation plot.\n",
    "    val_label (str): Label for validation plot.\n",
    "    title (str): Title of the plot.\n",
    "    xlabel (str): Label for x-axis.\n",
    "    ylabel (str): Label for y-axis.\n",
    "    \"\"\"\n",
    "    plt.plot(epochs, train_values, train_marker, label=train_label)\n",
    "    plt.plot(epochs, val_values, val_marker, label=val_label)\n",
    "    plt.title(title)\n",
    "    plt.xlabel(xlabel)\n",
    "    plt.ylabel(ylabel)\n",
    "    plt.legend()\n",
    "    plt.show()"
   ]
  },
  {
   "cell_type": "code",
   "execution_count": 90,
   "id": "35cdf45b-4ce7-40d1-aa02-fefad657fc78",
   "metadata": {},
   "outputs": [
    {
     "data": {
      "image/png": "[encoded data removed]",
      "text/plain": [
       "<Figure size 640x480 with 1 Axes>"
      ]
     },
     "metadata": {},
     "output_type": "display_data"
    }
   ],
   "source": [
    "# Plotting the loss for training and validation\n",
    "\n",
    "loss = history.history['loss']\n",
    "val_loss = history.history['val_loss']\n",
    "\n",
    "plot_epochs(range(1, len(loss) + 1), \n",
    "            loss, \n",
    "            \"bo\", \"Training\", \n",
    "            val_loss, \"b\", \"Validation\", \n",
    "            \"Training and validation loss\", \n",
    "            \"Epochs\", \"Loss\")"
   ]
  },
  {
   "cell_type": "code",
   "execution_count": 91,
   "id": "c24b0fd3-a39a-4648-be08-824482c6d71c",
   "metadata": {},
   "outputs": [
    {
     "data": {
      "image/png": "[encoded data removed]",
      "text/plain": [
       "<Figure size 640x480 with 1 Axes>"
      ]
     },
     "metadata": {},
     "output_type": "display_data"
    }
   ],
   "source": [
    "# Plotting the accuracy for training and validation\n",
    "\n",
    "accuracy = history.history['accuracy']\n",
    "val_accuracy = history.history['val_accuracy']\n",
    "\n",
    "plot_epochs(range(1, len(loss) + 1), \n",
    "            accuracy, \n",
    "            \"bo\", \"Training\", \n",
    "            val_accuracy, \"b\", \"Validation\", \n",
    "            \"Training and validation accuracy\", \n",
    "            \"Epochs\", \"Loss\")"
   ]
  },
  {
   "cell_type": "code",
   "execution_count": 92,
   "id": "e892c854-acdc-40fd-bb5d-e11007ad4501",
   "metadata": {},
   "outputs": [
    {
     "data": {
      "image/png": "[encoded data removed]",
      "text/plain": [
       "<Figure size 640x480 with 1 Axes>"
      ]
     },
     "metadata": {},
     "output_type": "display_data"
    }
   ],
   "source": [
    "# Plotting the accuracy for training and validation\n",
    "\n",
    "plot_epochs(range(1, len(loss) + 1), \n",
    "            accuracy, \n",
    "            \"bo\", \"Training\", \n",
    "            val_accuracy, \"b\", \"Validation\", \n",
    "            \"Training and validation accuracy\", \n",
    "            \"Epochs\", \"Loss\")"
   ]
  },
  {
   "cell_type": "markdown",
   "id": "026bf32e-e816-45b6-8dd3-976a392f723b",
   "metadata": {},
   "source": [
    "<div class=\"alert alert-block alert-info\">  \n",
    "    <center><h2><strong>Improving on the baseline model</strong></h2></center>"
   ]
  },
  {
   "cell_type": "markdown",
   "id": "68d74b6d-90a1-4984-9f51-9f2133674bb2",
   "metadata": {},
   "source": [
    "<div class=\"alert alert-block alert-warning\">  \n",
    "<b>How It Works: </b> \n",
    "<hr>\n",
    "Choose an appropriate architecture (number of layers, neurons, activation functions).\n",
    "Select an optimizer and loss function suited to the task.\n",
    "<hr>\n",
    "<div>"
   ]
  },
  {
   "cell_type": "code",
   "execution_count": null,
   "id": "518ec47e-ae38-46dc-a99c-098d5d2b1f04",
   "metadata": {},
   "outputs": [],
   "source": []
  },
  {
   "cell_type": "markdown",
   "id": "febb328d-3a95-438a-a8e9-30c1322088c5",
   "metadata": {},
   "source": [
    "<div class=\"alert alert-block alert-info\">  \n",
    "    <center><h2><strong>Model tuning</strong></h2></center>"
   ]
  },
  {
   "cell_type": "markdown",
   "id": "e878d6f5-32bb-4554-945b-fefd7431f069",
   "metadata": {},
   "source": [
    "<div class=\"alert alert-block alert-warning\">  \n",
    "<b>How It Works: </b> \n",
    "<hr>\n",
    "Regularization techniques (Dropout, L1/L2).\n",
    "Experiment with hyperparameters (learning rate, batch size, etc.).\n",
    "<hr>\n",
    "<div>"
   ]
  },
  {
   "cell_type": "markdown",
   "id": "fc589a56-305c-4b78-808c-80b500aab8ce",
   "metadata": {},
   "source": [
    "<div class=\"alert alert-block alert-info\">  \n",
    "    <center><h2><strong>Predicting on new data</strong></h2></center>"
   ]
  },
  {
   "cell_type": "markdown",
   "id": "7083e233-587a-4156-821c-c57c25b038a3",
   "metadata": {},
   "source": [
    "<div class=\"alert alert-block alert-warning\">  \n",
    "<b>How It Works: </b> \n",
    "<hr>\n",
    "Load new unseen data: We take test samples from the Reuters dataset.\n",
    "Vectorize the sequences: Convert them into the same format as training data.\n",
    "Predict using the trained model: Outputs class probabilities (softmax values).\n",
    "Get the predicted class: Use np.argmax() to find the most likely class.\n",
    "Compare predictions to actual values: Check how well the model performs.\n",
    "This will allow you to predict the category of new news articles using the trained model.\n",
    "<hr>\n",
    "<div>"
   ]
  },
  {
   "cell_type": "code",
   "execution_count": 104,
   "id": "11ef13a4-8625-4a62-95d6-f4c1bfa77e36",
   "metadata": {},
   "outputs": [],
   "source": [
    "# Helper functions for prediction\n",
    "# Function to decode a news article\n",
    "def decode_article(encoded_article):\n",
    "    word_index = reuters.get_word_index()\n",
    "    \n",
    "    # Invert the word index to map integers back to words\n",
    "    index_to_word = {index + 3: word for word, index in word_index.items()}\n",
    "\n",
    "    # Special indices for padding, start of sequence, etc.\n",
    "    index_to_word[0] = \"[PAD]\"    # Padding token\n",
    "    index_to_word[1] = \"[START]\"  # Start of sequence token\n",
    "    index_to_word[2] = \"[UNK]\"    # Unknown word token\n",
    "    \n",
    "    return \" \".join(index_to_word.get(i, \"[UNK]\") for i in encoded_article)\n",
    "    \n",
    "# Function to print all the mispredictions up until n\n",
    "def get_misprediction(n, x_test_texts, x_test_vectorized, y_test, predictions, predicted_classes):\n",
    "    if n  > len(y_test):\n",
    "        return None\n",
    "    \n",
    "    for i in range(n):\n",
    "        if predicted_classes[i] != y_test[i]:  # If prediction is incorrect\n",
    "            print(f\"Text: {decode_article(x_test_texts[i])}\\nPredicted: {predicted_classes[i]}, Expected: {y_test[i]}\\n\")"
   ]
  },
  {
   "cell_type": "code",
   "execution_count": 105,
   "id": "2a15d821-1439-4d19-abaa-b4df2835b3e7",
   "metadata": {},
   "outputs": [
    {
     "name": "stdout",
     "output_type": "stream",
     "text": [
      "\u001b[1m71/71\u001b[0m \u001b[32m━━━━━━━━━━━━━━━━━━━━\u001b[0m\u001b[37m\u001b[0m \u001b[1m0s\u001b[0m 487us/step\n",
      "Text: [START] philippine sugar production in the 1987 88 crop year ending august has been set at 1 6 mln tonnes up from a provisional 1 3 mln tonnes this year sugar regulatory administration [UNK] chairman [UNK] yulo said yulo told reuters a survey during the current milling season which ends next month showed the 1986 87 estimate would almost certainly be met he said at least 1 2 mln tonnes of the 1987 88 crop would be earmarked for domestic consumption yulo said about 130 000 tonnes would be set aside for the u s sugar quota 150 000 tonnes for strategic reserves and 50 000 tonnes would be sold on the world market he said if the government approved a long standing [UNK] recommendation to manufacture ethanol the project would take up another 150 000 tonnes slightly raising the target the government for its own reasons has been delaying approval of the project but we expect it to come through by july yulo said ethanol could make up five pct of gasoline cutting the oil import bill by about 300 mln pesos yulo said three major philippine [UNK] were ready to start manufacturing ethanol if the project was approved the ethanol project would result in employment for about 100 000 people sharply reducing those thrown out of work by depressed world sugar prices and a [UNK] domestic industry production quotas set for the first time in 1987 88 had been submitted to president corazon aquino i think the president would rather wait [UNK] the new congress [UNK] after the may elections he said but there is really no need for such quotas we are right now producing just slightly over our own consumption level the producers have never enjoyed such high prices yulo said adding sugar was currently selling locally for 320 pesos per [UNK] up from 190 pesos last august yulo said prices were driven up because of speculation following the [UNK] bid to control production we are no longer concerned so much with the world market he said adding producers in the [UNK] region had learned from their [UNK] and diversified into corn and [UNK] farming and [UNK] production he said diversification into products other than ethanol was also possible within the sugar industry the [UNK] long ago [UNK] their [UNK] yulo said they have 300 sugar mills compared with our 41 but they [UNK] many of them and diversified production we want to call this a [UNK] [UNK] instead of the sugar industry he said sugarcane could be fed to pigs and livestock used for [UNK] [UNK] or used in room [UNK] when you cut sugarcane you don't even have to produce sugar he said yulo said the philippines was lobbying for a renewal of the international sugar agreement which expired in 1984 as a major sugar producer we are urging them to write a new agreement which would revive world prices yulo said if there is no agreement world prices will always be depressed particularly because the european community is [UNK] its producers and dumping sugar on the markets he said current world prices holding steady at about 7 60 cents per pound were [UNK] for the philippines where production costs ranged from 12 to 14 cents a pound if the price holds steady for a while at 7 60 cents i expect the level to rise to about 11 cents a pound by the end of this year he said yulo said economists forecast a bullish sugar market by 1990 with world consumption [UNK] production he said sugar markets were holding up despite [UNK] from artificial sweeteners and high fructose corn syrup but we are not happy with the reagan administration he said since [UNK] we have been regular suppliers of sugar to the u s in 1982 when they restored the quota system they cut [UNK] in half without any justification manila was [UNK] watching washington's moves to cut domestic support prices to 12 cents a pound from 18 cents the u s agriculture department last december slashed its 12 month 1987 sugar import quota from the philippines to 143 780 short tons from 231 660 short tons in 1986 yulo said despite next year's increased production target some philippine mills were expected to shut down at least four of the 41 mills were not working during the 1986 87 season he said we expect two or three more to follow suit during the next season reuter 3\n",
      "Predicted: 4, Expected: 10\n",
      "\n",
      "Text: [START] [UNK] [UNK] oil and gas partnership said it completed the sale of interests in two major oil and gas fields to lt energy assets international corp for 21 mln dlrs the company said it sold about one half of its 50 pct interest in the oak hill and north [UNK] fields its two largest producing properties it said it used about 20 mln dlrs of the proceeds to [UNK] principal on its senior secured notes semi annual principal payments on the remaining 40 mln dlrs of notes have been satisfied until december 1988 as a result it said the company said the note agreements were amended to reflect an easing of some financial covenants and an increase of interest to 13 5 pct from 13 0 pct until december 1990 it said the [UNK] exercise price for 1 125 000 warrants was also reduced to 50 cts from 1 50 dlrs the company said energy assets agreed to share the costs of increasing production at the oak hill field reuter 3\n",
      "Predicted: 16, Expected: 4\n",
      "\n",
      "Text: [START] strong south [UNK] winds were keeping many vessels trapped in the ice off the finnish and swedish coasts in one of the worst icy periods in the baltic for many years the finnish board of navigation said in finland and sweden up to 50 vessels were reported to be stuck in the ice and even the largest of the [UNK] [UNK] were having difficulties in breaking through to the [UNK] ships [UNK] officials said however icy conditions in the southern baltic at the soviet oil ports of [UNK] and [UNK] had eased they said weather officials in neighbouring sweden said the icy conditions in the baltic were the worst for 30 years with ships fighting a losing battle to keep moving in the coastal stretches of the gulf of [UNK] which [UNK] finland and sweden the ice is up to one [UNK] thick with [UNK] and [UNK] packing it into almost [UNK] walls three metres high swedish [UNK] officials said weather forecasts say winds may ease during the weekend but a further drop in temperature could bring shipping to a standstill the officials said reuter 3\n",
      "Predicted: 13, Expected: 4\n",
      "\n",
      "Text: [START] grain traders said they were still awaiting results of yesterday's u k intervention feed wheat tender for the home market the market sought to buy 340 000 tonnes more than double the remaining 150 000 tonnes available under the current tender however some of the tonnage included [UNK] bids for supplies in the same stores since the tenders started last july [UNK] 000 tonnes of british feed wheat have been sold back to the home market reuter 3\n",
      "Predicted: 1, Expected: 5\n",
      "\n",
      "Text: [START] [UNK] ltd said it has closed on a 500 000 dlr long term mortgage loan in connection with its previous purchase of a [UNK] fla plant replacing a short term borrowing the company said full production at the plant will start immediately reuter 3\n",
      "Predicted: 3, Expected: 23\n",
      "\n",
      "Text: [START] lt canada northwest energy ltd said it reached agreement in principle to sell one mln preferred shares by way of private placement to raise 32 5 mln dlrs for oil and gas exploration the 5 4 pct cumulative redeemable convertible series d preferred shares will be flow through shares entitling holders to tax deductions not claimed by the company the shares will be convertible [UNK] after issue into common shares at an equivalent conversion price of 32 50 dlrs a share after one year they will be redeemable at any time by the company at 25 dlrs a share plus accrued dividends reuter 3\n",
      "Predicted: 4, Expected: 20\n",
      "\n",
      "Text: [START] qtr ended feb 28 shr 35 cts vs 38 cts net 1 682 047 vs 1 817 820 revs 36 1 mln vs 29 9 mln six mths shr 73 cts vs 75 cts net 3 518 515 vs 3 606 689 revs 74 1 mln vs 62 7 mln reuter 3\n",
      "Predicted: 3, Expected: 1\n",
      "\n",
      "Text: [START] egypt's central [UNK] left the dollar rate for commercial banks for april 8 unchanged at 1 353 67 pounds reuter 3\n",
      "Predicted: 19, Expected: 40\n",
      "\n",
      "Text: [START] argentine meat exports during jan dec 1986 totalled 220 911 tonnes against 223 204 tonnes shipped in the same 1985 period the national meat board said shipments in tonnes with comparative figures for the 1985 period in brackets included beef 120 184 137 686 [UNK] meat 25 651 33 892 and beef [UNK] 50 100 47 745 argentina's meat exports totalled 20 481 tonnes in december 1986 against 15 801 tonnes in the same 1985 month shipments in tonnes with comparative figures for december 1985 in brackets included beef 14 384 10 339 [UNK] meat 1 609 1 539 and beef [UNK] 3 388 3 098 the board said main destinations for [UNK] beef [UNK] in equivalent were as follows in tonnes with comparative figures for 1985 in brackets e c 46 300 49 700 israel 16 200 17 600 brazil 18 100 unavailable peru 8 100 2 300 [UNK] 4 800 12 100 chile 3 400 8 200 switzerland 3 000 3 000 canary islands 2 400 3 700 singapore 1 900 1 700 [UNK] [UNK] 1 600 1 700 main destinations for canned meat and [UNK] beef [UNK] in equivalent in tonnes with figures for 1985 in brackets were united states 88 300 102 900 e c 30 700 24 100 reuter 3\n",
      "Predicted: 3, Expected: 15\n",
      "\n",
      "Text: [START] the u s civilian unemployment rate fell to 6 6 pct in march from 6 7 pct in february the labor department said the number of non farm payroll jobs rose 164 000 last month after rising a revised 236 000 in february that was down from the previously reported 337 000 rise in february the march unemployment rate was the lowest since march 1980 it had remained unchanged at 6 7 pct for three straight months before the march decline the rise in non farm [UNK] was the smallest since a decline last june of 75 000 the department said last month's unemployment rate was down from the 7 2 pct level in march 1986 growth in jobs continued in march but was slower than in recent months with the gains concentrated in service industries the number of goods producing jobs fell 68 000 in march while service producing jobs rose 232 000 to bring the total jobs in the department's survey of businesses to 102 03 mln in march business and health services showed the largest gains in jobs while manufacturing employment fell by 25 000 the average work week fell to 34 8 hours in march from 35 0 hours in february the department said manufacturing hours fell to 40 9 per week from 41 2 hours in february but overtime hours increased to 3 7 from 3 6 the department's survey of households showed the number of unemployed stood at 7 85 mln out of a work force of 119 2 mln the number of persons working part time for economic reasons fell in march to 5 46 mln from 5 78 mln in february the loss of factory jobs brought the march total to 19 19 mln jobs and was concentrated in automobile electrical and electronic manufacturing construction employment also lowered the number of jobs in the goods producing sector falling by 45 000 after seasonal adjustment the department said mining employment was little changed in march and has not experienced any substantial erosion since the rapid job losses in oil and gas drilling in the first two thirds of 1986 other service industries that increased jobs last month were finance insurance and real estate reuter 3\n",
      "Predicted: 12, Expected: 34\n",
      "\n",
      "Text: [START] the specialty retailing area continues to pay off for f w woolworth co once known only as a five and [UNK] store chain which said its 1986 income rose 21 pct it was the fourth consecutive year of profit increases for the new york based retailer which was founded over 100 years ago [UNK] 1986 income rose to 214 mln dlrs or 3 25 dlrs per share compared with 1985's profit of 177 mln or 2 75 dlrs per share revenues for the year rose to 6 50 billion compared with the prior year's 5 96 billion for the fourth quarter the company reported profits rose 10 pct to 117 mln dlrs or 1 78 dlrs per share compared with 1985 fourth quarter results of 106 mln or 1 64 dlrs per share revenues rose to 2 02 billion from 1 85 billion dlrs roy [UNK] woolworth vice president told reuters that income generated by the company's specialty store operations accounted for 52 pct of the parent company's 1986 profits he said the company now has 4 700 specialty stores operating under 30 different names woolworth plans to open 650 more specialty stores in 1987 at this time last year it operated 4 100 specialty stores [UNK] said [UNK] said the largest specialty chain operated by woolworth is [UNK] shoe stores followed by the [UNK] apparel unit among other units are little [UNK] shop a chain of discount [UNK] apparel stores the [UNK] place a discount drug health and beauty aid operation and face [UNK] which sells cosmetics there are currently about 1 700 woolworth general merchandise stores operating worldwide of which 1 200 are in the united states harold sells chairman and chief executive of woolworth said in a statement these results are especially [UNK] as they are an improvement over last year's record earnings sells that it was the fourth successive year earnings in each quarter improved over the corresponding year earlier period [UNK] variety store operations were hard hit in the 1970's and early 1980's by the quickly growing discount store industry in an attempt to compete in the 1970's woolworth opened a discount general store chain [UNK] and j [UNK] a discount apparel chain both were [UNK] in the united states although [UNK] still operates in canada in 1985 however woolworth changed its strategy and announced that it would operate specialty stores at that time the company said it would create 14 new groups of such stores specialty stores generally have higher sales per square foot than general merchandise stores reuter 3\n",
      "Predicted: 3, Expected: 1\n",
      "\n",
      "Text: [START] the japanese economy has bottomed out after an extended period of [UNK] finance minister kiichi miyazawa told a press conference but he said he was not too optimistic about the state of the economy as the employment situation was still [UNK] in certain regions of the country yesterday the finance ministry said its quarterly corporate survey showed that the economy was showing increasing signs of recovery reuter 3\n",
      "Predicted: 19, Expected: 21\n",
      "\n",
      "Text: [START] asamera inc said wholly owned asamera oil u s inc concluded the 25 25 mln u s dlr sale of its denver refinery to total petroleum north america ltd in addition total is purchasing crude oil and refined product inventories at market value asamera said reuter 3\n",
      "Predicted: 4, Expected: 16\n",
      "\n",
      "Text: [START] three consecutive days of talks between management and unions aimed at ending the three month old strike at cargill u k ltd's oilseed processing plant at seaforth ended yesterday without resolving the situation although some progress was made a company spokesman said fresh talks have been scheduled for next tuesday he said reuter 3\n",
      "Predicted: 24, Expected: 2\n",
      "\n",
      "Text: [START] [UNK] corp said it has entered into an equally owned joint venture with [UNK] thai [UNK] called thai [UNK] co ltd to build a [UNK] [UNK] plant with an initial capacity of 5 000 metric tonnes of 100 pct [UNK] north of bangkok the company said the plant is expected to [UNK] operating by the fourth quarter of 1988 it said the venture received grants and incentives from the government of thailand reuter 3\n",
      "Predicted: 3, Expected: 39\n",
      "\n",
      "Text: [START] the reserve bank of india [UNK] announced new rules to allow exporters of 25 products to use foreign exchange up to 10 pct of their firm's total annual export earnings for export promotion abroad the move is designed by the government to improve india's trade deficit products eligible for the new [UNK] exchange permit scheme include tea bags cigarettes coffee leather various textiles chemicals pharmaceuticals plastics engineering and electronic goods ready made [UNK] processed food sports goods [UNK] [UNK] and consultancy services the scheme replaces current rules which allow different amounts of foreign exchange to be used only when firms attain a minimum annual turnover [UNK] for each product [UNK] said under the new rule 16 other products will qualify on a [UNK] basis for overseas promotional spending of not more than two pct of the freight on board value of annual export earnings these include oil [UNK] cereals raw cotton raw and semi processed leather [UNK] [UNK] and [UNK] oil [UNK] [UNK] and seeds [UNK] and various mineral ores [UNK] said exporters of products not covered by either of the two groups will be eligible to use up to five pct of their freight on board value of their annual export earnings industry sources said the new [UNK] considerably higher than the previous limits are also more flexible because holders of new permits no longer need to frequently apply to [UNK] for release of foreign exchange for export purposes reuter 3\n",
      "Predicted: 30, Expected: 11\n",
      "\n",
      "Text: [START] the dollar will decline over the next two to three years but this is unlikely to result in a complete reduction of the u s current account deficit said anthony solomon chairman of s g warburg usa inc and former president of the federal reserve bank of new york in a presentation to the japan society solomon said without [UNK] that he expects a significant decline in the dollar within the next three years the dollar will fall more but the current account deficit will stop being reduced when it reaches its structural core he said solomon described the structural core as about one half of the current 150 billion dlr annual deficit he cited several factors which will prevent an elimination of the deficit for one thing it is unlikely that there will be any new investment in those manufacturing industries that shrank when the dollar was at uncompetitive levels he said in addition he said that the u s has an increased [UNK] to import in order to [UNK] consumer [UNK] solomon forecast inflation at 4 5 pct by year end but said it could be kept below five pct in the medium term if oil prices are stable and commodity values remain low reuter 3\n",
      "Predicted: 19, Expected: 11\n",
      "\n",
      "Text: [START] london's rise as a trading centre for u s government debt has been spurred by the increasing use of interest rate swaps which are now arranged for most new issues in the eurobond markets traders and analysts said indeed eurobond traders estimate that about 80 pct of all new debt issued here last year over 186 billion dlrs worth was part of either an interest rate or currency swap the u s treasuries market here is swap driven said david jones vice president at goldman sachs and co international and head of its u s government bond trading desk it is [UNK] to have trades of 100 mln dlrs or more in 10 years seven years or five years all related to an interest rate swap or hedging of a eurobond deal jones said at a recent conference on the u s treasuries market just a year or so ago he said trades of that size going through brokers [UNK] in london were [UNK] traders said that over the past two weeks while trading in u s treasuries has been almost frozen by [UNK] over the direction of interest rates swap related deals have provided the sole source of new business dealers said that last week a 260 mln dlr trade involving two and 10 year treasuries was [UNK] on [UNK] [UNK] the trade they said was swap related there are no firm figures on exactly how much u s treasury debt is traded here and estimates vary widely but [UNK] economics a u s based research firm which drew its data from u s treasury reports estimated that gross transactions in u s government securities in london rose to 341 billion dlrs in the first nine months of 1986 alone against 188 billion in all of 1985 [UNK] estimates that about 20 pct of all u s treasury trading is [UNK] outside the u s with tokyo forming the third major centre and while figures are not yet available for the last quarter the [UNK] evidence suggests that the trend continued traders say richard [UNK] chief executive at exco international put average daily treasuries trading volume in london at about 15 billion dlrs exco recently purchased an 80 pct interest in rmj securities inc one of the four major brokers in u s government bonds which has offices in london new york and tokyo but [UNK] van splinter president of [UNK] competitor fundamental brokers inc's london operations estimates average daily turnover is no more than four to five billion dlrs but even at the low range of estimates treasuries trading volume is at least equal to that in the u k 's own government bonds known as gilts [UNK] ford vice president at bankers trust international ltd explained that u s treasuries are used by [UNK] in swap transactions to lock in the spread the difference between the interest rate the borrower has to pay and the rate that the [UNK] is obliged to pay but even beyond swap related activity dealers said the nature of trading in london has changed the interesting thing our figures show is the transition in london from a marketing effort to a trading effort said louis crandall an economist at [UNK] who has been [UNK] the data crandall said that previously firms' activities were limited to trying to sell u s securities to european investors now however they appear increasingly willing act as principal in transactions rather than acting on behalf of their new york offices increasingly traders say firms maintain separate profit and loss sheets for their london operations so that trading decisions can be made independently from the u s headquarters many of the major u s firms including merrill lynch and co shearson lehman brothers inc and chemical bank trade for their own accounts here also traders point out the number of u s firms operating in london has increased sharply over the past year as has the number of european and asian banks which trade u s government securities within the past few months national westminster bank plc's county bank subsidiary and swiss bank corp have applied to the federal reserve bank of new york to become primary dealers in u s government securities and their london offices have just recently received direct dealing brokers [UNK] and donaldson lufkin jenrette already a primary dealer is preparing to open a u s treasuries trading desk in london [UNK] van splinter president of fundamental brokers inc the largest of the four major government bond brokers here said he now has 45 firms using direct dealing [UNK] up from 35 a year ago reuter 3\n",
      "Predicted: 20, Expected: 4\n",
      "\n",
      "Text: [START] gaf corp chairman samuel heyman told reuters he did not foresee major changes in borg warner lt bor if gaf's 46 dlr per share offer to acquire borg warner is successful we have great respect for borg warner [UNK] heyman said following a speech at the american institute of chemical engineers annual meeting we don't have any particular changes in mind earlier today gaf announced that a 3 16 billion dlr offer was presented to the board of directors of the chicago based company last week gaf had purchased additional shares of the company for 40 1 8 dlrs increasing its stake in borg warner to 19 9 pct in 1985 gaf made an unsuccessful effort to acquire union carbide corp for five billion dlrs and has since expressed an interest in acquiring a chemical company that would complement its own chemical business when asked whether gaf would consider selling the non chemical assets of borg warner if its takeover offer is accepted heyman declined to comment he also refused to say whether gaf would consider increasing its the dollar value of its takeover offer if the initial proposal is rejected heyman emphasized that he considered the gaf offer to borg warner to be a friendly one we think we made a fair offer that is good for borg warner management and good for its shareholders heyman said in his speech heyman said he feared too many chemical companies were attempting to [UNK] in the same high margin [UNK] products he said they were turning their backs on core commodity chemical businesses heyman said the chemical industry has taken a total of seven billion dlrs in pre tax writeoffs during the past two years to trim balance sheets he predicted that the u s chemical industry which reported a total of 13 billion dlrs in 1986 profits would see a 20 pct gain in earnings this year because of increasing exports cheaper feedstock costs and the weakened u s dlr reuter 3\n",
      "Predicted: 4, Expected: 20\n",
      "\n",
      "Text: [START] u s factory production of inedible tallow and [UNK] amounted to 421 5 mln lbs in february vs a revised 471 5 mln lbs the previous month and 419 2 mln lbs in the year ago period the census bureau said the bureau placed february factory production of edible tallow at 96 9 mln lbs vs a revised 111 4 mln lbs the previous month and 122 7 mln lbs in february a year earlier it estimated factory and warehouse stocks of inedible tallow on february 28 at 410 7 mln lbs vs a revised 351 6 mln the previous month and 361 9 mln in february 1986 end feb stocks of edible tallow amounted to 41 9 mln lbs vs a revised 40 1 mln lbs and 48 6 mln lbs in their respective periods factory consumption of inedible tallow and [UNK] in february was assessed at 238 3 mln lbs vs a revised 250 4 mln lbs a month earlier and 220 5 mln lbs in the year ago period during february factories used 65 3 mln lbs of edible tallow vs a revised 71 8 mln and 84 6 mln respectively total factory production and consumption of tallow in the 1987 marketing season which began jan 1 vs the 1986 season were as follows in mln lbs production 1987 1986 inedible 893 0 920 1 edible 208 3 274 7 consumption inedible 488 7 473 7 edible 137 1 176 4 reuter 3\n",
      "Predicted: 1, Expected: 28\n",
      "\n"
     ]
    }
   ],
   "source": [
    "# Make predictions on unseen data\n",
    "predictions = model.predict(vectorized_test_data)\n",
    "\n",
    "# Convert softmax output to class labels\n",
    "predicted_classes = np.argmax(predictions, axis=1)\n",
    "\n",
    "# vectorized_train_data = vectorize_sequences(train_data)\n",
    "# vectorized_test_data = vectorize_sequences(test_data)\n",
    "\n",
    "# vectorized_train_labels = to_categorical(train_labels)\n",
    "# vectorized_test_labels = to_categorical(test_labels)\n",
    "\n",
    "# Showing examples of the results an example of a misprediction\n",
    "get_misprediction(100, test_data, vectorized_test_data, test_labels, predictions, predicted_classes)"
   ]
  },
  {
   "cell_type": "code",
   "execution_count": null,
   "id": "3c9ada1f-96e1-45ec-8852-2d38e65c9da6",
   "metadata": {},
   "outputs": [],
   "source": []
  }
 ],
 "metadata": {
  "kernelspec": {
   "display_name": "Python 3 (ipykernel)",
   "language": "python",
   "name": "python3"
  },
  "language_info": {
   "codemirror_mode": {
    "name": "ipython",
    "version": 3
   },
   "file_extension": ".py",
   "mimetype": "text/x-python",
   "name": "python",
   "nbconvert_exporter": "python",
   "pygments_lexer": "ipython3",
   "version": "3.12.6"
  }
 },
 "nbformat": 4,
 "nbformat_minor": 5
}
