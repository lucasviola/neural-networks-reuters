{
 "cells": [
  {
   "cell_type": "markdown",
   "id": "68492aae-8831-44cf-b35c-bc33d8ff7e8d",
   "metadata": {},
   "source": [
    "<div class=\"alert\">  \n",
    "    <center><h1><strong>\n",
    "        Machine Learning and Neural Networks finals: Training a model using Neural Networks on top of the reuters dataset\n",
    "    </strong></h1></center>"
   ]
  },
  {
   "cell_type": "markdown",
   "id": "f305ee6a-3c7b-42a0-a660-80f348a6b55b",
   "metadata": {},
   "source": [
    "## Summary\n",
    "1. Problem definition and dataset loading\n",
    "2. Preprocessing the dataset\n",
    "3. Building the baseline model\n",
    "4. Training and testing\n",
    "5. Analyzing the results\n",
    "6. Model tuning"
   ]
  },
  {
   "cell_type": "markdown",
   "id": "cccfe55d-391a-477e-bf69-627236195857",
   "metadata": {},
   "source": [
    "<div class=\"alert alert-block alert-info\">  \n",
    "    <center><h2><strong>Problem definition and dataset loading</strong></h2></center>\n",
    "</div>"
   ]
  },
  {
   "cell_type": "markdown",
   "id": "0f26eff3-14eb-484e-9b5a-ab4ac3068b19",
   "metadata": {},
   "source": [
    "<div class=\"alert alert-block alert-warning\">  \n",
    "<p>Here we are going to Neural Networks in order to train a Machine Learning model that can correctly categorize news articles into different clusters. To train this Machine Learning model we are going to be using tensorflow and the Reuters dataset, which provides a collection of 11,228 newswire articles from Reuters, labeled into 46 different topics.</p>\n",
    "<p>Below we will separate the work according to the [universal workflow of machine learning](https://bookdown.org/paul/2021_computational_social_science/the-universal-workflow-of-machine-learning.html). We will evalute our model measuring its performance using through its accuracy and loss function throught 20 iterations on top of our dataset.</p>\n",
    "<p>We will plot a function to visualize these metrics better. We will also count and evaluate the number of positives and false guesses. In the end we will try to tune the hyperparameters of ur baseline mdel in order to build a more performatic model and then compare it against its baseline.</p>\n",
    "\n",
    "<hr>\n",
    "<b>Source of the dataset</b> \n",
    " <a href=\"https://keras.io/api/datasets/reuters/\">Reuters - tensorflow</a>\n",
    "</div>"
   ]
  },
  {
   "cell_type": "markdown",
   "id": "53f94514-5bfe-4690-9c7d-405fb920cc66",
   "metadata": {},
   "source": [
    "#### We will start by loading the reuters dataset and separating our dataset into training and testing sets with its respective labels:"
   ]
  },
  {
   "cell_type": "code",
   "execution_count": 1,
   "id": "e38970a9-d21b-4002-8ddf-b037ec5d51f9",
   "metadata": {},
   "outputs": [],
   "source": [
    "import numpy as np\n",
    "import tensorflow as tf\n",
    "from tensorflow.keras.datasets import reuters\n",
    "from tensorflow.keras import layers, models\n",
    "from tensorflow.keras.layers import TextVectorization\n",
    "\n",
    "# Load the Reuters dataset\n",
    "(train_data, train_labels), (test_data, test_labels) = reuters.load_data(num_words=10000)"
   ]
  },
  {
   "cell_type": "markdown",
   "id": "6d4836e8-c061-4b93-8f5c-32096ea74187",
   "metadata": {},
   "source": [
    "<div class=\"alert alert-block alert-info\">  \n",
    "    <center><h2><strong>Preprocessing the dataset</strong></h2></center>\n",
    "</div>"
   ]
  },
  {
   "cell_type": "markdown",
   "id": "e9bf52d4-1651-4b5d-a1ce-5df317b93b81",
   "metadata": {},
   "source": [
    "<div class=\"alert alert-block alert-warning\">  \n",
    "<b>Summary of the section: </b> \n",
    "<ul>\n",
    "    <li>1. Vectorize the dataset using one-hot encoding.</li>\n",
    "    <li>2. Vectorize the labels using to_categorical.</li>\n",
    "</ul>   \n",
    "</div>"
   ]
  },
  {
   "cell_type": "markdown",
   "id": "255ef582-3ed1-43f8-9e80-40140fa59b55",
   "metadata": {},
   "source": [
    "#### Now we will apply one-hot encoding to make our data compatible with our Deep Learning models. One-hot encoding transforms categorical data into numerical data by representing each category in the data as a binary vector. To vectorize the data we handcrafted a function below using  numpy."
   ]
  },
  {
   "cell_type": "code",
   "execution_count": 2,
   "id": "b4fd72a2-3253-4fef-9b76-d13597b15732",
   "metadata": {},
   "outputs": [],
   "source": [
    "# Helper function for vectorizing the data input\n",
    "from tensorflow.keras.utils import to_categorical\n",
    "\n",
    "# One-hot encode the sequences (vectorizing the input data)\n",
    "def vectorize_sequences(sequences, dimension=10000):\n",
    "    results = np.zeros((len(sequences), dimension))\n",
    "    for i, sequence in enumerate(sequences):\n",
    "        results[i, sequence] = 1.0  # Set specific indices to 1s\n",
    "    return results"
   ]
  },
  {
   "cell_type": "markdown",
   "id": "d99990a6-d2ca-4e56-9075-bb45b7af66e6",
   "metadata": {},
   "source": [
    "#### To do the same with the labels we are using the to_categorical version from tensorflow.keras.utils which performs good against multi-class classification problems."
   ]
  },
  {
   "cell_type": "code",
   "execution_count": 3,
   "id": "bd67327a-9c2c-402e-8a81-471f244786e9",
   "metadata": {},
   "outputs": [],
   "source": [
    "# One-hot encode the labels\n",
    "\n",
    "vectorized_train_data = vectorize_sequences(train_data)\n",
    "vectorized_test_data = vectorize_sequences(test_data)\n",
    "\n",
    "# One-hot encode the output labels (categorical labels)\n",
    "vectorized_train_labels = to_categorical(train_labels)\n",
    "vectorized_test_labels = to_categorical(test_labels)"
   ]
  },
  {
   "cell_type": "markdown",
   "id": "ef5a8c1d-464f-4ab2-a046-007b5e535882",
   "metadata": {},
   "source": [
    "<div class=\"alert alert-block alert-info\">  \n",
    "    <center><h2><strong>Building the baseline model</strong></h2></center>\n",
    "</div>"
   ]
  },
  {
   "cell_type": "markdown",
   "id": "e1471398-dae0-4720-8c2b-076001b722d7",
   "metadata": {},
   "source": [
    "<div class=\"alert alert-block alert-warning\">  \n",
    "<b>Summary of the section: </b> \n",
    "<hr>\n",
    "<p>Here we will be using tensorflow in order to build our model. We will be using teras sequential model which stacks each layer of the network in a linear fashion, meaning the output of one layer is the input of the next. We will be using this model because it is simple enough and it is easy to build as a baseline</p>\n",
    "<p>We will be creating the network composef of 3 dense (fully-connected) layers. </p>\n",
    "<p>The first two layers are going to have both 64 neurons and use Rectified Linear Unit (ReLU) as its activation function for its effectiveness in preventing the problem of vanishing gradients. The third one will have 46 neurons and will be used for the labels and will This use thee softmax as an activation function.</p>\n",
    "<p>As per the optimizer of the model we will use Adaptive Moment Estimation (Adam), which implements an advanced version of Stochastic Gradient Descent (SGD) in order to make the training more efficient. We will also use categorical crossentropy as the activation function here in order to calculate the difference between the true class probability and the predicted probability in the dataset.</p>\n",
    "</div>"
   ]
  },
  {
   "cell_type": "code",
   "execution_count": 4,
   "id": "74d3cc92-bde3-4bf7-bd94-8bfb414a5724",
   "metadata": {},
   "outputs": [],
   "source": [
    "# Helper functions for building the model\n",
    "\n",
    "from tensorflow.keras import models\n",
    "from tensorflow.keras import layers\n",
    "\n",
    "# Define the model\n",
    "def build_model():\n",
    "    model = models.Sequential()\n",
    "    model.add(layers.Dense(64, activation=\"relu\", input_shape=(10000,)))\n",
    "    model.add(layers.Dense(64, activation=\"relu\"))\n",
    "    model.add(layers.Dense(46, activation=\"softmax\"))  # 46 classes in the labels\n",
    "    model.compile(optimizer=\"adam\", loss=\"categorical_crossentropy\", metrics=[\"accuracy\"])\n",
    "    return model"
   ]
  },
  {
   "cell_type": "code",
   "execution_count": 5,
   "id": "c710977e-9eff-4e33-b90c-30dc4f5c08dc",
   "metadata": {},
   "outputs": [
    {
     "name": "stderr",
     "output_type": "stream",
     "text": [
      "/opt/homebrew/Cellar/jupyterlab/4.2.3/libexec/lib/python3.12/site-packages/keras/src/layers/core/dense.py:87: UserWarning: Do not pass an `input_shape`/`input_dim` argument to a layer. When using Sequential models, prefer using an `Input(shape)` object as the first layer in the model instead.\n",
      "  super().__init__(activity_regularizer=activity_regularizer, **kwargs)\n"
     ]
    },
    {
     "data": {
      "text/html": [
       "<pre style=\"white-space:pre;overflow-x:auto;line-height:normal;font-family:Menlo,'DejaVu Sans Mono',consolas,'Courier New',monospace\"><span style=\"font-weight: bold\">Model: \"sequential\"</span>\n",
       "</pre>\n"
      ],
      "text/plain": [
       "\u001b[1mModel: \"sequential\"\u001b[0m\n"
      ]
     },
     "metadata": {},
     "output_type": "display_data"
    },
    {
     "data": {
      "text/html": [
       "<pre style=\"white-space:pre;overflow-x:auto;line-height:normal;font-family:Menlo,'DejaVu Sans Mono',consolas,'Courier New',monospace\">┏━━━━━━━━━━━━━━━━━━━━━━━━━━━━━━━━━┳━━━━━━━━━━━━━━━━━━━━━━━━┳━━━━━━━━━━━━━━━┓\n",
       "┃<span style=\"font-weight: bold\"> Layer (type)                    </span>┃<span style=\"font-weight: bold\"> Output Shape           </span>┃<span style=\"font-weight: bold\">       Param # </span>┃\n",
       "┡━━━━━━━━━━━━━━━━━━━━━━━━━━━━━━━━━╇━━━━━━━━━━━━━━━━━━━━━━━━╇━━━━━━━━━━━━━━━┩\n",
       "│ dense (<span style=\"color: #0087ff; text-decoration-color: #0087ff\">Dense</span>)                   │ (<span style=\"color: #00d7ff; text-decoration-color: #00d7ff\">None</span>, <span style=\"color: #00af00; text-decoration-color: #00af00\">64</span>)             │       <span style=\"color: #00af00; text-decoration-color: #00af00\">640,064</span> │\n",
       "├─────────────────────────────────┼────────────────────────┼───────────────┤\n",
       "│ dense_1 (<span style=\"color: #0087ff; text-decoration-color: #0087ff\">Dense</span>)                 │ (<span style=\"color: #00d7ff; text-decoration-color: #00d7ff\">None</span>, <span style=\"color: #00af00; text-decoration-color: #00af00\">64</span>)             │         <span style=\"color: #00af00; text-decoration-color: #00af00\">4,160</span> │\n",
       "├─────────────────────────────────┼────────────────────────┼───────────────┤\n",
       "│ dense_2 (<span style=\"color: #0087ff; text-decoration-color: #0087ff\">Dense</span>)                 │ (<span style=\"color: #00d7ff; text-decoration-color: #00d7ff\">None</span>, <span style=\"color: #00af00; text-decoration-color: #00af00\">46</span>)             │         <span style=\"color: #00af00; text-decoration-color: #00af00\">2,990</span> │\n",
       "└─────────────────────────────────┴────────────────────────┴───────────────┘\n",
       "</pre>\n"
      ],
      "text/plain": [
       "┏━━━━━━━━━━━━━━━━━━━━━━━━━━━━━━━━━┳━━━━━━━━━━━━━━━━━━━━━━━━┳━━━━━━━━━━━━━━━┓\n",
       "┃\u001b[1m \u001b[0m\u001b[1mLayer (type)                   \u001b[0m\u001b[1m \u001b[0m┃\u001b[1m \u001b[0m\u001b[1mOutput Shape          \u001b[0m\u001b[1m \u001b[0m┃\u001b[1m \u001b[0m\u001b[1m      Param #\u001b[0m\u001b[1m \u001b[0m┃\n",
       "┡━━━━━━━━━━━━━━━━━━━━━━━━━━━━━━━━━╇━━━━━━━━━━━━━━━━━━━━━━━━╇━━━━━━━━━━━━━━━┩\n",
       "│ dense (\u001b[38;5;33mDense\u001b[0m)                   │ (\u001b[38;5;45mNone\u001b[0m, \u001b[38;5;34m64\u001b[0m)             │       \u001b[38;5;34m640,064\u001b[0m │\n",
       "├─────────────────────────────────┼────────────────────────┼───────────────┤\n",
       "│ dense_1 (\u001b[38;5;33mDense\u001b[0m)                 │ (\u001b[38;5;45mNone\u001b[0m, \u001b[38;5;34m64\u001b[0m)             │         \u001b[38;5;34m4,160\u001b[0m │\n",
       "├─────────────────────────────────┼────────────────────────┼───────────────┤\n",
       "│ dense_2 (\u001b[38;5;33mDense\u001b[0m)                 │ (\u001b[38;5;45mNone\u001b[0m, \u001b[38;5;34m46\u001b[0m)             │         \u001b[38;5;34m2,990\u001b[0m │\n",
       "└─────────────────────────────────┴────────────────────────┴───────────────┘\n"
      ]
     },
     "metadata": {},
     "output_type": "display_data"
    },
    {
     "data": {
      "text/html": [
       "<pre style=\"white-space:pre;overflow-x:auto;line-height:normal;font-family:Menlo,'DejaVu Sans Mono',consolas,'Courier New',monospace\"><span style=\"font-weight: bold\"> Total params: </span><span style=\"color: #00af00; text-decoration-color: #00af00\">647,214</span> (2.47 MB)\n",
       "</pre>\n"
      ],
      "text/plain": [
       "\u001b[1m Total params: \u001b[0m\u001b[38;5;34m647,214\u001b[0m (2.47 MB)\n"
      ]
     },
     "metadata": {},
     "output_type": "display_data"
    },
    {
     "data": {
      "text/html": [
       "<pre style=\"white-space:pre;overflow-x:auto;line-height:normal;font-family:Menlo,'DejaVu Sans Mono',consolas,'Courier New',monospace\"><span style=\"font-weight: bold\"> Trainable params: </span><span style=\"color: #00af00; text-decoration-color: #00af00\">647,214</span> (2.47 MB)\n",
       "</pre>\n"
      ],
      "text/plain": [
       "\u001b[1m Trainable params: \u001b[0m\u001b[38;5;34m647,214\u001b[0m (2.47 MB)\n"
      ]
     },
     "metadata": {},
     "output_type": "display_data"
    },
    {
     "data": {
      "text/html": [
       "<pre style=\"white-space:pre;overflow-x:auto;line-height:normal;font-family:Menlo,'DejaVu Sans Mono',consolas,'Courier New',monospace\"><span style=\"font-weight: bold\"> Non-trainable params: </span><span style=\"color: #00af00; text-decoration-color: #00af00\">0</span> (0.00 B)\n",
       "</pre>\n"
      ],
      "text/plain": [
       "\u001b[1m Non-trainable params: \u001b[0m\u001b[38;5;34m0\u001b[0m (0.00 B)\n"
      ]
     },
     "metadata": {},
     "output_type": "display_data"
    }
   ],
   "source": [
    "# Building the model and printing its shape\n",
    "\n",
    "model = build_model()\n",
    "model.summary()"
   ]
  },
  {
   "cell_type": "markdown",
   "id": "c7ccd62f-1d4a-43b1-9386-b76057ccc402",
   "metadata": {},
   "source": [
    "<div class=\"alert alert-block alert-info\">  \n",
    "    <center><h2><strong>Training and testing</strong></h2></center>\n",
    "</div>"
   ]
  },
  {
   "cell_type": "markdown",
   "id": "ef33b354-b8be-4abb-8c11-62b00b72d2c0",
   "metadata": {},
   "source": [
    "<div class=\"alert alert-block alert-warning\">  \n",
    "<b>Summary of the section: </b> \n",
    "<p>Now we are going to train our model using the vectorized data we created and then validate it against the test data in 20 iterations, checking the accuracy and loss for each iteration to see how it performed.</p>\n",
    "<p>We will then save the results in variables in order to use them later.</p>\n",
    "</div>"
   ]
  },
  {
   "cell_type": "code",
   "execution_count": 6,
   "id": "1420cc89-d5d9-464f-a1b2-c25a33af1159",
   "metadata": {},
   "outputs": [
    {
     "name": "stdout",
     "output_type": "stream",
     "text": [
      "Epoch 1/20\n",
      "\u001b[1m18/18\u001b[0m \u001b[32m━━━━━━━━━━━━━━━━━━━━\u001b[0m\u001b[37m\u001b[0m \u001b[1m1s\u001b[0m 16ms/step - accuracy: 0.3435 - loss: 3.5478 - val_accuracy: 0.5378 - val_loss: 2.4557\n",
      "Epoch 2/20\n",
      "\u001b[1m18/18\u001b[0m \u001b[32m━━━━━━━━━━━━━━━━━━━━\u001b[0m\u001b[37m\u001b[0m \u001b[1m0s\u001b[0m 8ms/step - accuracy: 0.5757 - loss: 2.0982 - val_accuracy: 0.6598 - val_loss: 1.6190\n",
      "Epoch 3/20\n",
      "\u001b[1m18/18\u001b[0m \u001b[32m━━━━━━━━━━━━━━━━━━━━\u001b[0m\u001b[37m\u001b[0m \u001b[1m0s\u001b[0m 8ms/step - accuracy: 0.6994 - loss: 1.4224 - val_accuracy: 0.7088 - val_loss: 1.3323\n",
      "Epoch 4/20\n",
      "\u001b[1m18/18\u001b[0m \u001b[32m━━━━━━━━━━━━━━━━━━━━\u001b[0m\u001b[37m\u001b[0m \u001b[1m0s\u001b[0m 8ms/step - accuracy: 0.7699 - loss: 1.0780 - val_accuracy: 0.7418 - val_loss: 1.1781\n",
      "Epoch 5/20\n",
      "\u001b[1m18/18\u001b[0m \u001b[32m━━━━━━━━━━━━━━━━━━━━\u001b[0m\u001b[37m\u001b[0m \u001b[1m0s\u001b[0m 8ms/step - accuracy: 0.8261 - loss: 0.8385 - val_accuracy: 0.7654 - val_loss: 1.0682\n",
      "Epoch 6/20\n",
      "\u001b[1m18/18\u001b[0m \u001b[32m━━━━━━━━━━━━━━━━━━━━\u001b[0m\u001b[37m\u001b[0m \u001b[1m0s\u001b[0m 8ms/step - accuracy: 0.8587 - loss: 0.6783 - val_accuracy: 0.7760 - val_loss: 1.0009\n",
      "Epoch 7/20\n",
      "\u001b[1m18/18\u001b[0m \u001b[32m━━━━━━━━━━━━━━━━━━━━\u001b[0m\u001b[37m\u001b[0m \u001b[1m0s\u001b[0m 8ms/step - accuracy: 0.8947 - loss: 0.5147 - val_accuracy: 0.7916 - val_loss: 0.9563\n",
      "Epoch 8/20\n",
      "\u001b[1m18/18\u001b[0m \u001b[32m━━━━━━━━━━━━━━━━━━━━\u001b[0m\u001b[37m\u001b[0m \u001b[1m0s\u001b[0m 8ms/step - accuracy: 0.9232 - loss: 0.3902 - val_accuracy: 0.7939 - val_loss: 0.9330\n",
      "Epoch 9/20\n",
      "\u001b[1m18/18\u001b[0m \u001b[32m━━━━━━━━━━━━━━━━━━━━\u001b[0m\u001b[37m\u001b[0m \u001b[1m0s\u001b[0m 8ms/step - accuracy: 0.9395 - loss: 0.3133 - val_accuracy: 0.7956 - val_loss: 0.9331\n",
      "Epoch 10/20\n",
      "\u001b[1m18/18\u001b[0m \u001b[32m━━━━━━━━━━━━━━━━━━━━\u001b[0m\u001b[37m\u001b[0m \u001b[1m0s\u001b[0m 8ms/step - accuracy: 0.9472 - loss: 0.2408 - val_accuracy: 0.7956 - val_loss: 0.9381\n",
      "Epoch 11/20\n",
      "\u001b[1m18/18\u001b[0m \u001b[32m━━━━━━━━━━━━━━━━━━━━\u001b[0m\u001b[37m\u001b[0m \u001b[1m0s\u001b[0m 8ms/step - accuracy: 0.9499 - loss: 0.2065 - val_accuracy: 0.7925 - val_loss: 0.9547\n",
      "Epoch 12/20\n",
      "\u001b[1m18/18\u001b[0m \u001b[32m━━━━━━━━━━━━━━━━━━━━\u001b[0m\u001b[37m\u001b[0m \u001b[1m0s\u001b[0m 8ms/step - accuracy: 0.9559 - loss: 0.1739 - val_accuracy: 0.7979 - val_loss: 0.9616\n",
      "Epoch 13/20\n",
      "\u001b[1m18/18\u001b[0m \u001b[32m━━━━━━━━━━━━━━━━━━━━\u001b[0m\u001b[37m\u001b[0m \u001b[1m0s\u001b[0m 8ms/step - accuracy: 0.9541 - loss: 0.1587 - val_accuracy: 0.8005 - val_loss: 0.9716\n",
      "Epoch 14/20\n",
      "\u001b[1m18/18\u001b[0m \u001b[32m━━━━━━━━━━━━━━━━━━━━\u001b[0m\u001b[37m\u001b[0m \u001b[1m0s\u001b[0m 9ms/step - accuracy: 0.9583 - loss: 0.1396 - val_accuracy: 0.8005 - val_loss: 1.0147\n",
      "Epoch 15/20\n",
      "\u001b[1m18/18\u001b[0m \u001b[32m━━━━━━━━━━━━━━━━━━━━\u001b[0m\u001b[37m\u001b[0m \u001b[1m0s\u001b[0m 8ms/step - accuracy: 0.9599 - loss: 0.1257 - val_accuracy: 0.8041 - val_loss: 0.9918\n",
      "Epoch 16/20\n",
      "\u001b[1m18/18\u001b[0m \u001b[32m━━━━━━━━━━━━━━━━━━━━\u001b[0m\u001b[37m\u001b[0m \u001b[1m0s\u001b[0m 8ms/step - accuracy: 0.9611 - loss: 0.1146 - val_accuracy: 0.8045 - val_loss: 1.0153\n",
      "Epoch 17/20\n",
      "\u001b[1m18/18\u001b[0m \u001b[32m━━━━━━━━━━━━━━━━━━━━\u001b[0m\u001b[37m\u001b[0m \u001b[1m0s\u001b[0m 8ms/step - accuracy: 0.9617 - loss: 0.1141 - val_accuracy: 0.8023 - val_loss: 1.0524\n",
      "Epoch 18/20\n",
      "\u001b[1m18/18\u001b[0m \u001b[32m━━━━━━━━━━━━━━━━━━━━\u001b[0m\u001b[37m\u001b[0m \u001b[1m0s\u001b[0m 8ms/step - accuracy: 0.9624 - loss: 0.1058 - val_accuracy: 0.7979 - val_loss: 1.0807\n",
      "Epoch 19/20\n",
      "\u001b[1m18/18\u001b[0m \u001b[32m━━━━━━━━━━━━━━━━━━━━\u001b[0m\u001b[37m\u001b[0m \u001b[1m0s\u001b[0m 8ms/step - accuracy: 0.9630 - loss: 0.1047 - val_accuracy: 0.7956 - val_loss: 1.0783\n",
      "Epoch 20/20\n",
      "\u001b[1m18/18\u001b[0m \u001b[32m━━━━━━━━━━━━━━━━━━━━\u001b[0m\u001b[37m\u001b[0m \u001b[1m0s\u001b[0m 8ms/step - accuracy: 0.9617 - loss: 0.1029 - val_accuracy: 0.7956 - val_loss: 1.0806\n",
      "\u001b[1m71/71\u001b[0m \u001b[32m━━━━━━━━━━━━━━━━━━━━\u001b[0m\u001b[37m\u001b[0m \u001b[1m0s\u001b[0m 517us/step - accuracy: 0.8042 - loss: 1.0645\n",
      "Test accuracy: 0.7956\n"
     ]
    }
   ],
   "source": [
    "import numpy as np\n",
    "import tensorflow as tf\n",
    "from tensorflow.keras import models, layers\n",
    "from tensorflow.keras.datasets import reuters\n",
    "from tensorflow.keras.utils import to_categorical\n",
    "\n",
    "history = model.fit(vectorized_train_data, vectorized_train_labels, epochs=20, \n",
    "                    batch_size=512, \n",
    "                    validation_data=(vectorized_test_data, vectorized_test_labels))\n",
    "\n",
    "# Evaluate the model\n",
    "test_loss, test_acc = model.evaluate(vectorized_test_data, vectorized_test_labels)\n",
    "print(f\"Test accuracy: {test_acc:.4f}\")"
   ]
  },
  {
   "cell_type": "markdown",
   "id": "95c8086c-459e-4968-9e01-7c6fa03027c7",
   "metadata": {},
   "source": [
    "<div class=\"alert alert-block alert-info\">  \n",
    "    <center><h2><strong>Analyzing the results</strong></h2></center>\n",
    "</div>"
   ]
  },
  {
   "cell_type": "markdown",
   "id": "22b678d5-c533-4b94-a5d0-371b4df1a53d",
   "metadata": {},
   "source": [
    "<div class=\"alert alert-block alert-warning\">  \n",
    "<b>How It Works: </b> \n",
    "<hr>\n",
    "<p>Below we will be plotting the functions of the accuracy and loss for training and validation data per epoch.</p>\n",
    "We will do the plot using matplotlib according to the steps described below:\n",
    "1. Plot training values for loss and accuracy using train_marker and train_label.\n",
    "2. Plot validation values  for val_marker and val_label.\n",
    "3. Set the title, x-axis, and y-axis labels.\n",
    "4. Display the legend to differentiate training and validation.\n",
    "<hr>\n",
    "</div>"
   ]
  },
  {
   "cell_type": "code",
   "execution_count": 7,
   "id": "73bb8fa0-7b72-4e7c-a506-5aa244059ce7",
   "metadata": {},
   "outputs": [],
   "source": [
    "# Helper function for the results evaluation\n",
    "\n",
    "import matplotlib.pyplot as plt\n",
    "\"\"\"\n",
    "Plots training and validation metrics over epochs.\n",
    "\n",
    "Parameters:\n",
    "epochs (list): List of epoch numbers.\n",
    "train_values (list): Training metric values.\n",
    "train_marker (str): Marker style for training plot.\n",
    "train_label (str): Label for training plot.\n",
    "val_values (list): Validation metric values.\n",
    "val_marker (str): Marker style for validation plot.\n",
    "val_label (str): Label for validation plot.\n",
    "title (str): Title of the plot.\n",
    "xlabel (str): Label for x-axis.\n",
    "ylabel (str): Label for y-axis.\n",
    "\"\"\"\n",
    "def plot_epochs(epochs, \n",
    "                train_values, train_marker, train_label, \n",
    "                val_values, val_marker, val_label, \n",
    "                title, xlabel, ylabel):\n",
    "    plt.plot(epochs, train_values, train_marker, label=train_label)\n",
    "    plt.plot(epochs, val_values, val_marker, label=val_label)\n",
    "    plt.title(title)\n",
    "    plt.xlabel(xlabel)\n",
    "    plt.ylabel(ylabel)\n",
    "    plt.legend()\n",
    "    plt.show()"
   ]
  },
  {
   "cell_type": "markdown",
   "id": "297c4a21-722b-4b17-9782-6f5d82cc496f",
   "metadata": {},
   "source": [
    "#### Below we will get the training details for loss in all epochs and save them into variables to later pass to the function we just created. \n",
    "##### The parameters we are going to use are:\n",
    "1. loss: The training loss, to see how far off our predictions are from the actual values.\n",
    "2. val_loss: the validation loss.\n",
    "3. accuracy: the training accuracy, to see how accurate are our predictions.\n",
    "4. val_accuracy: the validation accuracy.\n"
   ]
  },
  {
   "cell_type": "code",
   "execution_count": 8,
   "id": "35cdf45b-4ce7-40d1-aa02-fefad657fc78",
   "metadata": {},
   "outputs": [],
   "source": [
    "# Plotting the loss for training and validation\n",
    "\n",
    "loss = history.history['loss']\n",
    "val_loss = history.history['val_loss']\n",
    "\n",
    "accuracy = history.history['accuracy']\n",
    "val_accuracy = history.history['val_accuracy']\n"
   ]
  },
  {
   "cell_type": "markdown",
   "id": "de0e1336-55c9-432a-a1b2-6c8007836b2a",
   "metadata": {},
   "source": [
    "#### Now we are going to use the function we have created above to plot the graphs:"
   ]
  },
  {
   "cell_type": "code",
   "execution_count": 9,
   "id": "14262689-4e74-4df1-8423-f338620067e2",
   "metadata": {},
   "outputs": [
    {
     "data": {
      "image/png": "[encoded data removed]",
      "text/plain": [
       "<Figure size 640x480 with 1 Axes>"
      ]
     },
     "metadata": {},
     "output_type": "display_data"
    }
   ],
   "source": [
    "plot_epochs(range(1, len(loss) + 1), \n",
    "            loss, \n",
    "            \"bo\", \"Training\", \n",
    "            val_loss, \"b\", \"Validation\", \n",
    "            \"Training and validation loss\", \n",
    "            \"Epochs\", \"Loss\")"
   ]
  },
  {
   "cell_type": "code",
   "execution_count": 10,
   "id": "c24b0fd3-a39a-4648-be08-824482c6d71c",
   "metadata": {},
   "outputs": [
    {
     "data": {
      "image/png": "[encoded data removed]",
      "text/plain": [
       "<Figure size 640x480 with 1 Axes>"
      ]
     },
     "metadata": {},
     "output_type": "display_data"
    }
   ],
   "source": [
    "# Plotting the accuracy for training and validation\n",
    "\n",
    "accuracy = history.history['accuracy']\n",
    "val_accuracy = history.history['val_accuracy']\n",
    "\n",
    "plot_epochs(range(1, len(loss) + 1), \n",
    "            accuracy, \n",
    "            \"bo\", \"Training\", \n",
    "            val_accuracy, \"b\", \"Validation\", \n",
    "            \"Training and validation accuracy\", \n",
    "            \"Epochs\", \"Loss\")"
   ]
  },
  {
   "cell_type": "markdown",
   "id": "5e9a878e-18f7-4eba-840f-632ff241c729",
   "metadata": {},
   "source": [
    "#### Observations:\n",
    "##### The training accuracy improves significantly over the epochs, reaching close to 100%. This suggests that the model is learning well on the training data.\n",
    "##### The validation accuracy increases at first but stops improving around epoch 8–10. After that, it slightly fluctuates but does not increase further.\n",
    "##### The gap between training and validation accuracy grows after a few epochs. This suggests overfitting, where the model memorizes the training data but does not generalize well to unseen validation data."
   ]
  },
  {
   "cell_type": "markdown",
   "id": "fc589a56-305c-4b78-808c-80b500aab8ce",
   "metadata": {},
   "source": [
    "<div class=\"alert alert-block alert-info\">  \n",
    "    <center><h2><strong>Predicting on new data</strong></h2></center>\n",
    "</div>"
   ]
  },
  {
   "cell_type": "markdown",
   "id": "7083e233-587a-4156-821c-c57c25b038a3",
   "metadata": {},
   "source": [
    "<b>Summary of the section:</b> \n",
    "<p>Below we will try to use our model to predict on top of useen data to see how it performs. We will do this by following the steps below:</p>\n",
    "<ol>\n",
    "    <li>Load new unseen data: We take test samples from the Reuters dataset.</li>\n",
    "    <li>Vectorize the sequences: Convert them into the same format as training data.</li>\n",
    "    <li>Predict using the trained model,)</li>\n",
    "    <li>Get the predicted class: Use np.argmax() to find the most likely class.</li>\n",
    "    <li>Compare predictions to actual values: Check how well the model performs.</li>\n",
    "</ol>\n",
    "<div>"
   ]
  },
  {
   "cell_type": "code",
   "execution_count": 11,
   "id": "11ef13a4-8625-4a62-95d6-f4c1bfa77e36",
   "metadata": {},
   "outputs": [],
   "source": [
    "# Helper functions for prediction\n",
    "\n",
    "# TODO: Fix function below\n",
    "# Function to count number of correct predictions\n",
    "def count_correct_predictions(y_test, predicted_classes):    \n",
    "    true_classes = np.argmax(y_test, axis=1)\n",
    "    \n",
    "    return np.sum(predicted_classes == true_classes)\n",
    "    \n",
    "\n",
    "# Function to decode a news article\n",
    "def decode_article(encoded_article):\n",
    "    word_index = reuters.get_word_index()\n",
    "    \n",
    "    # Invert the word index to map integers back to words\n",
    "    index_to_word = {index + 3: word for word, index in word_index.items()}\n",
    "\n",
    "    # Special indices for padding, start of sequence, etc.\n",
    "    index_to_word[0] = \"[PAD]\"    # Padding token\n",
    "    index_to_word[1] = \"[START]\"  # Start of sequence token\n",
    "    index_to_word[2] = \"[UNK]\"    # Unknown word token\n",
    "    \n",
    "    return \" \".join(index_to_word.get(i, \"[UNK]\") for i in encoded_article)\n",
    "\n",
    "# TODO: Replace the actual and expected by the class text instead of text value\n",
    "# Function to print all the mispredictions up until n\n",
    "def get_misprediction(n, x_test_texts, x_test_vectorized, y_test, predictions, predicted_classes):\n",
    "    if n  > len(y_test):\n",
    "        return None\n",
    "    \n",
    "    for i in range(n):\n",
    "        if predicted_classes[i] != y_test[i]:  # If prediction is incorrect\n",
    "            print(f\"Text: {decode_article(x_test_texts[i])}\\nPredicted: {predicted_classes[i]}, Expected: {y_test[i]}\\n\")"
   ]
  },
  {
   "cell_type": "code",
   "execution_count": 12,
   "id": "2a15d821-1439-4d19-abaa-b4df2835b3e7",
   "metadata": {},
   "outputs": [
    {
     "name": "stdout",
     "output_type": "stream",
     "text": [
      "\u001b[1m71/71\u001b[0m \u001b[32m━━━━━━━━━━━━━━━━━━━━\u001b[0m\u001b[37m\u001b[0m \u001b[1m0s\u001b[0m 545us/step\n",
      "Text: [START] [UNK] [UNK] oil and gas partnership said it completed the sale of interests in two major oil and gas fields to lt energy assets international corp for 21 mln dlrs the company said it sold about one half of its 50 pct interest in the oak hill and north [UNK] fields its two largest producing properties it said it used about 20 mln dlrs of the proceeds to [UNK] principal on its senior secured notes semi annual principal payments on the remaining 40 mln dlrs of notes have been satisfied until december 1988 as a result it said the company said the note agreements were amended to reflect an easing of some financial covenants and an increase of interest to 13 5 pct from 13 0 pct until december 1990 it said the [UNK] exercise price for 1 125 000 warrants was also reduced to 50 cts from 1 50 dlrs the company said energy assets agreed to share the costs of increasing production at the oak hill field reuter 3\n",
      "Predicted: 16, Expected: 4\n",
      "\n",
      "Text: [START] strong south [UNK] winds were keeping many vessels trapped in the ice off the finnish and swedish coasts in one of the worst icy periods in the baltic for many years the finnish board of navigation said in finland and sweden up to 50 vessels were reported to be stuck in the ice and even the largest of the [UNK] [UNK] were having difficulties in breaking through to the [UNK] ships [UNK] officials said however icy conditions in the southern baltic at the soviet oil ports of [UNK] and [UNK] had eased they said weather officials in neighbouring sweden said the icy conditions in the baltic were the worst for 30 years with ships fighting a losing battle to keep moving in the coastal stretches of the gulf of [UNK] which [UNK] finland and sweden the ice is up to one [UNK] thick with [UNK] and [UNK] packing it into almost [UNK] walls three metres high swedish [UNK] officials said weather forecasts say winds may ease during the weekend but a further drop in temperature could bring shipping to a standstill the officials said reuter 3\n",
      "Predicted: 13, Expected: 4\n",
      "\n"
     ]
    }
   ],
   "source": [
    "# Make predictions on unseen data\n",
    "predictions = model.predict(vectorized_test_data)\n",
    "\n",
    "# Convert softmax output to class labels\n",
    "predicted_classes = np.argmax(predictions, axis=1)\n",
    "\n",
    "# Showing examples of the results an example of a misprediction\n",
    "get_misprediction(5, test_data, vectorized_test_data, test_labels, predictions, predicted_classes)"
   ]
  },
  {
   "cell_type": "code",
   "execution_count": 13,
   "id": "212efb32-1da7-4050-83e4-d38ba1da8140",
   "metadata": {},
   "outputs": [],
   "source": [
    "# TODO> Fix\n",
    "# predicted_classes = np.argmax(predictions, axis=1)\n",
    "\n",
    "# correct_predictions = count_correct_predictions(test_data, predicted_classes)\n",
    "# print(\"Number of correct predictions: \", correct_predictions)"
   ]
  },
  {
   "cell_type": "markdown",
   "id": "f34a5bbe-3be7-405a-8940-a982fc0b621e",
   "metadata": {},
   "source": [
    "<div class=\"alert alert-block alert-warning\">  \n",
    "<p>The model above is overfitting. The training accuracy reaches 96%, while the validation accuracy stagnates around 79-80% and the loss starts increasing after a few epochs. To optimize the model, we need to apply regularization, better dropout, and fine-tune hyperparameters. With this we expect to improve the accuracy for both training and validation, increase the loss divergence to make the model more stable and thus reduce overfitting.</p>\n",
    "</div>"
   ]
  },
  {
   "cell_type": "markdown",
   "id": "febb328d-3a95-438a-a8e9-30c1322088c5",
   "metadata": {},
   "source": [
    "<div class=\"alert alert-block alert-info\">  \n",
    "    <center><h2><strong>Model tuning</strong></h2></center>\n",
    "</div>"
   ]
  },
  {
   "cell_type": "markdown",
   "id": "e878d6f5-32bb-4554-945b-fefd7431f069",
   "metadata": {},
   "source": [
    "<div class=\"alert alert-block alert-warning\">  \n",
    "<hr>\n",
    "<p>Now we will build a new model based on our conclusions above. It will be a sequential model with 5 layers as described below:</p>\n",
    "<ul>\n",
    "     <li>1. Input Layer & First Hidden Layer: Fully connected layer with 64 neurons which uses  Rectified Linear Unit (ReLU) as its activation function to introduce non-linearity. This time in this layer we will add L2 Regularization in order to try and prevent the overfitting by penalizing large weights. </li>\n",
    "     <li>2. Dropout Layer: We will add a dropout layer that randomly disable 50% of neurons during training. We expect this to also reduce the overfitting. </li>\n",
    "     <li>3. Second Hidden Layer: Another fully connected layer with 32 neurons with L2 Regularization. </li>\n",
    "     <li>4. Another Dropout Layer. This time to disable 30% of the neuros during training. </li>\n",
    "     <li>5. Output Layer: Fully connected layer with 46 output neurons, corresponding to 46 possible classes (the categories in the dataset) with softmax activation. </li>\n",
    "</ul>\n",
    "\n",
    "</div>"
   ]
  },
  {
   "cell_type": "code",
   "execution_count": 14,
   "id": "e82cc757-dfe2-49d4-b3f0-b9f63b333ed7",
   "metadata": {},
   "outputs": [],
   "source": [
    "# Helper functions for the optimization\n",
    "from tensorflow.keras import models, layers, regularizers, callbacks\n",
    "\n",
    "# Helper function to build the model\n",
    "def build_optimized_model():\n",
    "    model = models.Sequential([\n",
    "        layers.Dense(64, activation=\"relu\", input_shape=(10000,), \n",
    "                     kernel_regularizer=regularizers.l2(0.001)),  # L2 regularization\n",
    "        layers.Dropout(0.5),  # Dropout to reduce overfitting\n",
    "        layers.Dense(32, activation=\"relu\", kernel_regularizer=regularizers.l2(0.001)),\n",
    "        layers.Dropout(0.3),\n",
    "        layers.Dense(46, activation=\"softmax\")  # Output layer\n",
    "    ])\n",
    "    \n",
    "    # Compile the model\n",
    "    model.compile(\n",
    "        optimizer=tf.keras.optimizers.Adam(learning_rate=0.001),  # Lower learning rate\n",
    "        loss=\"categorical_crossentropy\",\n",
    "        metrics=[\"accuracy\"]\n",
    "    )\n",
    "    \n",
    "    return model"
   ]
  },
  {
   "cell_type": "markdown",
   "id": "a95a2d81-2fdb-46b0-839a-b9279f94647d",
   "metadata": {},
   "source": [
    "#### Now we will build and train our new model. "
   ]
  },
  {
   "cell_type": "code",
   "execution_count": 15,
   "id": "b3b4f0a7-abce-4969-9cf6-7c74ada07f33",
   "metadata": {},
   "outputs": [
    {
     "name": "stdout",
     "output_type": "stream",
     "text": [
      "Epoch 1/20\n",
      "\u001b[1m18/18\u001b[0m \u001b[32m━━━━━━━━━━━━━━━━━━━━\u001b[0m\u001b[37m\u001b[0m \u001b[1m1s\u001b[0m 14ms/step - accuracy: 0.1418 - loss: 3.8127 - val_accuracy: 0.5178 - val_loss: 3.0085\n",
      "Epoch 2/20\n",
      "\u001b[1m18/18\u001b[0m \u001b[32m━━━━━━━━━━━━━━━━━━━━\u001b[0m\u001b[37m\u001b[0m \u001b[1m0s\u001b[0m 8ms/step - accuracy: 0.4487 - loss: 2.8606 - val_accuracy: 0.5926 - val_loss: 2.0456\n",
      "Epoch 3/20\n",
      "\u001b[1m18/18\u001b[0m \u001b[32m━━━━━━━━━━━━━━━━━━━━\u001b[0m\u001b[37m\u001b[0m \u001b[1m0s\u001b[0m 8ms/step - accuracy: 0.5646 - loss: 2.1342 - val_accuracy: 0.6451 - val_loss: 1.7070\n",
      "Epoch 4/20\n",
      "\u001b[1m18/18\u001b[0m \u001b[32m━━━━━━━━━━━━━━━━━━━━\u001b[0m\u001b[37m\u001b[0m \u001b[1m0s\u001b[0m 8ms/step - accuracy: 0.6155 - loss: 1.7862 - val_accuracy: 0.6745 - val_loss: 1.5607\n",
      "Epoch 5/20\n",
      "\u001b[1m18/18\u001b[0m \u001b[32m━━━━━━━━━━━━━━━━━━━━\u001b[0m\u001b[37m\u001b[0m \u001b[1m0s\u001b[0m 8ms/step - accuracy: 0.6567 - loss: 1.6139 - val_accuracy: 0.6874 - val_loss: 1.4708\n",
      "Epoch 6/20\n",
      "\u001b[1m18/18\u001b[0m \u001b[32m━━━━━━━━━━━━━━━━━━━━\u001b[0m\u001b[37m\u001b[0m \u001b[1m0s\u001b[0m 8ms/step - accuracy: 0.6755 - loss: 1.4970 - val_accuracy: 0.6977 - val_loss: 1.4200\n",
      "Epoch 7/20\n",
      "\u001b[1m18/18\u001b[0m \u001b[32m━━━━━━━━━━━━━━━━━━━━\u001b[0m\u001b[37m\u001b[0m \u001b[1m0s\u001b[0m 8ms/step - accuracy: 0.7115 - loss: 1.3634 - val_accuracy: 0.7124 - val_loss: 1.3836\n",
      "Epoch 8/20\n",
      "\u001b[1m18/18\u001b[0m \u001b[32m━━━━━━━━━━━━━━━━━━━━\u001b[0m\u001b[37m\u001b[0m \u001b[1m0s\u001b[0m 8ms/step - accuracy: 0.7075 - loss: 1.3518 - val_accuracy: 0.7240 - val_loss: 1.3507\n",
      "Epoch 9/20\n",
      "\u001b[1m18/18\u001b[0m \u001b[32m━━━━━━━━━━━━━━━━━━━━\u001b[0m\u001b[37m\u001b[0m \u001b[1m0s\u001b[0m 9ms/step - accuracy: 0.7371 - loss: 1.2568 - val_accuracy: 0.7320 - val_loss: 1.3287\n",
      "Epoch 10/20\n",
      "\u001b[1m18/18\u001b[0m \u001b[32m━━━━━━━━━━━━━━━━━━━━\u001b[0m\u001b[37m\u001b[0m \u001b[1m0s\u001b[0m 8ms/step - accuracy: 0.7404 - loss: 1.2278 - val_accuracy: 0.7373 - val_loss: 1.3110\n",
      "Epoch 11/20\n",
      "\u001b[1m18/18\u001b[0m \u001b[32m━━━━━━━━━━━━━━━━━━━━\u001b[0m\u001b[37m\u001b[0m \u001b[1m0s\u001b[0m 8ms/step - accuracy: 0.7524 - loss: 1.1937 - val_accuracy: 0.7471 - val_loss: 1.2937\n",
      "Epoch 12/20\n",
      "\u001b[1m18/18\u001b[0m \u001b[32m━━━━━━━━━━━━━━━━━━━━\u001b[0m\u001b[37m\u001b[0m \u001b[1m0s\u001b[0m 8ms/step - accuracy: 0.7665 - loss: 1.1491 - val_accuracy: 0.7409 - val_loss: 1.2829\n",
      "Epoch 13/20\n",
      "\u001b[1m18/18\u001b[0m \u001b[32m━━━━━━━━━━━━━━━━━━━━\u001b[0m\u001b[37m\u001b[0m \u001b[1m0s\u001b[0m 8ms/step - accuracy: 0.7763 - loss: 1.1068 - val_accuracy: 0.7507 - val_loss: 1.2760\n",
      "Epoch 14/20\n",
      "\u001b[1m18/18\u001b[0m \u001b[32m━━━━━━━━━━━━━━━━━━━━\u001b[0m\u001b[37m\u001b[0m \u001b[1m0s\u001b[0m 8ms/step - accuracy: 0.7785 - loss: 1.1010 - val_accuracy: 0.7533 - val_loss: 1.2716\n",
      "Epoch 15/20\n",
      "\u001b[1m18/18\u001b[0m \u001b[32m━━━━━━━━━━━━━━━━━━━━\u001b[0m\u001b[37m\u001b[0m \u001b[1m0s\u001b[0m 9ms/step - accuracy: 0.7730 - loss: 1.0817 - val_accuracy: 0.7596 - val_loss: 1.2598\n",
      "Epoch 16/20\n",
      "\u001b[1m18/18\u001b[0m \u001b[32m━━━━━━━━━━━━━━━━━━━━\u001b[0m\u001b[37m\u001b[0m \u001b[1m0s\u001b[0m 8ms/step - accuracy: 0.7831 - loss: 1.0634 - val_accuracy: 0.7627 - val_loss: 1.2573\n",
      "Epoch 17/20\n",
      "\u001b[1m18/18\u001b[0m \u001b[32m━━━━━━━━━━━━━━━━━━━━\u001b[0m\u001b[37m\u001b[0m \u001b[1m0s\u001b[0m 8ms/step - accuracy: 0.7929 - loss: 1.0215 - val_accuracy: 0.7694 - val_loss: 1.2458\n",
      "Epoch 18/20\n",
      "\u001b[1m18/18\u001b[0m \u001b[32m━━━━━━━━━━━━━━━━━━━━\u001b[0m\u001b[37m\u001b[0m \u001b[1m0s\u001b[0m 8ms/step - accuracy: 0.7914 - loss: 1.0378 - val_accuracy: 0.7703 - val_loss: 1.2465\n",
      "Epoch 19/20\n",
      "\u001b[1m18/18\u001b[0m \u001b[32m━━━━━━━━━━━━━━━━━━━━\u001b[0m\u001b[37m\u001b[0m \u001b[1m0s\u001b[0m 8ms/step - accuracy: 0.8034 - loss: 0.9948 - val_accuracy: 0.7716 - val_loss: 1.2452\n",
      "Epoch 20/20\n",
      "\u001b[1m18/18\u001b[0m \u001b[32m━━━━━━━━━━━━━━━━━━━━\u001b[0m\u001b[37m\u001b[0m \u001b[1m0s\u001b[0m 8ms/step - accuracy: 0.8061 - loss: 0.9771 - val_accuracy: 0.7725 - val_loss: 1.2399\n",
      "\u001b[1m71/71\u001b[0m \u001b[32m━━━━━━━━━━━━━━━━━━━━\u001b[0m\u001b[37m\u001b[0m \u001b[1m0s\u001b[0m 526us/step - accuracy: 0.8042 - loss: 1.0645\n",
      "Optimized Test Accuracy: 0.7956\n"
     ]
    }
   ],
   "source": [
    "# Early stopping callback\n",
    "early_stopping = callbacks.EarlyStopping(monitor=\"val_loss\", patience=5, restore_best_weights=True)\n",
    "\n",
    "# Train the model\n",
    "optimized_model = build_optimized_model()\n",
    "optimized_model_history = optimized_model.fit(\n",
    "    vectorized_train_data, vectorized_train_labels,\n",
    "    epochs=20, batch_size=512,\n",
    "    validation_data=(vectorized_test_data, vectorized_test_labels),\n",
    "    callbacks=[early_stopping]\n",
    ")\n",
    "\n",
    "# Evaluate on test set\n",
    "optimized_test_loss, optimized_test_acc = model.evaluate(vectorized_test_data, vectorized_test_labels)\n",
    "print(f\"Optimized Test Accuracy: {optimized_test_acc:.4f}\")"
   ]
  },
  {
   "cell_type": "markdown",
   "id": "02a40c76-e8c2-4567-a856-61c76425403d",
   "metadata": {},
   "source": [
    "#### Let us see how our new model performed:"
   ]
  },
  {
   "cell_type": "code",
   "execution_count": 16,
   "id": "ab46470e-9cfe-4f81-a3ea-568618a7e2c4",
   "metadata": {},
   "outputs": [
    {
     "data": {
      "image/png": "[encoded data removed]",
      "text/plain": [
       "<Figure size 640x480 with 1 Axes>"
      ]
     },
     "metadata": {},
     "output_type": "display_data"
    }
   ],
   "source": [
    "# Plotting the loss for training and validation\n",
    "\n",
    "optimized_loss = optimized_model_history.history['loss']\n",
    "optimized_val_loss = optimized_model_history.history['val_loss']\n",
    "\n",
    "plot_epochs(range(1, len(loss) + 1), \n",
    "            optimized_loss, \n",
    "            \"bo\", \"Training\", \n",
    "            optimized_val_loss, \"b\", \"Validation\", \n",
    "            \"Training and validation loss\", \n",
    "            \"Epochs\", \"Loss\")"
   ]
  },
  {
   "cell_type": "markdown",
   "id": "cc55ad68-a1f9-48d6-b925-2a994c66cfd4",
   "metadata": {},
   "source": [
    "#### Observations:\n",
    "##### Trend: Both training and validation accuracy increase over epochs. The same as the other model.\n",
    "##### Training vs. Validation Accuracy: The training accuracy is consistently higher than the validation accuracy (line), but they follow a similar trajectory.\n",
    "##### Potential Overfitting: The gap between training and validation accuracy suggests a slight overfitting trend, especially in later epochs. However, it does not seem excessive and is less than the previous model."
   ]
  },
  {
   "cell_type": "code",
   "execution_count": 17,
   "id": "deab51c9-703d-4c25-b6dd-7b35ea91ae4e",
   "metadata": {},
   "outputs": [
    {
     "data": {
      "image/png": "[encoded data removed]",
      "text/plain": [
       "<Figure size 640x480 with 1 Axes>"
      ]
     },
     "metadata": {},
     "output_type": "display_data"
    }
   ],
   "source": [
    "# Plotting the accuracy for training and validation\n",
    "\n",
    "optimized_model_accuracy = optimized_model_history.history['accuracy']\n",
    "optimized_model_val_accuracy = optimized_model_history.history['val_accuracy']\n",
    "\n",
    "plot_epochs(range(1, len(loss) + 1), \n",
    "            optimized_model_accuracy, \n",
    "            \"bo\", \"Training\", \n",
    "            optimized_model_val_accuracy, \"b\", \"Validation\", \n",
    "            \"Training and validation accuracy\", \n",
    "            \"Epochs\", \"Loss\")"
   ]
  },
  {
   "cell_type": "markdown",
   "id": "8fcbff21-b1b5-44dd-a854-e6b72154c21c",
   "metadata": {},
   "source": [
    "#### Observations:\n",
    "##### Loss Decrease: Both training and validation loss decrease over time, indicating successful learning.\n",
    "##### Stabilization: The validation loss stabilizes after about 10 epochs, while training loss continues to slightly decrease.\n",
    "##### No Clear Overfitting in Loss: Since validation loss does not increase after many epochs, overfitting is not severe. Better than the previous model"
   ]
  }
 ],
 "metadata": {
  "kernelspec": {
   "display_name": "Python 3 (ipykernel)",
   "language": "python",
   "name": "python3"
  },
  "language_info": {
   "codemirror_mode": {
    "name": "ipython",
    "version": 3
   },
   "file_extension": ".py",
   "mimetype": "text/x-python",
   "name": "python",
   "nbconvert_exporter": "python",
   "pygments_lexer": "ipython3",
   "version": "3.12.6"
  }
 },
 "nbformat": 4,
 "nbformat_minor": 5
}
