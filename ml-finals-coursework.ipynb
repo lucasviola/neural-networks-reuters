{
 "cells": [
  {
   "cell_type": "markdown",
   "id": "68492aae-8831-44cf-b35c-bc33d8ff7e8d",
   "metadata": {},
   "source": [
    "<div class=\"alert\">  \n",
    "    <center><h1><strong>\n",
    "        CM-3015 Machine Learning and Neural Networks finals: Training a model using Neural Networks on top of the reuters dataset\n",
    "    </strong></h1></center>"
   ]
  },
  {
   "cell_type": "markdown",
   "id": "f305ee6a-3c7b-42a0-a660-80f348a6b55b",
   "metadata": {},
   "source": [
    "## Summary\n",
    "1. Problem definition and dataset loading\n",
    "2. Preprocessing the dataset\n",
    "3. Building the baseline model\n",
    "4. Training and testing\n",
    "5. Analyzing the results\n",
    "6. Model tuning\n",
    "7. Evaluation"
   ]
  },
  {
   "cell_type": "markdown",
   "id": "cccfe55d-391a-477e-bf69-627236195857",
   "metadata": {},
   "source": [
    "<div class=\"alert alert-block alert-info\">  \n",
    "    <center><h2><strong>Problem definition and dataset loading</strong></h2></center>"
   ]
  },
  {
   "cell_type": "markdown",
   "id": "0f26eff3-14eb-484e-9b5a-ab4ac3068b19",
   "metadata": {},
   "source": [
    "<div class=\"alert alert-block alert-warning\">  \n",
    "<b>Define the problem at hand and the data on which we’ll train. Collect this data, potentially annotate with labels (supervised learning). </b> \n",
    "<hr>\n",
    "<ul>\n",
    "    <li>1. What is the problem we are tackling? Text classification using Deep Learning and the Reuters dataset.</li>\n",
    "    <li>1. How are we measuring success? Accuracy and function loss.</li>\n",
    "</ul>\n",
    "    \n",
    "<hr>\n",
    "<b>Source of Data: </b> \n",
    "<hr> \n",
    " <a href=\"https://paperswithcode.com/dataset/liar\">https://paperswithcode.com/dataset/liar</a>\n",
    "   \n",
    "</div>"
   ]
  },
  {
   "cell_type": "code",
   "execution_count": 109,
   "id": "e38970a9-d21b-4002-8ddf-b037ec5d51f9",
   "metadata": {},
   "outputs": [],
   "source": [
    "import numpy as np\n",
    "import tensorflow as tf\n",
    "from tensorflow.keras.datasets import reuters\n",
    "from tensorflow.keras import layers, models\n",
    "from tensorflow.keras.layers import TextVectorization\n",
    "\n",
    "# Load the Reuters dataset\n",
    "(train_data, train_labels), (test_data, test_labels) = reuters.load_data(num_words=10000)"
   ]
  },
  {
   "cell_type": "markdown",
   "id": "6d4836e8-c061-4b93-8f5c-32096ea74187",
   "metadata": {},
   "source": [
    "<div class=\"alert alert-block alert-info\">  \n",
    "    <center><h2><strong>Preprocessing the dataset</strong></h2></center>"
   ]
  },
  {
   "cell_type": "markdown",
   "id": "e9bf52d4-1651-4b5d-a1ce-5df317b93b81",
   "metadata": {},
   "source": [
    "<div class=\"alert alert-block alert-warning\">  \n",
    "<b>Summary of the section </b> \n",
    "<hr>\n",
    "<ul>\n",
    "    <ul> Vectorization:\n",
    "    <li>1.Decodes the numerical sequences back into text using the dataset's word index. </li>\n",
    "    <li>2.Uses TextVectorization to tokenize and vectorize the dataset into fixed-length sequences.. </li>\n",
    "    <li>3.Returns vectorized data that can be used in deep learning models. </li>\n",
    "</ul>\n",
    "    \n",
    "<hr>\n",
    "<b>Source of Data: </b> \n",
    "<hr> \n",
    " <a href=\"https://paperswithcode.com/dataset/liar\">https://paperswithcode.com/dataset/liar</a>\n",
    "   \n",
    "</div>"
   ]
  },
  {
   "cell_type": "code",
   "execution_count": 110,
   "id": "b4fd72a2-3253-4fef-9b76-d13597b15732",
   "metadata": {},
   "outputs": [],
   "source": [
    "# Helper function for vectorizing the data input\n",
    "from tensorflow.keras.utils import to_categorical\n",
    "\n",
    "# One-hot encode the sequences (vectorizing the input data)\n",
    "def vectorize_sequences(sequences, dimension=10000):\n",
    "    results = np.zeros((len(sequences), dimension))\n",
    "    for i, sequence in enumerate(sequences):\n",
    "        results[i, sequence] = 1.0  # Set specific indices to 1s\n",
    "    return results"
   ]
  },
  {
   "cell_type": "code",
   "execution_count": 111,
   "id": "bd67327a-9c2c-402e-8a81-471f244786e9",
   "metadata": {},
   "outputs": [],
   "source": [
    "# One-hot encode the labels\n",
    "\n",
    "vectorized_train_data = vectorize_sequences(train_data)\n",
    "vectorized_test_data = vectorize_sequences(test_data)\n",
    "\n",
    "# One-hot encode the output labels (categorical labels)\n",
    "vectorized_train_labels = to_categorical(train_labels)\n",
    "vectorized_test_labels = to_categorical(test_labels)"
   ]
  },
  {
   "cell_type": "markdown",
   "id": "ef5a8c1d-464f-4ab2-a046-007b5e535882",
   "metadata": {},
   "source": [
    "<div class=\"alert alert-block alert-info\">  \n",
    "    <center><h2><strong>Building the baseline model</strong></h2></center>"
   ]
  },
  {
   "cell_type": "markdown",
   "id": "e1471398-dae0-4720-8c2b-076001b722d7",
   "metadata": {},
   "source": [
    "<div class=\"alert alert-block alert-warning\">  \n",
    "<b>Summary of the section </b> \n",
    "<hr>\n",
    "Here we will be building our model ...\n",
    "<hr>\n"
   ]
  },
  {
   "cell_type": "code",
   "execution_count": 112,
   "id": "74d3cc92-bde3-4bf7-bd94-8bfb414a5724",
   "metadata": {},
   "outputs": [],
   "source": [
    "# Helper functions for building the model\n",
    "\n",
    "from tensorflow.keras import models\n",
    "from tensorflow.keras import layers\n",
    "\n",
    "# Define the model\n",
    "def build_model():\n",
    "    model = models.Sequential()\n",
    "    model.add(layers.Dense(64, activation=\"relu\", input_shape=(10000,)))\n",
    "    model.add(layers.Dense(64, activation=\"relu\"))\n",
    "    model.add(layers.Dense(46, activation=\"softmax\"))  # 46 classes in the dataset\n",
    "    model.compile(optimizer=\"adam\", loss=\"categorical_crossentropy\", metrics=[\"accuracy\"])\n",
    "    return model\n",
    "\n",
    "def print_layer_tensor_shape(layer):\n",
    "    weight_params = model.layers[layer].get_weights()[0]\n",
    "    bias_params = model.layers[layer].get_weights()[1]\n",
    "    print(layer, \"\\t\", weight_params.shape, \"\\t\", bias_params.shape)"
   ]
  },
  {
   "cell_type": "code",
   "execution_count": 113,
   "id": "c710977e-9eff-4e33-b90c-30dc4f5c08dc",
   "metadata": {},
   "outputs": [
    {
     "data": {
      "text/html": [
       "<pre style=\"white-space:pre;overflow-x:auto;line-height:normal;font-family:Menlo,'DejaVu Sans Mono',consolas,'Courier New',monospace\"><span style=\"font-weight: bold\">Model: \"sequential_7\"</span>\n",
       "</pre>\n"
      ],
      "text/plain": [
       "\u001b[1mModel: \"sequential_7\"\u001b[0m\n"
      ]
     },
     "metadata": {},
     "output_type": "display_data"
    },
    {
     "data": {
      "text/html": [
       "<pre style=\"white-space:pre;overflow-x:auto;line-height:normal;font-family:Menlo,'DejaVu Sans Mono',consolas,'Courier New',monospace\">┏━━━━━━━━━━━━━━━━━━━━━━━━━━━━━━━━━┳━━━━━━━━━━━━━━━━━━━━━━━━┳━━━━━━━━━━━━━━━┓\n",
       "┃<span style=\"font-weight: bold\"> Layer (type)                    </span>┃<span style=\"font-weight: bold\"> Output Shape           </span>┃<span style=\"font-weight: bold\">       Param # </span>┃\n",
       "┡━━━━━━━━━━━━━━━━━━━━━━━━━━━━━━━━━╇━━━━━━━━━━━━━━━━━━━━━━━━╇━━━━━━━━━━━━━━━┩\n",
       "│ dense_21 (<span style=\"color: #0087ff; text-decoration-color: #0087ff\">Dense</span>)                │ (<span style=\"color: #00d7ff; text-decoration-color: #00d7ff\">None</span>, <span style=\"color: #00af00; text-decoration-color: #00af00\">64</span>)             │       <span style=\"color: #00af00; text-decoration-color: #00af00\">640,064</span> │\n",
       "├─────────────────────────────────┼────────────────────────┼───────────────┤\n",
       "│ dense_22 (<span style=\"color: #0087ff; text-decoration-color: #0087ff\">Dense</span>)                │ (<span style=\"color: #00d7ff; text-decoration-color: #00d7ff\">None</span>, <span style=\"color: #00af00; text-decoration-color: #00af00\">64</span>)             │         <span style=\"color: #00af00; text-decoration-color: #00af00\">4,160</span> │\n",
       "├─────────────────────────────────┼────────────────────────┼───────────────┤\n",
       "│ dense_23 (<span style=\"color: #0087ff; text-decoration-color: #0087ff\">Dense</span>)                │ (<span style=\"color: #00d7ff; text-decoration-color: #00d7ff\">None</span>, <span style=\"color: #00af00; text-decoration-color: #00af00\">46</span>)             │         <span style=\"color: #00af00; text-decoration-color: #00af00\">2,990</span> │\n",
       "└─────────────────────────────────┴────────────────────────┴───────────────┘\n",
       "</pre>\n"
      ],
      "text/plain": [
       "┏━━━━━━━━━━━━━━━━━━━━━━━━━━━━━━━━━┳━━━━━━━━━━━━━━━━━━━━━━━━┳━━━━━━━━━━━━━━━┓\n",
       "┃\u001b[1m \u001b[0m\u001b[1mLayer (type)                   \u001b[0m\u001b[1m \u001b[0m┃\u001b[1m \u001b[0m\u001b[1mOutput Shape          \u001b[0m\u001b[1m \u001b[0m┃\u001b[1m \u001b[0m\u001b[1m      Param #\u001b[0m\u001b[1m \u001b[0m┃\n",
       "┡━━━━━━━━━━━━━━━━━━━━━━━━━━━━━━━━━╇━━━━━━━━━━━━━━━━━━━━━━━━╇━━━━━━━━━━━━━━━┩\n",
       "│ dense_21 (\u001b[38;5;33mDense\u001b[0m)                │ (\u001b[38;5;45mNone\u001b[0m, \u001b[38;5;34m64\u001b[0m)             │       \u001b[38;5;34m640,064\u001b[0m │\n",
       "├─────────────────────────────────┼────────────────────────┼───────────────┤\n",
       "│ dense_22 (\u001b[38;5;33mDense\u001b[0m)                │ (\u001b[38;5;45mNone\u001b[0m, \u001b[38;5;34m64\u001b[0m)             │         \u001b[38;5;34m4,160\u001b[0m │\n",
       "├─────────────────────────────────┼────────────────────────┼───────────────┤\n",
       "│ dense_23 (\u001b[38;5;33mDense\u001b[0m)                │ (\u001b[38;5;45mNone\u001b[0m, \u001b[38;5;34m46\u001b[0m)             │         \u001b[38;5;34m2,990\u001b[0m │\n",
       "└─────────────────────────────────┴────────────────────────┴───────────────┘\n"
      ]
     },
     "metadata": {},
     "output_type": "display_data"
    },
    {
     "data": {
      "text/html": [
       "<pre style=\"white-space:pre;overflow-x:auto;line-height:normal;font-family:Menlo,'DejaVu Sans Mono',consolas,'Courier New',monospace\"><span style=\"font-weight: bold\"> Total params: </span><span style=\"color: #00af00; text-decoration-color: #00af00\">647,214</span> (2.47 MB)\n",
       "</pre>\n"
      ],
      "text/plain": [
       "\u001b[1m Total params: \u001b[0m\u001b[38;5;34m647,214\u001b[0m (2.47 MB)\n"
      ]
     },
     "metadata": {},
     "output_type": "display_data"
    },
    {
     "data": {
      "text/html": [
       "<pre style=\"white-space:pre;overflow-x:auto;line-height:normal;font-family:Menlo,'DejaVu Sans Mono',consolas,'Courier New',monospace\"><span style=\"font-weight: bold\"> Trainable params: </span><span style=\"color: #00af00; text-decoration-color: #00af00\">647,214</span> (2.47 MB)\n",
       "</pre>\n"
      ],
      "text/plain": [
       "\u001b[1m Trainable params: \u001b[0m\u001b[38;5;34m647,214\u001b[0m (2.47 MB)\n"
      ]
     },
     "metadata": {},
     "output_type": "display_data"
    },
    {
     "data": {
      "text/html": [
       "<pre style=\"white-space:pre;overflow-x:auto;line-height:normal;font-family:Menlo,'DejaVu Sans Mono',consolas,'Courier New',monospace\"><span style=\"font-weight: bold\"> Non-trainable params: </span><span style=\"color: #00af00; text-decoration-color: #00af00\">0</span> (0.00 B)\n",
       "</pre>\n"
      ],
      "text/plain": [
       "\u001b[1m Non-trainable params: \u001b[0m\u001b[38;5;34m0\u001b[0m (0.00 B)\n"
      ]
     },
     "metadata": {},
     "output_type": "display_data"
    }
   ],
   "source": [
    "# Building the model\n",
    "\n",
    "model = build_model()\n",
    "model.summary()"
   ]
  },
  {
   "cell_type": "markdown",
   "id": "c7ccd62f-1d4a-43b1-9386-b76057ccc402",
   "metadata": {},
   "source": [
    "<div class=\"alert alert-block alert-info\">  \n",
    "    <center><h2><strong>Training and testing</strong></h2></center>"
   ]
  },
  {
   "cell_type": "markdown",
   "id": "ef33b354-b8be-4abb-8c11-62b00b72d2c0",
   "metadata": {},
   "source": [
    "<div class=\"alert alert-block alert-warning\">  \n",
    "<b>Summary of the section </b> \n",
    "<hr>\n",
    "✅ Fixed the Output Layer: The original code had Dense(64, activation=\"softmax\"), but the Reuters dataset has 46 categories, so I updated it to Dense(46, activation=\"softmax\").\n",
    "✅ Used to_categorical(): This applies one-hot encoding to labels.\n",
    "✅ Added Model Compilation & Training: Used \"adam\" optimizer and \"categorical_crossentropy\" since it's a multi-class classification task.\n",
    "✅ Added Model Evaluation: Prints test accuracy after training.\n",
    "<hr>\n"
   ]
  },
  {
   "cell_type": "code",
   "execution_count": 114,
   "id": "1420cc89-d5d9-464f-a1b2-c25a33af1159",
   "metadata": {},
   "outputs": [
    {
     "name": "stdout",
     "output_type": "stream",
     "text": [
      "Epoch 1/20\n",
      "\u001b[1m18/18\u001b[0m \u001b[32m━━━━━━━━━━━━━━━━━━━━\u001b[0m\u001b[37m\u001b[0m \u001b[1m0s\u001b[0m 13ms/step - accuracy: 0.3463 - loss: 3.5806 - val_accuracy: 0.5864 - val_loss: 2.4387\n",
      "Epoch 2/20\n",
      "\u001b[1m18/18\u001b[0m \u001b[32m━━━━━━━━━━━━━━━━━━━━\u001b[0m\u001b[37m\u001b[0m \u001b[1m0s\u001b[0m 8ms/step - accuracy: 0.6214 - loss: 2.0672 - val_accuracy: 0.6741 - val_loss: 1.5536\n",
      "Epoch 3/20\n",
      "\u001b[1m18/18\u001b[0m \u001b[32m━━━━━━━━━━━━━━━━━━━━\u001b[0m\u001b[37m\u001b[0m \u001b[1m0s\u001b[0m 8ms/step - accuracy: 0.7240 - loss: 1.3215 - val_accuracy: 0.7102 - val_loss: 1.2913\n",
      "Epoch 4/20\n",
      "\u001b[1m18/18\u001b[0m \u001b[32m━━━━━━━━━━━━━━━━━━━━\u001b[0m\u001b[37m\u001b[0m \u001b[1m0s\u001b[0m 8ms/step - accuracy: 0.7881 - loss: 0.9817 - val_accuracy: 0.7502 - val_loss: 1.1516\n",
      "Epoch 5/20\n",
      "\u001b[1m18/18\u001b[0m \u001b[32m━━━━━━━━━━━━━━━━━━━━\u001b[0m\u001b[37m\u001b[0m \u001b[1m0s\u001b[0m 8ms/step - accuracy: 0.8396 - loss: 0.7631 - val_accuracy: 0.7729 - val_loss: 1.0537\n",
      "Epoch 6/20\n",
      "\u001b[1m18/18\u001b[0m \u001b[32m━━━━━━━━━━━━━━━━━━━━\u001b[0m\u001b[37m\u001b[0m \u001b[1m0s\u001b[0m 8ms/step - accuracy: 0.8852 - loss: 0.5721 - val_accuracy: 0.7823 - val_loss: 0.9921\n",
      "Epoch 7/20\n",
      "\u001b[1m18/18\u001b[0m \u001b[32m━━━━━━━━━━━━━━━━━━━━\u001b[0m\u001b[37m\u001b[0m \u001b[1m0s\u001b[0m 8ms/step - accuracy: 0.9130 - loss: 0.4407 - val_accuracy: 0.7912 - val_loss: 0.9584\n",
      "Epoch 8/20\n",
      "\u001b[1m18/18\u001b[0m \u001b[32m━━━━━━━━━━━━━━━━━━━━\u001b[0m\u001b[37m\u001b[0m \u001b[1m0s\u001b[0m 8ms/step - accuracy: 0.9236 - loss: 0.3503 - val_accuracy: 0.7872 - val_loss: 0.9595\n",
      "Epoch 9/20\n",
      "\u001b[1m18/18\u001b[0m \u001b[32m━━━━━━━━━━━━━━━━━━━━\u001b[0m\u001b[37m\u001b[0m \u001b[1m0s\u001b[0m 8ms/step - accuracy: 0.9375 - loss: 0.2853 - val_accuracy: 0.7974 - val_loss: 0.9501\n",
      "Epoch 10/20\n",
      "\u001b[1m18/18\u001b[0m \u001b[32m━━━━━━━━━━━━━━━━━━━━\u001b[0m\u001b[37m\u001b[0m \u001b[1m0s\u001b[0m 8ms/step - accuracy: 0.9473 - loss: 0.2253 - val_accuracy: 0.7965 - val_loss: 0.9627\n",
      "Epoch 11/20\n",
      "\u001b[1m18/18\u001b[0m \u001b[32m━━━━━━━━━━━━━━━━━━━━\u001b[0m\u001b[37m\u001b[0m \u001b[1m0s\u001b[0m 8ms/step - accuracy: 0.9529 - loss: 0.1880 - val_accuracy: 0.8005 - val_loss: 0.9737\n",
      "Epoch 12/20\n",
      "\u001b[1m18/18\u001b[0m \u001b[32m━━━━━━━━━━━━━━━━━━━━\u001b[0m\u001b[37m\u001b[0m \u001b[1m0s\u001b[0m 8ms/step - accuracy: 0.9587 - loss: 0.1734 - val_accuracy: 0.7916 - val_loss: 1.0072\n",
      "Epoch 13/20\n",
      "\u001b[1m18/18\u001b[0m \u001b[32m━━━━━━━━━━━━━━━━━━━━\u001b[0m\u001b[37m\u001b[0m \u001b[1m0s\u001b[0m 14ms/step - accuracy: 0.9597 - loss: 0.1394 - val_accuracy: 0.7921 - val_loss: 1.0173\n",
      "Epoch 14/20\n",
      "\u001b[1m18/18\u001b[0m \u001b[32m━━━━━━━━━━━━━━━━━━━━\u001b[0m\u001b[37m\u001b[0m \u001b[1m0s\u001b[0m 8ms/step - accuracy: 0.9596 - loss: 0.1341 - val_accuracy: 0.7956 - val_loss: 1.0291\n",
      "Epoch 15/20\n",
      "\u001b[1m18/18\u001b[0m \u001b[32m━━━━━━━━━━━━━━━━━━━━\u001b[0m\u001b[37m\u001b[0m \u001b[1m0s\u001b[0m 8ms/step - accuracy: 0.9580 - loss: 0.1345 - val_accuracy: 0.7947 - val_loss: 1.0487\n",
      "Epoch 16/20\n",
      "\u001b[1m18/18\u001b[0m \u001b[32m━━━━━━━━━━━━━━━━━━━━\u001b[0m\u001b[37m\u001b[0m \u001b[1m0s\u001b[0m 8ms/step - accuracy: 0.9582 - loss: 0.1280 - val_accuracy: 0.7947 - val_loss: 1.0551\n",
      "Epoch 17/20\n",
      "\u001b[1m18/18\u001b[0m \u001b[32m━━━━━━━━━━━━━━━━━━━━\u001b[0m\u001b[37m\u001b[0m \u001b[1m0s\u001b[0m 8ms/step - accuracy: 0.9623 - loss: 0.1060 - val_accuracy: 0.7947 - val_loss: 1.0679\n",
      "Epoch 18/20\n",
      "\u001b[1m18/18\u001b[0m \u001b[32m━━━━━━━━━━━━━━━━━━━━\u001b[0m\u001b[37m\u001b[0m \u001b[1m0s\u001b[0m 8ms/step - accuracy: 0.9582 - loss: 0.1115 - val_accuracy: 0.7907 - val_loss: 1.0893\n",
      "Epoch 19/20\n",
      "\u001b[1m18/18\u001b[0m \u001b[32m━━━━━━━━━━━━━━━━━━━━\u001b[0m\u001b[37m\u001b[0m \u001b[1m0s\u001b[0m 8ms/step - accuracy: 0.9629 - loss: 0.1071 - val_accuracy: 0.7970 - val_loss: 1.0947\n",
      "Epoch 20/20\n",
      "\u001b[1m18/18\u001b[0m \u001b[32m━━━━━━━━━━━━━━━━━━━━\u001b[0m\u001b[37m\u001b[0m \u001b[1m0s\u001b[0m 8ms/step - accuracy: 0.9640 - loss: 0.1027 - val_accuracy: 0.7898 - val_loss: 1.1227\n",
      "\u001b[1m71/71\u001b[0m \u001b[32m━━━━━━━━━━━━━━━━━━━━\u001b[0m\u001b[37m\u001b[0m \u001b[1m0s\u001b[0m 509us/step - accuracy: 0.7967 - loss: 1.0987\n",
      "Test accuracy: 0.7898\n"
     ]
    }
   ],
   "source": [
    "import numpy as np\n",
    "import tensorflow as tf\n",
    "from tensorflow.keras import models, layers\n",
    "from tensorflow.keras.datasets import reuters\n",
    "from tensorflow.keras.utils import to_categorical\n",
    "\n",
    "history = model.fit(vectorized_train_data, vectorized_train_labels, epochs=20, \n",
    "                    batch_size=512, \n",
    "                    validation_data=(vectorized_test_data, vectorized_test_labels))\n",
    "\n",
    "# Evaluate the model\n",
    "test_loss, test_acc = model.evaluate(vectorized_test_data, vectorized_test_labels)\n",
    "print(f\"Test accuracy: {test_acc:.4f}\")"
   ]
  },
  {
   "cell_type": "markdown",
   "id": "95c8086c-459e-4968-9e01-7c6fa03027c7",
   "metadata": {},
   "source": [
    "<div class=\"alert alert-block alert-info\">  \n",
    "    <center><h2><strong>Analyzing the results</strong></h2></center>"
   ]
  },
  {
   "cell_type": "markdown",
   "id": "22b678d5-c533-4b94-a5d0-371b4df1a53d",
   "metadata": {},
   "source": [
    "<div class=\"alert alert-block alert-warning\">  \n",
    "<b>How It Works: </b> \n",
    "<hr>\n",
    "Plots training values (e.g., loss or accuracy) using train_marker and train_label.\n",
    "Plots validation values with val_marker and val_label.\n",
    "Sets the title, x-axis, and y-axis labels.\n",
    "Displays the legend to differentiate training and validation.\n",
    "Calls plt.show() to render the plot.\n",
    "This function will correctly generate the training vs validation loss or accuracy graphs when used in your code! 🚀\n",
    "<hr>\n",
    "<div>"
   ]
  },
  {
   "cell_type": "code",
   "execution_count": 115,
   "id": "73bb8fa0-7b72-4e7c-a506-5aa244059ce7",
   "metadata": {},
   "outputs": [],
   "source": [
    "# Helper function for the results evaluation\n",
    "\n",
    "import matplotlib.pyplot as plt\n",
    "\n",
    "def plot_epochs(epochs, \n",
    "                train_values, train_marker, train_label, \n",
    "                val_values, val_marker, val_label, \n",
    "                title, xlabel, ylabel):\n",
    "    \"\"\"\n",
    "    Plots training and validation metrics over epochs.\n",
    "\n",
    "    Parameters:\n",
    "    epochs (list): List of epoch numbers.\n",
    "    train_values (list): Training metric values.\n",
    "    train_marker (str): Marker style for training plot.\n",
    "    train_label (str): Label for training plot.\n",
    "    val_values (list): Validation metric values.\n",
    "    val_marker (str): Marker style for validation plot.\n",
    "    val_label (str): Label for validation plot.\n",
    "    title (str): Title of the plot.\n",
    "    xlabel (str): Label for x-axis.\n",
    "    ylabel (str): Label for y-axis.\n",
    "    \"\"\"\n",
    "    plt.plot(epochs, train_values, train_marker, label=train_label)\n",
    "    plt.plot(epochs, val_values, val_marker, label=val_label)\n",
    "    plt.title(title)\n",
    "    plt.xlabel(xlabel)\n",
    "    plt.ylabel(ylabel)\n",
    "    plt.legend()\n",
    "    plt.show()"
   ]
  },
  {
   "cell_type": "code",
   "execution_count": 116,
   "id": "35cdf45b-4ce7-40d1-aa02-fefad657fc78",
   "metadata": {},
   "outputs": [
    {
     "data": {
      "image/png": "[encoded data removed]",
      "text/plain": [
       "<Figure size 640x480 with 1 Axes>"
      ]
     },
     "metadata": {},
     "output_type": "display_data"
    }
   ],
   "source": [
    "# Plotting the loss for training and validation\n",
    "\n",
    "loss = history.history['loss']\n",
    "val_loss = history.history['val_loss']\n",
    "\n",
    "plot_epochs(range(1, len(loss) + 1), \n",
    "            loss, \n",
    "            \"bo\", \"Training\", \n",
    "            val_loss, \"b\", \"Validation\", \n",
    "            \"Training and validation loss\", \n",
    "            \"Epochs\", \"Loss\")"
   ]
  },
  {
   "cell_type": "code",
   "execution_count": 117,
   "id": "c24b0fd3-a39a-4648-be08-824482c6d71c",
   "metadata": {},
   "outputs": [
    {
     "data": {
      "image/png": "[encoded data removed]",
      "text/plain": [
       "<Figure size 640x480 with 1 Axes>"
      ]
     },
     "metadata": {},
     "output_type": "display_data"
    }
   ],
   "source": [
    "# Plotting the accuracy for training and validation\n",
    "\n",
    "accuracy = history.history['accuracy']\n",
    "val_accuracy = history.history['val_accuracy']\n",
    "\n",
    "plot_epochs(range(1, len(loss) + 1), \n",
    "            accuracy, \n",
    "            \"bo\", \"Training\", \n",
    "            val_accuracy, \"b\", \"Validation\", \n",
    "            \"Training and validation accuracy\", \n",
    "            \"Epochs\", \"Loss\")"
   ]
  },
  {
   "cell_type": "markdown",
   "id": "fc589a56-305c-4b78-808c-80b500aab8ce",
   "metadata": {},
   "source": [
    "<div class=\"alert alert-block alert-info\">  \n",
    "    <center><h2><strong>Predicting on new data</strong></h2></center>"
   ]
  },
  {
   "cell_type": "markdown",
   "id": "7083e233-587a-4156-821c-c57c25b038a3",
   "metadata": {},
   "source": [
    "<div class=\"alert alert-block alert-warning\">  \n",
    "<b>How It Works: </b> \n",
    "<hr>\n",
    "Load new unseen data: We take test samples from the Reuters dataset.\n",
    "Vectorize the sequences: Convert them into the same format as training data.\n",
    "Predict using the trained model: Outputs class probabilities (softmax values).\n",
    "Get the predicted class: Use np.argmax() to find the most likely class.\n",
    "Compare predictions to actual values: Check how well the model performs.\n",
    "This will allow you to predict the category of new news articles using the trained model.\n",
    "<hr>\n",
    "<div>"
   ]
  },
  {
   "cell_type": "code",
   "execution_count": 129,
   "id": "11ef13a4-8625-4a62-95d6-f4c1bfa77e36",
   "metadata": {},
   "outputs": [],
   "source": [
    "# Helper functions for prediction\n",
    "\n",
    "# TODO: Fix function below\n",
    "# Function to count number of correct predictions\n",
    "def count_correct_predictions(y_test, predicted_classes):    \n",
    "    true_classes = np.argmax(y_test, axis=1)\n",
    "    \n",
    "    return np.sum(predicted_classes == true_classes)\n",
    "    \n",
    "\n",
    "# Function to decode a news article\n",
    "def decode_article(encoded_article):\n",
    "    word_index = reuters.get_word_index()\n",
    "    \n",
    "    # Invert the word index to map integers back to words\n",
    "    index_to_word = {index + 3: word for word, index in word_index.items()}\n",
    "\n",
    "    # Special indices for padding, start of sequence, etc.\n",
    "    index_to_word[0] = \"[PAD]\"    # Padding token\n",
    "    index_to_word[1] = \"[START]\"  # Start of sequence token\n",
    "    index_to_word[2] = \"[UNK]\"    # Unknown word token\n",
    "    \n",
    "    return \" \".join(index_to_word.get(i, \"[UNK]\") for i in encoded_article)\n",
    "\n",
    "# TODO: Replace the actual and expected by the class text instead of text value\n",
    "# Function to print all the mispredictions up until n\n",
    "def get_misprediction(n, x_test_texts, x_test_vectorized, y_test, predictions, predicted_classes):\n",
    "    if n  > len(y_test):\n",
    "        return None\n",
    "    \n",
    "    for i in range(n):\n",
    "        if predicted_classes[i] != y_test[i]:  # If prediction is incorrect\n",
    "            print(f\"Text: {decode_article(x_test_texts[i])}\\nPredicted: {predicted_classes[i]}, Expected: {y_test[i]}\\n\")"
   ]
  },
  {
   "cell_type": "code",
   "execution_count": 136,
   "id": "2a15d821-1439-4d19-abaa-b4df2835b3e7",
   "metadata": {},
   "outputs": [
    {
     "name": "stdout",
     "output_type": "stream",
     "text": [
      "\u001b[1m71/71\u001b[0m \u001b[32m━━━━━━━━━━━━━━━━━━━━\u001b[0m\u001b[37m\u001b[0m \u001b[1m0s\u001b[0m 525us/step\n",
      "Text: [START] [UNK] [UNK] oil and gas partnership said it completed the sale of interests in two major oil and gas fields to lt energy assets international corp for 21 mln dlrs the company said it sold about one half of its 50 pct interest in the oak hill and north [UNK] fields its two largest producing properties it said it used about 20 mln dlrs of the proceeds to [UNK] principal on its senior secured notes semi annual principal payments on the remaining 40 mln dlrs of notes have been satisfied until december 1988 as a result it said the company said the note agreements were amended to reflect an easing of some financial covenants and an increase of interest to 13 5 pct from 13 0 pct until december 1990 it said the [UNK] exercise price for 1 125 000 warrants was also reduced to 50 cts from 1 50 dlrs the company said energy assets agreed to share the costs of increasing production at the oak hill field reuter 3\n",
      "Predicted: 16, Expected: 4\n",
      "\n",
      "Text: [START] strong south [UNK] winds were keeping many vessels trapped in the ice off the finnish and swedish coasts in one of the worst icy periods in the baltic for many years the finnish board of navigation said in finland and sweden up to 50 vessels were reported to be stuck in the ice and even the largest of the [UNK] [UNK] were having difficulties in breaking through to the [UNK] ships [UNK] officials said however icy conditions in the southern baltic at the soviet oil ports of [UNK] and [UNK] had eased they said weather officials in neighbouring sweden said the icy conditions in the baltic were the worst for 30 years with ships fighting a losing battle to keep moving in the coastal stretches of the gulf of [UNK] which [UNK] finland and sweden the ice is up to one [UNK] thick with [UNK] and [UNK] packing it into almost [UNK] walls three metres high swedish [UNK] officials said weather forecasts say winds may ease during the weekend but a further drop in temperature could bring shipping to a standstill the officials said reuter 3\n",
      "Predicted: 13, Expected: 4\n",
      "\n"
     ]
    }
   ],
   "source": [
    "# Make predictions on unseen data\n",
    "predictions = model.predict(vectorized_test_data)\n",
    "\n",
    "# Convert softmax output to class labels\n",
    "predicted_classes = np.argmax(predictions, axis=1)\n",
    "\n",
    "# Showing examples of the results an example of a misprediction\n",
    "get_misprediction(5, test_data, vectorized_test_data, test_labels, predictions, predicted_classes)"
   ]
  },
  {
   "cell_type": "code",
   "execution_count": 139,
   "id": "212efb32-1da7-4050-83e4-d38ba1da8140",
   "metadata": {},
   "outputs": [],
   "source": [
    "# TODO> Fix\n",
    "# predicted_classes = np.argmax(predictions, axis=1)\n",
    "\n",
    "# correct_predictions = count_correct_predictions(test_data, predicted_classes)\n",
    "# print(\"Number of correct predictions: \", correct_predictions)"
   ]
  },
  {
   "cell_type": "markdown",
   "id": "febb328d-3a95-438a-a8e9-30c1322088c5",
   "metadata": {},
   "source": [
    "<div class=\"alert alert-block alert-info\">  \n",
    "    <center><h2><strong>Model tuning</strong></h2></center>"
   ]
  },
  {
   "cell_type": "markdown",
   "id": "e878d6f5-32bb-4554-945b-fefd7431f069",
   "metadata": {},
   "source": [
    "<div class=\"alert alert-block alert-warning\">  \n",
    "<b>How It Works: </b> \n",
    "<hr>\n",
    "The model above is overfitting. The training accuracy reaches 96%, while the validation accuracy stagnates around 79-80% and the loss starts increasing after a few epochs. To optimize the model, we need to apply regularization, better dropout, and fine-tune hyperparameters.\n",
    "<hr>\n",
    "    Expected Improvements\n",
    "Aspect\tBefore Optimization\tAfter Optimization\n",
    "Training Accuracy\t96%\t~85-90%\n",
    "Validation Accuracy\t79-80%\t82-85%\n",
    "Overfitting\tSevere\tReduced\n",
    "Loss Divergence\tIncreasing after 10 epochs\tMore stable\n",
    "<div>"
   ]
  },
  {
   "cell_type": "code",
   "execution_count": 141,
   "id": "e82cc757-dfe2-49d4-b3f0-b9f63b333ed7",
   "metadata": {},
   "outputs": [
    {
     "name": "stdout",
     "output_type": "stream",
     "text": [
      "Epoch 1/20\n",
      "\u001b[1m18/18\u001b[0m \u001b[32m━━━━━━━━━━━━━━━━━━━━\u001b[0m\u001b[37m\u001b[0m \u001b[1m1s\u001b[0m 15ms/step - accuracy: 0.1857 - loss: 3.7893 - val_accuracy: 0.5058 - val_loss: 2.9506\n",
      "Epoch 2/20\n",
      "\u001b[1m18/18\u001b[0m \u001b[32m━━━━━━━━━━━━━━━━━━━━\u001b[0m\u001b[37m\u001b[0m \u001b[1m0s\u001b[0m 9ms/step - accuracy: 0.4479 - loss: 2.8191 - val_accuracy: 0.5868 - val_loss: 2.0182\n",
      "Epoch 3/20\n",
      "\u001b[1m18/18\u001b[0m \u001b[32m━━━━━━━━━━━━━━━━━━━━\u001b[0m\u001b[37m\u001b[0m \u001b[1m0s\u001b[0m 9ms/step - accuracy: 0.5442 - loss: 2.0998 - val_accuracy: 0.6367 - val_loss: 1.7225\n",
      "Epoch 4/20\n",
      "\u001b[1m18/18\u001b[0m \u001b[32m━━━━━━━━━━━━━━━━━━━━\u001b[0m\u001b[37m\u001b[0m \u001b[1m0s\u001b[0m 8ms/step - accuracy: 0.6088 - loss: 1.7677 - val_accuracy: 0.6803 - val_loss: 1.5586\n",
      "Epoch 5/20\n",
      "\u001b[1m18/18\u001b[0m \u001b[32m━━━━━━━━━━━━━━━━━━━━\u001b[0m\u001b[37m\u001b[0m \u001b[1m0s\u001b[0m 9ms/step - accuracy: 0.6471 - loss: 1.6073 - val_accuracy: 0.6906 - val_loss: 1.4698\n",
      "Epoch 6/20\n",
      "\u001b[1m18/18\u001b[0m \u001b[32m━━━━━━━━━━━━━━━━━━━━\u001b[0m\u001b[37m\u001b[0m \u001b[1m0s\u001b[0m 8ms/step - accuracy: 0.6670 - loss: 1.5198 - val_accuracy: 0.7012 - val_loss: 1.4122\n",
      "Epoch 7/20\n",
      "\u001b[1m18/18\u001b[0m \u001b[32m━━━━━━━━━━━━━━━━━━━━\u001b[0m\u001b[37m\u001b[0m \u001b[1m0s\u001b[0m 8ms/step - accuracy: 0.6981 - loss: 1.4031 - val_accuracy: 0.7110 - val_loss: 1.3688\n",
      "Epoch 8/20\n",
      "\u001b[1m18/18\u001b[0m \u001b[32m━━━━━━━━━━━━━━━━━━━━\u001b[0m\u001b[37m\u001b[0m \u001b[1m0s\u001b[0m 8ms/step - accuracy: 0.7057 - loss: 1.3593 - val_accuracy: 0.7235 - val_loss: 1.3289\n",
      "Epoch 9/20\n",
      "\u001b[1m18/18\u001b[0m \u001b[32m━━━━━━━━━━━━━━━━━━━━\u001b[0m\u001b[37m\u001b[0m \u001b[1m0s\u001b[0m 9ms/step - accuracy: 0.7315 - loss: 1.2862 - val_accuracy: 0.7280 - val_loss: 1.3046\n",
      "Epoch 10/20\n",
      "\u001b[1m18/18\u001b[0m \u001b[32m━━━━━━━━━━━━━━━━━━━━\u001b[0m\u001b[37m\u001b[0m \u001b[1m0s\u001b[0m 8ms/step - accuracy: 0.7405 - loss: 1.2182 - val_accuracy: 0.7373 - val_loss: 1.2885\n",
      "Epoch 11/20\n",
      "\u001b[1m18/18\u001b[0m \u001b[32m━━━━━━━━━━━━━━━━━━━━\u001b[0m\u001b[37m\u001b[0m \u001b[1m0s\u001b[0m 9ms/step - accuracy: 0.7499 - loss: 1.1995 - val_accuracy: 0.7449 - val_loss: 1.2702\n",
      "Epoch 12/20\n",
      "\u001b[1m18/18\u001b[0m \u001b[32m━━━━━━━━━━━━━━━━━━━━\u001b[0m\u001b[37m\u001b[0m \u001b[1m0s\u001b[0m 9ms/step - accuracy: 0.7576 - loss: 1.1786 - val_accuracy: 0.7458 - val_loss: 1.2579\n",
      "Epoch 13/20\n",
      "\u001b[1m18/18\u001b[0m \u001b[32m━━━━━━━━━━━━━━━━━━━━\u001b[0m\u001b[37m\u001b[0m \u001b[1m0s\u001b[0m 9ms/step - accuracy: 0.7632 - loss: 1.1496 - val_accuracy: 0.7556 - val_loss: 1.2466\n",
      "Epoch 14/20\n",
      "\u001b[1m18/18\u001b[0m \u001b[32m━━━━━━━━━━━━━━━━━━━━\u001b[0m\u001b[37m\u001b[0m \u001b[1m0s\u001b[0m 9ms/step - accuracy: 0.7648 - loss: 1.1216 - val_accuracy: 0.7596 - val_loss: 1.2402\n",
      "Epoch 15/20\n",
      "\u001b[1m18/18\u001b[0m \u001b[32m━━━━━━━━━━━━━━━━━━━━\u001b[0m\u001b[37m\u001b[0m \u001b[1m0s\u001b[0m 9ms/step - accuracy: 0.7884 - loss: 1.0450 - val_accuracy: 0.7645 - val_loss: 1.2314\n",
      "Epoch 16/20\n",
      "\u001b[1m18/18\u001b[0m \u001b[32m━━━━━━━━━━━━━━━━━━━━\u001b[0m\u001b[37m\u001b[0m \u001b[1m0s\u001b[0m 9ms/step - accuracy: 0.7837 - loss: 1.0652 - val_accuracy: 0.7640 - val_loss: 1.2280\n",
      "Epoch 17/20\n",
      "\u001b[1m18/18\u001b[0m \u001b[32m━━━━━━━━━━━━━━━━━━━━\u001b[0m\u001b[37m\u001b[0m \u001b[1m0s\u001b[0m 9ms/step - accuracy: 0.7912 - loss: 1.0466 - val_accuracy: 0.7658 - val_loss: 1.2252\n",
      "Epoch 18/20\n",
      "\u001b[1m18/18\u001b[0m \u001b[32m━━━━━━━━━━━━━━━━━━━━\u001b[0m\u001b[37m\u001b[0m \u001b[1m0s\u001b[0m 9ms/step - accuracy: 0.8011 - loss: 1.0069 - val_accuracy: 0.7711 - val_loss: 1.2238\n",
      "Epoch 19/20\n",
      "\u001b[1m18/18\u001b[0m \u001b[32m━━━━━━━━━━━━━━━━━━━━\u001b[0m\u001b[37m\u001b[0m \u001b[1m0s\u001b[0m 17ms/step - accuracy: 0.8003 - loss: 1.0013 - val_accuracy: 0.7725 - val_loss: 1.2197\n",
      "Epoch 20/20\n",
      "\u001b[1m18/18\u001b[0m \u001b[32m━━━━━━━━━━━━━━━━━━━━\u001b[0m\u001b[37m\u001b[0m \u001b[1m0s\u001b[0m 9ms/step - accuracy: 0.8016 - loss: 0.9984 - val_accuracy: 0.7689 - val_loss: 1.2248\n",
      "\u001b[1m71/71\u001b[0m \u001b[32m━━━━━━━━━━━━━━━━━━━━\u001b[0m\u001b[37m\u001b[0m \u001b[1m0s\u001b[0m 593us/step - accuracy: 0.7760 - loss: 1.2176\n",
      "Optimized Test Accuracy: 0.7680\n"
     ]
    }
   ],
   "source": [
    "import tensorflow as tf\n",
    "from tensorflow.keras import models, layers, regularizers, callbacks\n",
    "\n",
    "# Define the optimized model\n",
    "def build_optimized_model():\n",
    "    model = models.Sequential([\n",
    "        layers.Dense(64, activation=\"relu\", input_shape=(10000,), \n",
    "                     kernel_regularizer=regularizers.l2(0.001)),  # L2 regularization\n",
    "        layers.Dropout(0.5),  # Dropout to reduce overfitting\n",
    "        layers.Dense(32, activation=\"relu\", kernel_regularizer=regularizers.l2(0.001)),\n",
    "        layers.Dropout(0.3),\n",
    "        layers.Dense(46, activation=\"softmax\")  # Output layer\n",
    "    ])\n",
    "    \n",
    "    # Compile the model\n",
    "    model.compile(\n",
    "        optimizer=tf.keras.optimizers.Adam(learning_rate=0.001),  # Lower learning rate\n",
    "        loss=\"categorical_crossentropy\",\n",
    "        metrics=[\"accuracy\"]\n",
    "    )\n",
    "    \n",
    "    return model\n",
    "\n",
    "# Early stopping callback\n",
    "early_stopping = callbacks.EarlyStopping(monitor=\"val_loss\", patience=5, restore_best_weights=True)\n",
    "\n",
    "# Train the model\n",
    "optimized_model = build_optimized_model()\n",
    "optimized_model_history = optimized_model.fit(\n",
    "    vectorized_train_data, vectorized_train_labels,\n",
    "    epochs=20, batch_size=512,\n",
    "    validation_data=(vectorized_test_data, vectorized_test_labels),\n",
    "    callbacks=[early_stopping]\n",
    ")\n",
    "\n",
    "# Evaluate on test set\n",
    "optimized_test_loss, optimized_test_acc = model.evaluate(vectorized_test_data, vectorized_test_labels)\n",
    "print(f\"Optimized Test Accuracy: {optimized_test_acc:.4f}\")\n"
   ]
  },
  {
   "cell_type": "code",
   "execution_count": 142,
   "id": "ab46470e-9cfe-4f81-a3ea-568618a7e2c4",
   "metadata": {},
   "outputs": [
    {
     "data": {
      "image/png": "[encoded data removed]",
      "text/plain": [
       "<Figure size 640x480 with 1 Axes>"
      ]
     },
     "metadata": {},
     "output_type": "display_data"
    }
   ],
   "source": [
    "# Plotting the loss for training and validation\n",
    "\n",
    "optimized_loss = optimized_model_history.history['loss']\n",
    "optimized_val_loss = optimized_model_history.history['val_loss']\n",
    "\n",
    "plot_epochs(range(1, len(loss) + 1), \n",
    "            optimized_loss, \n",
    "            \"bo\", \"Training\", \n",
    "            optimized_val_loss, \"b\", \"Validation\", \n",
    "            \"Training and validation loss\", \n",
    "            \"Epochs\", \"Loss\")"
   ]
  },
  {
   "cell_type": "code",
   "execution_count": 143,
   "id": "deab51c9-703d-4c25-b6dd-7b35ea91ae4e",
   "metadata": {},
   "outputs": [
    {
     "data": {
      "image/png": "[encoded data removed]",
      "text/plain": [
       "<Figure size 640x480 with 1 Axes>"
      ]
     },
     "metadata": {},
     "output_type": "display_data"
    }
   ],
   "source": [
    "# Plotting the accuracy for training and validation\n",
    "\n",
    "optimized_model_accuracy = optimized_model_history.history['accuracy']\n",
    "optimized_model_val_accuracy = optimized_model_history.history['val_accuracy']\n",
    "\n",
    "plot_epochs(range(1, len(loss) + 1), \n",
    "            optimized_model_accuracy, \n",
    "            \"bo\", \"Training\", \n",
    "            optimized_model_val_accuracy, \"b\", \"Validation\", \n",
    "            \"Training and validation accuracy\", \n",
    "            \"Epochs\", \"Loss\")"
   ]
  },
  {
   "cell_type": "markdown",
   "id": "47c9c9d0-6247-43db-af79-3499789f1766",
   "metadata": {},
   "source": [
    "<div class=\"alert alert-block alert-info\">  \n",
    "    <center><h2><strong>Evaluation</strong></h2></center>"
   ]
  },
  {
   "cell_type": "markdown",
   "id": "591a7b16-0f9e-4041-8640-186455cfe83b",
   "metadata": {},
   "source": [
    "<div class=\"alert alert-block alert-warning\">  \n",
    "<b>How It Works: </b> \n",
    "<hr>\n",
    "<ul>\n",
    "    <li>1. ???</li>\n",
    "</ul>\n",
    "\n",
    "<hr>\n",
    "\n",
    "<div>"
   ]
  },
  {
   "cell_type": "code",
   "execution_count": null,
   "id": "fa9bf8e8-ac09-4123-8167-73f54f8a3657",
   "metadata": {},
   "outputs": [],
   "source": []
  }
 ],
 "metadata": {
  "kernelspec": {
   "display_name": "Python 3 (ipykernel)",
   "language": "python",
   "name": "python3"
  },
  "language_info": {
   "codemirror_mode": {
    "name": "ipython",
    "version": 3
   },
   "file_extension": ".py",
   "mimetype": "text/x-python",
   "name": "python",
   "nbconvert_exporter": "python",
   "pygments_lexer": "ipython3",
   "version": "3.12.6"
  }
 },
 "nbformat": 4,
 "nbformat_minor": 5
}
